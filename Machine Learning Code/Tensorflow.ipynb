{
  "nbformat": 4,
  "nbformat_minor": 0,
  "metadata": {
    "colab": {
      "name": "Tensorflow.ipynb",
      "provenance": [],
      "collapsed_sections": [],
      "toc_visible": true,
      "authorship_tag": "ABX9TyOoR68geMU2CKQD9dDfpnvv",
      "include_colab_link": true
    },
    "kernelspec": {
      "name": "python3",
      "display_name": "Python 3"
    }
  },
  "cells": [
    {
      "cell_type": "markdown",
      "metadata": {
        "id": "view-in-github",
        "colab_type": "text"
      },
      "source": [
        "<a href=\"https://colab.research.google.com/github/dhguslee/leedo/blob/main/Machine%20Learning%20Code/Tensorflow.ipynb\" target=\"_parent\"><img src=\"https://colab.research.google.com/assets/colab-badge.svg\" alt=\"Open In Colab\"/></a>"
      ]
    },
    {
      "cell_type": "markdown",
      "metadata": {
        "id": "SCAJ58sadW_Y"
      },
      "source": [
        "# **Tensorflow**\r\n",
        "---"
      ]
    },
    {
      "cell_type": "markdown",
      "metadata": {
        "id": "ryQ53pfIhmb5"
      },
      "source": [
        "## **1. Tensorflow ?**"
      ]
    },
    {
      "cell_type": "markdown",
      "metadata": {
        "id": "v47zJRT_eGz2"
      },
      "source": [
        "### **1) Tensorflow Installation**"
      ]
    },
    {
      "cell_type": "code",
      "metadata": {
        "id": "KRAkfrBXdaAN"
      },
      "source": [
        "# !pip install tensorflow\r\n",
        "# !pip intall tensorflow-gpu   # GPU용 텐서플로.  (+ CUDA 툴킷과 NVIDIA cuDNN 설치 필요)\r\n",
        "# !python -c \"import tensorflow as tf ; print(tf.__version__)\"   # Tensorflow version 확인"
      ],
      "execution_count": null,
      "outputs": []
    },
    {
      "cell_type": "markdown",
      "metadata": {
        "id": "t8Aj4_H8eO3l"
      },
      "source": [
        "### **2) Tensorflow 1.x 방식의 저수준 API**\r\n",
        "\\\r\n",
        "　　그래프 정의 단계와 실행 단계로 크게 나누어져 있다.\r\n",
        "\r\n",
        "　　\r\n",
        "$ z = w \\times x + b$\r\n",
        "\r\n"
      ]
    },
    {
      "cell_type": "code",
      "metadata": {
        "id": "VHqqPcUYeZeU"
      },
      "source": [
        "import tensorflow as tf\r\n",
        "\r\n",
        "### 그래프 생성\r\n",
        "\r\n",
        "g = tf.Graph()\r\n",
        "\r\n",
        "with g.as_default() :\r\n",
        "  x = tf.compat.v1.placeholder(dtype = tf.float32, \r\n",
        "                               shape = (None), \r\n",
        "                               name = \"x\")\r\n",
        "  w = tf.Variable(2.0, name = \"weight\")\r\n",
        "  b = tf.Variable(0.7, name = \"bias\")\r\n",
        "\r\n",
        "  z = w * x + b\r\n",
        "\r\n",
        "  init = tf.compat.v1.global_variables_initializer()\r\n",
        "\r\n",
        "\r\n",
        "### 세션 만들고 그래프 g를 전달\r\n",
        "\r\n",
        "with tf.compat.v1.Session(graph = g) as sess :\r\n",
        "\r\n",
        "  # w 와 b를 초기화\r\n",
        "  sess.run(init)\r\n",
        "\r\n",
        "  # z를 평가\r\n",
        "  for t in [1.0, 0.6, -1.8] :\r\n",
        "    print(\"x = %4.1f --> z = %4.1f\"%(t, sess.run(z, feed_dict = {x : t})))"
      ],
      "execution_count": null,
      "outputs": []
    },
    {
      "cell_type": "code",
      "metadata": {
        "id": "E9cZN2Jxf7cI"
      },
      "source": [
        "with tf.compat.v1.Session(graph = g) as sess :\r\n",
        "  sess.run(init)\r\n",
        "  print(sess.run(z, feed_dict = {x : [1., 2., 3.]}))\r\n",
        "\r\n",
        "print(z)"
      ],
      "execution_count": null,
      "outputs": []
    },
    {
      "cell_type": "markdown",
      "metadata": {
        "id": "UZwDvtLogwrR"
      },
      "source": [
        "### **3) Tensorflow 2.x 방식의 저수준 API**\r\n",
        "\\\r\n",
        "　　즉시 실행 단계 방식\r\n",
        "\r\n",
        "　　\r\n",
        "$ z = w \\times x + b$\r\n",
        "\r\n"
      ]
    },
    {
      "cell_type": "markdown",
      "metadata": {
        "id": "fP8mvuGvg78E"
      },
      "source": [
        "w = tf.Variable(2.0, name = \"weight\")\r\n",
        "b = tf.Variable(0.7, name = \"bias\")\r\n",
        "\r\n",
        "\r\n",
        "### z를 평가\r\n",
        "for x in [1.0, 0.6, -1.8] :\r\n",
        "  z = w * x + b\r\n",
        "  print(\"x = %4.1f --> z = %4.1f\"%(x, z))"
      ]
    },
    {
      "cell_type": "code",
      "metadata": {
        "id": "AR0QWepWhTZ2"
      },
      "source": [
        "print(z)\r\n",
        "\r\n",
        "z = w * [1., 2., 3.] + b\r\n",
        "print(z.numpy())"
      ],
      "execution_count": null,
      "outputs": []
    },
    {
      "cell_type": "markdown",
      "metadata": {
        "id": "K4-D1WgkhyZq"
      },
      "source": [
        "### **4) 배열 구조 다루기**\r\n",
        "\\\r\n",
        "1. 3x2x3 크기의 간단한 랭크3 텐서 생성\r\n",
        "\r\n",
        "\r\n",
        "2. 그 다음 크기를 바꾸도 텐서플로의 최적화된 연산을 사용해 각 열의 합을 계산."
      ]
    },
    {
      "cell_type": "code",
      "metadata": {
        "id": "vUQlFl5Ah273"
      },
      "source": [
        "import tensorflow as tf\r\n",
        "import numpy as np\r\n",
        "\r\n",
        "x_array = np.arange(18).reshape(3, 2, 3)\r\n",
        "\r\n",
        "x2 = tf.reshape(x_array, shape = (-1, 6))\r\n",
        "\r\n",
        "\r\n",
        "### 각 열의 합을 계산\r\n",
        "xsum = tf.reduce_sum(x2, axis = 0)\r\n",
        "\r\n",
        "### 각 열의 평균을 계산\r\n",
        "xmean = tf.reduce_mean(x2, axis = 0)\r\n",
        "\r\n",
        "print(\"입력 크기 : \", x_array.shape)\r\n",
        "print(\"크기가 변경된 입력:\\n \", x2.numpy())\r\n",
        "print(\"열의 합:\\n\", xsum.numpy())\r\n",
        "print(\"열의 평균:\\n\", xmean.numpy())\r\n"
      ],
      "execution_count": null,
      "outputs": []
    },
    {
      "cell_type": "markdown",
      "metadata": {
        "id": "2G_r8wbEjBlQ"
      },
      "source": [
        "### **5) Tensorflow 저수준 API로 간단한 모델 개발**\r\n",
        "\\\r\n",
        "　　\"최소 제곱법 (OLS, Ordinary Least Sqaures)\""
      ]
    },
    {
      "cell_type": "code",
      "metadata": {
        "id": "Wp10JDRjjYIy"
      },
      "source": [
        "import tensorflow as tf\r\n",
        "import numpy as np\r\n",
        "\r\n",
        "X_train = np.arange(10).reshape((10, 1))\r\n",
        "y_train = np.array([1.0, 1.3, 3.1,\r\n",
        "                    2.0, 5.0, 6.3,\r\n",
        "                    6.6, 7.4, 8.0,\r\n",
        "                    9.0])\r\n",
        "\r\n",
        "class TFLinreg(object) :\r\n",
        "\r\n",
        "  def __init__(self, learning_rate = 0.01) :\r\n",
        "\r\n",
        "    ### 가중치와 절편 정의\r\n",
        "    self.w = tf.Variable(tf.zeros(shape = (1)))\r\n",
        "    self.b = tf.Variable(tf.zeros(shape = (1)))\r\n",
        "\r\n",
        "    ### 경사 하강법 옵티마이저를 설정\r\n",
        "    self.optimizer = tf.keras.optimizers.SGD(lr = learning_rate)\r\n",
        "\r\n",
        "  def fit(self, X, y, num_epochs = 10) :\r\n",
        "    \r\n",
        "    ### 비용 함수의 값을 저장하기 위한 리스트를 정의\r\n",
        "    training_costs = []\r\n",
        "    \r\n",
        "    for step in range(num_epochs) :\r\n",
        "    \r\n",
        "      ### 자동 미분을 위해 연산 과정을 기록\r\n",
        "      with tf.GradientTape() as tape :\r\n",
        "        z_net = self.w * X + self.b\r\n",
        "        z_net = tf.reshape(z_net, [-1])\r\n",
        "        sqr_errors = tf.square(y - z_net)\r\n",
        "        mean_cost = tf.reduce_mean(sqr_errors)\r\n",
        "\r\n",
        "      ### 비용 함수에 대한 가중치의 그래디언트를 계산\r\n",
        "      grads = tape.gradient(mean_cost, [self.w, self.b])\r\n",
        "\r\n",
        "      ### 옵티마이저에 그래디언트 반영\r\n",
        "      self.optimizer.apply_gradients(zip(grads, [self.w, self.b]))\r\n",
        "\r\n",
        "      ### 비용 함수의 값 저장\r\n",
        "      training_costs.append(mean_cost.numpy())\r\n",
        "\r\n",
        "    return training_costs\r\n",
        "  \r\n",
        "  def predict(self, X) :\r\n",
        "    return self.w * X + self.b"
      ],
      "execution_count": null,
      "outputs": []
    },
    {
      "cell_type": "code",
      "metadata": {
        "id": "QoOyguuplWTp"
      },
      "source": [
        "lrmodel = TFLinreg()\r\n",
        "\r\n",
        "training_costs = lrmodel.fit(X_train, y_train)\r\n",
        "\r\n",
        "import matplotlib.pyplot as plt\r\n",
        "plt.plot(range(1, len(training_costs) + 1), training_costs)\r\n",
        "plt.tight_layout()\r\n",
        "plt.xlabel(\"Epochs\")\r\n",
        "plt.ylabel(\"Training Cost\")\r\n",
        "plt.show()\r\n"
      ],
      "execution_count": null,
      "outputs": []
    },
    {
      "cell_type": "code",
      "metadata": {
        "id": "BSztBTkUluXV"
      },
      "source": [
        "plt.scatter(X_train, y_train,\r\n",
        "            marker = \"s\", s= 50,\r\n",
        "            label = \"Training Data\")\r\n",
        "\r\n",
        "plt.plot(range(X_train.shape[0]),\r\n",
        "         lrmodel.predict(X_train),\r\n",
        "         color = \"gray\", marker = \"o\",\r\n",
        "         markersize = 6, linewidth = 3,\r\n",
        "         label = \"LinReg Model\")\r\n",
        "\r\n",
        "plt.xlabel(\"x\")\r\n",
        "plt.ylabel(\"y\")\r\n",
        "plt.legend()\r\n",
        "plt.tight_layout()\r\n",
        "plt.show()"
      ],
      "execution_count": null,
      "outputs": []
    },
    {
      "cell_type": "markdown",
      "metadata": {
        "id": "5WkHrsMjmp6-"
      },
      "source": [
        "## **2. tf.keras API로 다층 신경망 훈련**"
      ]
    },
    {
      "cell_type": "markdown",
      "metadata": {
        "id": "jADXrDtsoc4z"
      },
      "source": [
        "### **1) Training data Preparation**"
      ]
    },
    {
      "cell_type": "markdown",
      "metadata": {
        "id": "qZMrONACp9j5"
      },
      "source": [
        "#### (1) Data Download"
      ]
    },
    {
      "cell_type": "code",
      "metadata": {
        "colab": {
          "base_uri": "https://localhost:8080/"
        },
        "id": "fC3JJSBnpJ5l",
        "outputId": "bd15595d-4741-4eaf-f6f9-67b27359004f"
      },
      "source": [
        "!wget https://github.com/rickiepark/python-machine-learning-book-2nd-edition/raw/master/code/ch12/t10k-images-idx3-ubyte.gz\r\n",
        "!wget https://github.com/rickiepark/python-machine-learning-book-2nd-edition/raw/master/code/ch12/t10k-labels-idx1-ubyte.gz\r\n",
        "!wget https://github.com/rickiepark/python-machine-learning-book-2nd-edition/raw/master/code/ch12/train-images-idx3-ubyte.gz\r\n",
        "!wget https://github.com/rickiepark/python-machine-learning-book-2nd-edition/raw/master/code/ch12/train-labels-idx1-ubyte.gz  "
      ],
      "execution_count": null,
      "outputs": [
        {
          "output_type": "stream",
          "text": [
            "--2021-02-28 14:41:01--  https://github.com/rickiepark/python-machine-learning-book-2nd-edition/raw/master/code/ch12/t10k-images-idx3-ubyte.gz\n",
            "Resolving github.com (github.com)... 13.114.40.48\n",
            "Connecting to github.com (github.com)|13.114.40.48|:443... connected.\n",
            "HTTP request sent, awaiting response... 302 Found\n",
            "Location: https://raw.githubusercontent.com/rickiepark/python-machine-learning-book-2nd-edition/master/code/ch12/t10k-images-idx3-ubyte.gz [following]\n",
            "--2021-02-28 14:41:02--  https://raw.githubusercontent.com/rickiepark/python-machine-learning-book-2nd-edition/master/code/ch12/t10k-images-idx3-ubyte.gz\n",
            "Resolving raw.githubusercontent.com (raw.githubusercontent.com)... 185.199.109.133, 185.199.111.133, 185.199.110.133, ...\n",
            "Connecting to raw.githubusercontent.com (raw.githubusercontent.com)|185.199.109.133|:443... connected.\n",
            "HTTP request sent, awaiting response... 200 OK\n",
            "Length: 1648877 (1.6M) [application/octet-stream]\n",
            "Saving to: ‘t10k-images-idx3-ubyte.gz’\n",
            "\n",
            "t10k-images-idx3-ub 100%[===================>]   1.57M  --.-KB/s    in 0.1s    \n",
            "\n",
            "2021-02-28 14:41:06 (16.1 MB/s) - ‘t10k-images-idx3-ubyte.gz’ saved [1648877/1648877]\n",
            "\n",
            "--2021-02-28 14:41:06--  https://github.com/rickiepark/python-machine-learning-book-2nd-edition/raw/master/code/ch12/t10k-labels-idx1-ubyte.gz\n",
            "Resolving github.com (github.com)... 13.114.40.48\n",
            "Connecting to github.com (github.com)|13.114.40.48|:443... connected.\n",
            "HTTP request sent, awaiting response... 302 Found\n",
            "Location: https://raw.githubusercontent.com/rickiepark/python-machine-learning-book-2nd-edition/master/code/ch12/t10k-labels-idx1-ubyte.gz [following]\n",
            "--2021-02-28 14:41:06--  https://raw.githubusercontent.com/rickiepark/python-machine-learning-book-2nd-edition/master/code/ch12/t10k-labels-idx1-ubyte.gz\n",
            "Resolving raw.githubusercontent.com (raw.githubusercontent.com)... 185.199.110.133, 185.199.111.133, 185.199.108.133, ...\n",
            "Connecting to raw.githubusercontent.com (raw.githubusercontent.com)|185.199.110.133|:443... connected.\n",
            "HTTP request sent, awaiting response... 200 OK\n",
            "Length: 4542 (4.4K) [application/octet-stream]\n",
            "Saving to: ‘t10k-labels-idx1-ubyte.gz’\n",
            "\n",
            "t10k-labels-idx1-ub 100%[===================>]   4.44K  --.-KB/s    in 0s      \n",
            "\n",
            "2021-02-28 14:41:06 (51.2 MB/s) - ‘t10k-labels-idx1-ubyte.gz’ saved [4542/4542]\n",
            "\n",
            "--2021-02-28 14:41:06--  https://github.com/rickiepark/python-machine-learning-book-2nd-edition/raw/master/code/ch12/train-images-idx3-ubyte.gz\n",
            "Resolving github.com (github.com)... 13.114.40.48\n",
            "Connecting to github.com (github.com)|13.114.40.48|:443... connected.\n",
            "HTTP request sent, awaiting response... 302 Found\n",
            "Location: https://raw.githubusercontent.com/rickiepark/python-machine-learning-book-2nd-edition/master/code/ch12/train-images-idx3-ubyte.gz [following]\n",
            "--2021-02-28 14:41:07--  https://raw.githubusercontent.com/rickiepark/python-machine-learning-book-2nd-edition/master/code/ch12/train-images-idx3-ubyte.gz\n",
            "Resolving raw.githubusercontent.com (raw.githubusercontent.com)... 185.199.108.133, 185.199.109.133, 185.199.110.133, ...\n",
            "Connecting to raw.githubusercontent.com (raw.githubusercontent.com)|185.199.108.133|:443... connected.\n",
            "HTTP request sent, awaiting response... 200 OK\n",
            "Length: 9912422 (9.5M) [application/octet-stream]\n",
            "Saving to: ‘train-images-idx3-ubyte.gz’\n",
            "\n",
            "train-images-idx3-u 100%[===================>]   9.45M  28.9MB/s    in 0.3s    \n",
            "\n",
            "2021-02-28 14:41:09 (28.9 MB/s) - ‘train-images-idx3-ubyte.gz’ saved [9912422/9912422]\n",
            "\n",
            "--2021-02-28 14:41:09--  https://github.com/rickiepark/python-machine-learning-book-2nd-edition/raw/master/code/ch12/train-labels-idx1-ubyte.gz\n",
            "Resolving github.com (github.com)... 52.69.186.44\n",
            "Connecting to github.com (github.com)|52.69.186.44|:443... connected.\n",
            "HTTP request sent, awaiting response... 302 Found\n",
            "Location: https://raw.githubusercontent.com/rickiepark/python-machine-learning-book-2nd-edition/master/code/ch12/train-labels-idx1-ubyte.gz [following]\n",
            "--2021-02-28 14:41:09--  https://raw.githubusercontent.com/rickiepark/python-machine-learning-book-2nd-edition/master/code/ch12/train-labels-idx1-ubyte.gz\n",
            "Resolving raw.githubusercontent.com (raw.githubusercontent.com)... 185.199.110.133, 185.199.111.133, 185.199.108.133, ...\n",
            "Connecting to raw.githubusercontent.com (raw.githubusercontent.com)|185.199.110.133|:443... connected.\n",
            "HTTP request sent, awaiting response... 200 OK\n",
            "Length: 28881 (28K) [application/octet-stream]\n",
            "Saving to: ‘train-labels-idx1-ubyte.gz’\n",
            "\n",
            "train-labels-idx1-u 100%[===================>]  28.20K  --.-KB/s    in 0.003s  \n",
            "\n",
            "2021-02-28 14:41:09 (8.83 MB/s) - ‘train-labels-idx1-ubyte.gz’ saved [28881/28881]\n",
            "\n"
          ],
          "name": "stdout"
        }
      ]
    },
    {
      "cell_type": "code",
      "metadata": {
        "id": "7-wP2knBpMdt"
      },
      "source": [
        "# MNIST 데이터 압축을 푸는 코드\r\n",
        "\r\n",
        "import sys\r\n",
        "import gzip\r\n",
        "import shutil\r\n",
        "import os\r\n",
        "\r\n",
        "if (sys.version_info > (3, 0)):\r\n",
        "    writemode = 'wb'\r\n",
        "else:\r\n",
        "    writemode = 'w'\r\n",
        "\r\n",
        "zipped_mnist = [f for f in os.listdir('./') if f.endswith('ubyte.gz')]\r\n",
        "for z in zipped_mnist:\r\n",
        "    with gzip.GzipFile(z, mode='rb') as decompressed, open(z[:-3], writemode) as outfile:\r\n",
        "        outfile.write(decompressed.read()) "
      ],
      "execution_count": null,
      "outputs": []
    },
    {
      "cell_type": "code",
      "metadata": {
        "colab": {
          "base_uri": "https://localhost:8080/"
        },
        "id": "0buG1NP9pPS_",
        "outputId": "c6b48d65-56f5-4493-db41-e2ef9f87bf94"
      },
      "source": [
        "import os\r\n",
        "import struct\r\n",
        "import numpy as np\r\n",
        " \r\n",
        "def load_mnist(path, kind='train'):\r\n",
        "    \"\"\"`path`에서 MNIST 데이터 불러오기\"\"\"\r\n",
        "    labels_path = os.path.join(path, \r\n",
        "                               '%s-labels-idx1-ubyte' % kind)\r\n",
        "    images_path = os.path.join(path, \r\n",
        "                               '%s-images-idx3-ubyte' % kind)\r\n",
        "        \r\n",
        "    with open(labels_path, 'rb') as lbpath:\r\n",
        "        magic, n = struct.unpack('>II', \r\n",
        "                                 lbpath.read(8))\r\n",
        "        labels = np.fromfile(lbpath, \r\n",
        "                             dtype=np.uint8)\r\n",
        "\r\n",
        "    with open(images_path, 'rb') as imgpath:\r\n",
        "        magic, num, rows, cols = struct.unpack(\">IIII\", \r\n",
        "                                               imgpath.read(16))\r\n",
        "        images = np.fromfile(imgpath, \r\n",
        "                             dtype=np.uint8).reshape(len(labels), 784)\r\n",
        "        images = ((images / 255.) - .5) * 2\r\n",
        " \r\n",
        "    return images, labels\r\n",
        "\r\n",
        "print(\"현재 경로 : \", os.getcwd())"
      ],
      "execution_count": null,
      "outputs": [
        {
          "output_type": "stream",
          "text": [
            "현재 경로 :  /content\n"
          ],
          "name": "stdout"
        }
      ]
    },
    {
      "cell_type": "code",
      "metadata": {
        "colab": {
          "base_uri": "https://localhost:8080/"
        },
        "id": "aGU2wWD8ojI3",
        "outputId": "25c3cb89-9e29-4aaf-835a-2781424da1b9"
      },
      "source": [
        "X_train, y_train = load_mnist(\"/content/\", kind = \"train\")\r\n",
        "print(\"행 : %d, 열 : %d\" %(X_train.shape[0], X_train.shape[1]))\r\n",
        "\r\n",
        "X_test, y_test = load_mnist(\"/content/\", kind = \"t10k\")\r\n",
        "print(\"행 : %d, 열 : %d\" %(X_test.shape[0], X_test.shape[1]))"
      ],
      "execution_count": null,
      "outputs": [
        {
          "output_type": "stream",
          "text": [
            "행 : 60000, 열 : 784\n",
            "행 : 10000, 열 : 784\n"
          ],
          "name": "stdout"
        }
      ]
    },
    {
      "cell_type": "markdown",
      "metadata": {
        "id": "uNUhp0YAoqQr"
      },
      "source": [
        "#### (2) Regularization and One-Hot Encoding"
      ]
    },
    {
      "cell_type": "code",
      "metadata": {
        "colab": {
          "base_uri": "https://localhost:8080/"
        },
        "id": "WMtUr1SpqMLx",
        "outputId": "107989f4-63c5-4ee6-ad88-e36ed08d6c55"
      },
      "source": [
        "### 평균을 0으로 만들고 표준 편차로 나눈다.\r\n",
        "mean_vals = np.mean(X_train, axis = 0)\r\n",
        "std_val = np.std(X_train)\r\n",
        "\r\n",
        "X_train_centered = (X_train - mean_vals) / std_val\r\n",
        "X_test_centered = (X_test - mean_vals) / std_val\r\n",
        "\r\n",
        "del X_train, X_test\r\n",
        "\r\n",
        "\r\n",
        "print(X_train_centered.shape, y_train.shape)\r\n",
        "print(X_test_centered.shape, y_test.shape)\r\n",
        "\r\n",
        "\r\n",
        "### 일관된 결과 만들기위해 난수 초깃값 설정\r\n",
        "np.random.seed(123)\r\n",
        "\r\n",
        "y_train_onehot = tf.keras.utils.to_categorical(y_train)\r\n",
        "\r\n",
        "print(\"처음 3개 레이블 : \", y_train[:3])\r\n",
        "\r\n",
        "print(\"\\n처음 3개 레이블(원-핫) :\\n \", y_train_onehot[:3])"
      ],
      "execution_count": null,
      "outputs": [
        {
          "output_type": "stream",
          "text": [
            "(60000, 784) (60000,)\n",
            "(10000, 784) (10000,)\n",
            "처음 3개 레이블 :  [5 0 4]\n",
            "\n",
            "처음 3개 레이블(원-핫) :\n",
            "  [[0. 0. 0. 0. 0. 1. 0. 0. 0. 0.]\n",
            " [1. 0. 0. 0. 0. 0. 0. 0. 0. 0.]\n",
            " [0. 0. 0. 0. 1. 0. 0. 0. 0. 0.]]\n"
          ],
          "name": "stdout"
        }
      ]
    },
    {
      "cell_type": "markdown",
      "metadata": {
        "id": "Wc6QOoalrJls"
      },
      "source": [
        "### **2) FeedFoward 신경망 구성**"
      ]
    },
    {
      "cell_type": "code",
      "metadata": {
        "colab": {
          "base_uri": "https://localhost:8080/"
        },
        "id": "4_i1Mkw6reGJ",
        "outputId": "2c9f8203-79e0-4084-fe6e-23c88478c930"
      },
      "source": [
        "import tensorflow as tf\r\n",
        "\r\n",
        "model = tf.keras.models.Sequential()\r\n",
        "\r\n",
        "model.add(\r\n",
        "    tf.keras.layers.Dense(                          # 완전 연결 층\r\n",
        "        units = 50,                                 # 50개의 (은닉) 유닛\r\n",
        "        input_dim = X_train_centered.shape[1],      # input = 훈련데이터 특성(열) 개수\r\n",
        "        kernel_initializer = \"glorot_uniform\",      # 새로운 가중치 행렬 초기화 알고리즘 (default)\r\n",
        "        bias_initializer = \"zeros\",                 # 절편은 일반적으로 0으로 초기화 (default)\r\n",
        "        activation = \"tanh\"))                       # 활성화 함수 = tanh\r\n",
        "\r\n",
        "model.add(\r\n",
        "    tf.keras.layers.Dense(                          # 완전 연결층\r\n",
        "        units = 50,                                 # 50개의 (은닉) 유닛 \r\n",
        "        input_dim = 50,                             # input = 이전 층의 유닛 개수\r\n",
        "        kernel_initializer = \"glorot_uniform\",\r\n",
        "        bias_initializer = \"zeros\",\r\n",
        "        activation = \"tanh\"))                       # 활성화 함수 = tanh\r\n",
        "\r\n",
        "model.add(\r\n",
        "    tf.keras.layers.Dense(                          # 완전 연결층\r\n",
        "        units = y_train_onehot.shape[1],            # 유닛 개수 = 고유한 클래스 레이블의 개수\r\n",
        "        input_dim = 50,                             # input = 이전 층의 유닛 개수\r\n",
        "        kernel_initializer = \"glorot_uniform\",      \r\n",
        "        bias_initializer = \"zeros\",\r\n",
        "        activation = \"softmax\"))                    # 활성화 함수 = softmax\r\n",
        "\r\n",
        "model.summary()"
      ],
      "execution_count": null,
      "outputs": [
        {
          "output_type": "stream",
          "text": [
            "Model: \"sequential_6\"\n",
            "_________________________________________________________________\n",
            "Layer (type)                 Output Shape              Param #   \n",
            "=================================================================\n",
            "dense_11 (Dense)             (None, 50)                39250     \n",
            "_________________________________________________________________\n",
            "dense_12 (Dense)             (None, 50)                2550      \n",
            "_________________________________________________________________\n",
            "dense_13 (Dense)             (None, 10)                510       \n",
            "=================================================================\n",
            "Total params: 42,310\n",
            "Trainable params: 42,310\n",
            "Non-trainable params: 0\n",
            "_________________________________________________________________\n"
          ],
          "name": "stdout"
        }
      ]
    },
    {
      "cell_type": "markdown",
      "metadata": {
        "id": "-7kcVrNFItVI"
      },
      "source": [
        "### **3) Feed Foward 신경망 Training**"
      ]
    },
    {
      "cell_type": "markdown",
      "metadata": {
        "id": "PBBFHRiXLSKy"
      },
      "source": [
        "#### (1) Model Compile"
      ]
    },
    {
      "cell_type": "code",
      "metadata": {
        "id": "NdKUDaLXI1HM"
      },
      "source": [
        "### 최적화에 사용할 경사 하강법 옵티마이저\r\n",
        "sgd_optimizer = tf.keras.optimizers.SGD(    # SGD = 확률적 경사 하강법\r\n",
        "    lr = 0.001,                            \r\n",
        "    decay = 1e-7, \r\n",
        "    momentum = .9)      # momentum : Epochs마다 학습률을 조절하기 위한 학습률 감쇠 상수.\r\n",
        "\r\n",
        "\r\n",
        "### Model Compile\r\n",
        "\r\n",
        "model.compile(optimizer = sgd_optimizer,            # 최적화에 사용할 경사 하강법 옵티마이저\r\n",
        "              loss = \"categorical_crossentropy\")    # 최적화 손실 함수 정의. \r\n",
        "                                                      # (이진 크로스 엔트로피 = 로지스틱 손실 함수의 기술적인 표현)"
      ],
      "execution_count": null,
      "outputs": []
    },
    {
      "cell_type": "markdown",
      "metadata": {
        "id": "_qOHiCbkF5vd"
      },
      "source": [
        "#### (2) Model.fit\r\n",
        "\\\r\n",
        "- 미니 배치 경사 하강법 사용\r\n",
        "\r\n",
        "\r\n",
        "- 배치마다 담긴 훈련 샘플 개수 = 64개\r\n",
        "\r\n",
        "\r\n",
        "- 50번의 Epochs 동안 MLP(Multi Layer Perceptron) 훈련"
      ]
    },
    {
      "cell_type": "code",
      "metadata": {
        "colab": {
          "base_uri": "https://localhost:8080/"
        },
        "id": "lJsYpQcYL7lD",
        "outputId": "2d55da16-0216-43a3-b4a2-338883910e21"
      },
      "source": [
        "history = model.fit(X_train_centered, y_train_onehot,\r\n",
        "                    batch_size = 64,          # Batch가 64개 X, Batch 1개에 64개의 샘플\r\n",
        "                    epochs = 50,\r\n",
        "                    verbose = 1,              # 훈련과정 출력\r\n",
        "                    validation_split = 0.1)   # (훈련 데이터 중) 검증 데이터 비율"
      ],
      "execution_count": null,
      "outputs": [
        {
          "output_type": "stream",
          "text": [
            "Epoch 1/50\n",
            "844/844 [==============================] - 2s 2ms/step - loss: 1.1070 - val_loss: 0.3604\n",
            "Epoch 2/50\n",
            "844/844 [==============================] - 1s 2ms/step - loss: 0.3897 - val_loss: 0.2740\n",
            "Epoch 3/50\n",
            "844/844 [==============================] - 1s 2ms/step - loss: 0.3072 - val_loss: 0.2383\n",
            "Epoch 4/50\n",
            "844/844 [==============================] - 2s 2ms/step - loss: 0.2712 - val_loss: 0.2160\n",
            "Epoch 5/50\n",
            "844/844 [==============================] - 1s 2ms/step - loss: 0.2479 - val_loss: 0.1998\n",
            "Epoch 6/50\n",
            "844/844 [==============================] - 2s 2ms/step - loss: 0.2246 - val_loss: 0.1891\n",
            "Epoch 7/50\n",
            "844/844 [==============================] - 2s 2ms/step - loss: 0.2085 - val_loss: 0.1783\n",
            "Epoch 8/50\n",
            "844/844 [==============================] - 2s 2ms/step - loss: 0.1968 - val_loss: 0.1699\n",
            "Epoch 9/50\n",
            "844/844 [==============================] - 2s 2ms/step - loss: 0.1830 - val_loss: 0.1638\n",
            "Epoch 10/50\n",
            "844/844 [==============================] - 1s 2ms/step - loss: 0.1721 - val_loss: 0.1574\n",
            "Epoch 11/50\n",
            "844/844 [==============================] - 2s 2ms/step - loss: 0.1629 - val_loss: 0.1520\n",
            "Epoch 12/50\n",
            "844/844 [==============================] - 1s 2ms/step - loss: 0.1590 - val_loss: 0.1484\n",
            "Epoch 13/50\n",
            "844/844 [==============================] - 1s 2ms/step - loss: 0.1453 - val_loss: 0.1425\n",
            "Epoch 14/50\n",
            "844/844 [==============================] - 2s 2ms/step - loss: 0.1377 - val_loss: 0.1389\n",
            "Epoch 15/50\n",
            "844/844 [==============================] - 2s 2ms/step - loss: 0.1334 - val_loss: 0.1362\n",
            "Epoch 16/50\n",
            "844/844 [==============================] - 1s 2ms/step - loss: 0.1289 - val_loss: 0.1333\n",
            "Epoch 17/50\n",
            "844/844 [==============================] - 1s 2ms/step - loss: 0.1217 - val_loss: 0.1313\n",
            "Epoch 18/50\n",
            "844/844 [==============================] - 1s 2ms/step - loss: 0.1197 - val_loss: 0.1283\n",
            "Epoch 19/50\n",
            "844/844 [==============================] - 1s 2ms/step - loss: 0.1142 - val_loss: 0.1262\n",
            "Epoch 20/50\n",
            "844/844 [==============================] - 2s 2ms/step - loss: 0.1113 - val_loss: 0.1243\n",
            "Epoch 21/50\n",
            "844/844 [==============================] - 1s 2ms/step - loss: 0.1078 - val_loss: 0.1220\n",
            "Epoch 22/50\n",
            "844/844 [==============================] - 2s 2ms/step - loss: 0.0973 - val_loss: 0.1210\n",
            "Epoch 23/50\n",
            "844/844 [==============================] - 2s 2ms/step - loss: 0.0985 - val_loss: 0.1196\n",
            "Epoch 24/50\n",
            "844/844 [==============================] - 2s 2ms/step - loss: 0.0914 - val_loss: 0.1179\n",
            "Epoch 25/50\n",
            "844/844 [==============================] - 1s 2ms/step - loss: 0.0904 - val_loss: 0.1165\n",
            "Epoch 26/50\n",
            "844/844 [==============================] - 2s 2ms/step - loss: 0.0894 - val_loss: 0.1147\n",
            "Epoch 27/50\n",
            "844/844 [==============================] - 2s 2ms/step - loss: 0.0844 - val_loss: 0.1140\n",
            "Epoch 28/50\n",
            "844/844 [==============================] - 1s 2ms/step - loss: 0.0835 - val_loss: 0.1141\n",
            "Epoch 29/50\n",
            "844/844 [==============================] - 2s 2ms/step - loss: 0.0789 - val_loss: 0.1132\n",
            "Epoch 30/50\n",
            "844/844 [==============================] - 2s 2ms/step - loss: 0.0753 - val_loss: 0.1132\n",
            "Epoch 31/50\n",
            "844/844 [==============================] - 2s 2ms/step - loss: 0.0772 - val_loss: 0.1121\n",
            "Epoch 32/50\n",
            "844/844 [==============================] - 2s 2ms/step - loss: 0.0735 - val_loss: 0.1111\n",
            "Epoch 33/50\n",
            "844/844 [==============================] - 1s 2ms/step - loss: 0.0716 - val_loss: 0.1114\n",
            "Epoch 34/50\n",
            "844/844 [==============================] - 2s 2ms/step - loss: 0.0684 - val_loss: 0.1111\n",
            "Epoch 35/50\n",
            "844/844 [==============================] - 1s 2ms/step - loss: 0.0686 - val_loss: 0.1105\n",
            "Epoch 36/50\n",
            "844/844 [==============================] - 2s 2ms/step - loss: 0.0648 - val_loss: 0.1103\n",
            "Epoch 37/50\n",
            "844/844 [==============================] - 2s 2ms/step - loss: 0.0626 - val_loss: 0.1107\n",
            "Epoch 38/50\n",
            "844/844 [==============================] - 1s 2ms/step - loss: 0.0621 - val_loss: 0.1106\n",
            "Epoch 39/50\n",
            "844/844 [==============================] - 2s 2ms/step - loss: 0.0604 - val_loss: 0.1100\n",
            "Epoch 40/50\n",
            "844/844 [==============================] - 1s 2ms/step - loss: 0.0554 - val_loss: 0.1098\n",
            "Epoch 41/50\n",
            "844/844 [==============================] - 1s 2ms/step - loss: 0.0583 - val_loss: 0.1096\n",
            "Epoch 42/50\n",
            "844/844 [==============================] - 1s 2ms/step - loss: 0.0573 - val_loss: 0.1095\n",
            "Epoch 43/50\n",
            "844/844 [==============================] - 2s 2ms/step - loss: 0.0559 - val_loss: 0.1099\n",
            "Epoch 44/50\n",
            "844/844 [==============================] - 2s 2ms/step - loss: 0.0526 - val_loss: 0.1092\n",
            "Epoch 45/50\n",
            "844/844 [==============================] - 2s 2ms/step - loss: 0.0511 - val_loss: 0.1089\n",
            "Epoch 46/50\n",
            "844/844 [==============================] - 1s 2ms/step - loss: 0.0484 - val_loss: 0.1090\n",
            "Epoch 47/50\n",
            "844/844 [==============================] - 2s 2ms/step - loss: 0.0506 - val_loss: 0.1108\n",
            "Epoch 48/50\n",
            "844/844 [==============================] - 2s 2ms/step - loss: 0.0462 - val_loss: 0.1108\n",
            "Epoch 49/50\n",
            "844/844 [==============================] - 2s 2ms/step - loss: 0.0455 - val_loss: 0.1100\n",
            "Epoch 50/50\n",
            "844/844 [==============================] - 2s 2ms/step - loss: 0.0454 - val_loss: 0.1099\n"
          ],
          "name": "stdout"
        }
      ]
    },
    {
      "cell_type": "markdown",
      "metadata": {
        "id": "jiZgus1RLdvT"
      },
      "source": [
        "#### (3) Class label Predict"
      ]
    },
    {
      "cell_type": "code",
      "metadata": {
        "colab": {
          "base_uri": "https://localhost:8080/"
        },
        "id": "hMMYUPGANmEG",
        "outputId": "304fa96c-0db3-47e3-dacd-53f28f86a344"
      },
      "source": [
        "y_train_pred = model.predict_classes(X_train_centered, verbose = 0)\r\n",
        "\r\n",
        "print(\"처음 3개 예측 : \", y_train_pred[:3])"
      ],
      "execution_count": null,
      "outputs": [
        {
          "output_type": "stream",
          "text": [
            "/usr/local/lib/python3.7/dist-packages/tensorflow/python/keras/engine/sequential.py:450: UserWarning: `model.predict_classes()` is deprecated and will be removed after 2021-01-01. Please use instead:* `np.argmax(model.predict(x), axis=-1)`,   if your model does multi-class classification   (e.g. if it uses a `softmax` last-layer activation).* `(model.predict(x) > 0.5).astype(\"int32\")`,   if your model does binary classification   (e.g. if it uses a `sigmoid` last-layer activation).\n",
            "  warnings.warn('`model.predict_classes()` is deprecated and '\n"
          ],
          "name": "stderr"
        },
        {
          "output_type": "stream",
          "text": [
            "처음 3개 예측 :  [5 0 4]\n"
          ],
          "name": "stdout"
        }
      ]
    },
    {
      "cell_type": "markdown",
      "metadata": {
        "id": "hdfWfCXpNiJk"
      },
      "source": [
        "#### (4) Model Accuracy of Train set and Test set "
      ]
    },
    {
      "cell_type": "code",
      "metadata": {
        "colab": {
          "base_uri": "https://localhost:8080/"
        },
        "id": "gaJCjcVMOGTe",
        "outputId": "69ef8560-73d5-4e4f-ce6f-24df593429cb"
      },
      "source": [
        "### Train set Model Accuracy\r\n",
        "\r\n",
        "y_train_pred = model.predict_classes(X_train_centered, \r\n",
        "                             verbose = 0)\r\n",
        "\r\n",
        "correct_preds = np.sum(y_train == y_train_pred, axis = 0)\r\n",
        "\r\n",
        "train_acc = correct_preds / y_train.shape[0]\r\n",
        "\r\n",
        "print(\"처음 3개 예측 : \", y_train_pred[:3])\r\n",
        "\r\n",
        "print(\"훈련 정확도 : %.2f%%\" % (train_acc * 100))\r\n",
        "\r\n",
        "### Test set Model Accuracy\r\n",
        "\r\n",
        "y_test_pred = model.predict_classes(X_test_centered, \r\n",
        "                             verbose = 0)\r\n",
        "\r\n",
        "correct_preds = np.sum(y_test == y_test_pred, axis = 0)\r\n",
        "\r\n",
        "test_acc = correct_preds / y_test.shape[0]\r\n",
        "\r\n",
        "print(\"훈련 정확도 : %.2f%%\" % (test_acc * 100))"
      ],
      "execution_count": null,
      "outputs": [
        {
          "output_type": "stream",
          "text": [
            "/usr/local/lib/python3.7/dist-packages/tensorflow/python/keras/engine/sequential.py:450: UserWarning: `model.predict_classes()` is deprecated and will be removed after 2021-01-01. Please use instead:* `np.argmax(model.predict(x), axis=-1)`,   if your model does multi-class classification   (e.g. if it uses a `softmax` last-layer activation).* `(model.predict(x) > 0.5).astype(\"int32\")`,   if your model does binary classification   (e.g. if it uses a `sigmoid` last-layer activation).\n",
            "  warnings.warn('`model.predict_classes()` is deprecated and '\n"
          ],
          "name": "stderr"
        },
        {
          "output_type": "stream",
          "text": [
            "처음 3개 예측 :  [5 0 4]\n",
            "훈련 정확도 : 98.93%\n",
            "훈련 정확도 : 96.35%\n"
          ],
          "name": "stdout"
        }
      ]
    },
    {
      "cell_type": "markdown",
      "metadata": {
        "id": "8FC9t7PxO8ND"
      },
      "source": [
        "## **3. 다층 신경망의 활성화 함수 선택**"
      ]
    },
    {
      "cell_type": "markdown",
      "metadata": {
        "id": "cD3Ti2_IPOlQ"
      },
      "source": [
        "### **1) 로지스틱 함수**\r\n",
        "\\\r\n",
        "- 큰 음수 값이 들어오면 문제가 발생\r\n",
        "\r\n",
        "  - 시그모이드 함수의 출력이 0이 되기 때문이다.\r\n",
        "  \r\n",
        "  - 시그모이드 함수가 0에 가까운 출력을 내면 신경망이 매우 느리게 학습한다.\r\n",
        "\r\n",
        "\\\r\n",
        "- 이런 이유로 은닉층에 하이퍼볼릭 탄젠트 함수를 더 선호.\r\n",
        "\r\n",
        "$$ z = w_0x_0 + w_1x_1 + \\cdots + w_mx_m  = \\sum_{i=0}^{m} w_ix_i = w^Tx$$\r\n",
        "$$ \\phi_{logistic}(z) = {1 \\over 1+e^{-z}}$$"
      ]
    },
    {
      "cell_type": "code",
      "metadata": {
        "id": "PXfdfdkVPpbK",
        "colab": {
          "base_uri": "https://localhost:8080/"
        },
        "outputId": "e6a66b26-1cd1-4e6d-fbfb-ddcf38342d9a"
      },
      "source": [
        "import numpy as np\r\n",
        "\r\n",
        "X = np.array([1, 1.4, 2.5])   # 첫 번째 원소는 1이어야 한다.\r\n",
        "w = np.array([0.4, 0.3, 0.5])\r\n",
        "\r\n",
        "def net_input(X, w) :\r\n",
        "  return np.dot(X, w)\r\n",
        "\r\n",
        "def logistic(z) :\r\n",
        "  return 1.0 / (1.0 + np.exp(-z))\r\n",
        "\r\n",
        "def logistic_activation(X, w) :\r\n",
        "  z = net_input(X, w)\r\n",
        "  return logistic(z)\r\n",
        "\r\n",
        "\r\n",
        "print(\"P(y=1|x) = %.3f\" % logistic_activation(X, w)) # 0.888 : 샘플 x가 양성 클래스에 속할 확률이 88.8%"
      ],
      "execution_count": 1,
      "outputs": [
        {
          "output_type": "stream",
          "text": [
            "P(y=1|x) = 0.888\n"
          ],
          "name": "stdout"
        }
      ]
    },
    {
      "cell_type": "markdown",
      "metadata": {
        "id": "C67LN8elwqjZ"
      },
      "source": [
        "- 여러 개의 로지스틱 활성화 유닛으로 구성된 출력층은 의미 있게 해석할 만한 확률값을 만들지 못한다.\r\n"
      ]
    },
    {
      "cell_type": "code",
      "metadata": {
        "colab": {
          "base_uri": "https://localhost:8080/"
        },
        "id": "FykG1zuexXGv",
        "outputId": "5b456d65-a2d9-48df-95d0-10297ad7b3a3"
      },
      "source": [
        "### W : (n_output_units, n_hidden_units + 1) 크기의 배열\r\n",
        "  \r\n",
        "\r\n",
        "W = np.array([[1.1, 1.2, 0.8, 0.4],    # 첫 번째 열은 절편 유닛\r\n",
        "              [0.2, 0.4, 1.0, 0.2],\r\n",
        "              [0.6, 1.5, 1.2, 0.7]])\r\n",
        "\r\n",
        "### A : (n_hidden_units + 1, n_samples) 크기의 배열\r\n",
        "\r\n",
        "A = np.array([[1, 0.1, 0.4, 0.6]])    # 첫 번째 열은 1이다.\r\n",
        "\r\n",
        "\r\n",
        "Z =  np.dot(W, A[0])\r\n",
        "y_probas = logistic(Z)\r\n",
        "\r\n",
        "print(\"최종 입력 : \\n\", Z)\r\n",
        "print(\"출력 유닛 : \\n\", y_probas)   # 세 확률 값의 합이 1이 아니기에, 결과 확률을 이해하기 힘들다.\r\n",
        "\r\n",
        "y_class = np.argmax(Z, axis = 0)\r\n",
        "print(\"예측 클래스 레이블 : %d\" % y_class)  # 클래스 레이블로 예측값으로 가장 큰 값 선택."
      ],
      "execution_count": 4,
      "outputs": [
        {
          "output_type": "stream",
          "text": [
            "최종 입력 : \n",
            " [1.78 0.76 1.65]\n",
            "출력 유닛 : \n",
            " [0.85569687 0.68135373 0.83889105]\n",
            "예측 클래스 레이블 : 0\n"
          ],
          "name": "stdout"
        }
      ]
    },
    {
      "cell_type": "markdown",
      "metadata": {
        "id": "aWn8oIfOzUtM"
      },
      "source": [
        "### **2) 소프트맥스 함수**\r\n",
        "\\\r\n",
        "- 다중 클래스 확률 예측에 사용\r\n",
        "  - Multinomial logistic regression에서 의미있는 클래스 확률을 계산 가능.\r\n",
        "\r\n",
        "\\\r\n",
        "- 특정 샘플의 최종 입력이 z일 때, i번째 클래스에 속할 확률을 M개의 선형 함수 합으로 나누어 정규화 한 것.\r\n",
        "\r\n",
        "$$ P(y=i|z) = \\phi(z) = {e^{Z_i} \\over \\sum_{j=1}^M e^{Z_j}}$$"
      ]
    },
    {
      "cell_type": "code",
      "metadata": {
        "colab": {
          "base_uri": "https://localhost:8080/"
        },
        "id": "NYwBn8A90n69",
        "outputId": "4dd4052d-6639-4acd-dd9d-d1fa37c23377"
      },
      "source": [
        "def softmax(z) :\r\n",
        "  return np.exp(z) / np.sum(np.exp(z))\r\n",
        "\r\n",
        "y_probas = softmax(Z)\r\n",
        "\r\n",
        "print(\"확률 :\\n\", y_probas)\r\n",
        "\r\n",
        "np.sum(y_probas)    # 세 확률의 합 = 1"
      ],
      "execution_count": 7,
      "outputs": [
        {
          "output_type": "stream",
          "text": [
            "확률 :\n",
            " [0.44668973 0.16107406 0.39223621]\n"
          ],
          "name": "stdout"
        },
        {
          "output_type": "execute_result",
          "data": {
            "text/plain": [
              "1.0"
            ]
          },
          "metadata": {
            "tags": []
          },
          "execution_count": 7
        }
      ]
    },
    {
      "cell_type": "markdown",
      "metadata": {
        "id": "-023QVgMyrzG"
      },
      "source": [
        "### **3) 하이퍼볼릭 탄젠트 함수** \r\n",
        "\\\r\n",
        "- 출력 범위가 (-1, 1) 사이로 로지스틱 함수에 비해 넓다.\r\n",
        "    - 역전파 알고리즘의 수렴을 향상시킬 수 있다.\r\n",
        "\r\n",
        "\r\n",
        "$$ \\phi_{logistic}(z) = {1 \\over 1+e^-z}$$\r\n",
        "\r\n",
        "$$ \\phi_{tanh}(z) = 2 \\times \\phi_{logistic}(2z) -1 = {e^z - e^{-z} \\over e^z + e^{-z}}$$"
      ]
    },
    {
      "cell_type": "markdown",
      "metadata": {
        "id": "M--D0FX415nv"
      },
      "source": [
        "로지스틱 함수와 하이퍼볼릭 탄젠트 그래프 비교"
      ]
    },
    {
      "cell_type": "code",
      "metadata": {
        "colab": {
          "base_uri": "https://localhost:8080/",
          "height": 297
        },
        "id": "xMY34Ohk1-dq",
        "outputId": "8d696f2a-0617-4e13-f0b7-e020aea94fbd"
      },
      "source": [
        "import matplotlib.pyplot as plt\r\n",
        "\r\n",
        "def tanh(z) :\r\n",
        "  e_p = np.exp(z)\r\n",
        "  e_m = np.exp(-z)\r\n",
        "  return (e_p - e_m) / (e_p + e_m)\r\n",
        "\r\n",
        "z = np.arange(-5, 5, 0.005)\r\n",
        "\r\n",
        "log_act = logistic(z)\r\n",
        "tanh_act = tanh(z)\r\n",
        "\r\n",
        "plt.ylim([-1.5, 1.5])\r\n",
        "plt.xlabel(\"net input $z$\")\r\n",
        "plt.ylabel(\"activation $\\phi(z)$\")\r\n",
        "plt.axhline(1, color = \"black\", linestyle = \":\")\r\n",
        "plt.axhline(0.5, color = \"black\", linestyle = \":\")\r\n",
        "plt.axhline(0, color = \"black\", linestyle = \":\")\r\n",
        "plt.axhline(-0.5, color = \"black\", linestyle = \":\")\r\n",
        "plt.axhline(-1, color = \"black\", linestyle = \":\")\r\n",
        "\r\n",
        "plt.plot(z, tanh_act,\r\n",
        "         linewidth = 3, linestyle = \"--\",\r\n",
        "         label = \"tanh\")\r\n",
        "plt.plot(z, log_act,\r\n",
        "         linewidth = 3, \r\n",
        "         label = \"logistic\")\r\n",
        "\r\n",
        "plt.legend()\r\n",
        "plt.tight_layout()\r\n",
        "plt.show()"
      ],
      "execution_count": 9,
      "outputs": [
        {
          "output_type": "display_data",
          "data": {
            "image/png": "[encoded data removed]",
            "text/plain": [
              "<Figure size 432x288 with 1 Axes>"
            ]
          },
          "metadata": {
            "tags": [],
            "needs_background": "light"
          }
        }
      ]
    },
    {
      "cell_type": "code",
      "metadata": {
        "id": "R1Cy9rcn34gH"
      },
      "source": [
        "tanh_act = np.tanh(z)\r\n",
        "\r\n",
        "from scipy.special import expit\r\n",
        "log_act = expit"
      ],
      "execution_count": 10,
      "outputs": []
    },
    {
      "cell_type": "markdown",
      "metadata": {
        "id": "kcXLMzhs4ME5"
      },
      "source": [
        "### **4) 렐루 활성화 함수**\r\n",
        "\\\r\n",
        "- 심층 신경망에서 자주 사용되는 활성화 함수\r\n",
        "\r\n",
        "\\\r\n",
        "- 하이퍼볼릭 탄젠트 함수의 경우,\r\n",
        "\\\r\n",
        "최종 입력이 $z_1 = 20 \\rightarrow z_2 = 25$ 가정 시, 　$ \\phi(z_1)\\approx 1.0 , \\phi(z_2)\\approx 1.0 $으로 출력에 변화가 없다.\r\n",
        "  - 이는 최종 입력에 대한 활성화 하무의 도함수가 z가 커짐에 따라 줄어든다는 뜻.\r\n",
        "  - 결국 그래디언트가 0에 아주 가까워져 훈련 과정 동안 가중치가 매우 느리게 학습된다.\r\n",
        "\r\n",
        "\\\r\n",
        "- 렐루 활성화는 이런 문제를 해결.\r\n",
        "\r\n",
        "\\\r\n",
        "- 입력값이 양수면 입력에 대한 렐루의 도함수는 항상 1\r\n",
        "  - 이것이 그래디언트 소실 문제를 해결.\r\n",
        "\r\n",
        "$$ \\phi(z) = max(0, z) $$"
      ]
    }
  ]
}