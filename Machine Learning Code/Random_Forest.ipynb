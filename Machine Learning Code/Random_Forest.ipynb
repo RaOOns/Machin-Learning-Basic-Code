{
  "nbformat": 4,
  "nbformat_minor": 0,
  "metadata": {
    "colab": {
      "name": "Random Forest.ipynb",
      "provenance": [],
      "collapsed_sections": [],
      "authorship_tag": "ABX9TyPjTCof6bQy6/TjgmD3ipmr",
      "include_colab_link": true
    },
    "kernelspec": {
      "name": "python3",
      "display_name": "Python 3"
    }
  },
  "cells": [
    {
      "cell_type": "markdown",
      "metadata": {
        "id": "view-in-github",
        "colab_type": "text"
      },
      "source": [
        "<a href=\"https://colab.research.google.com/github/dhguslee/leedo/blob/main/Machine%20Learning%20Code/Random_Forest.ipynb\" target=\"_parent\"><img src=\"https://colab.research.google.com/assets/colab-badge.svg\" alt=\"Open In Colab\"/></a>"
      ]
    },
    {
      "cell_type": "markdown",
      "metadata": {
        "id": "f0qJNL9LdhVm"
      },
      "source": [
        "# Random Forest\r\n",
        "---"
      ]
    },
    {
      "cell_type": "markdown",
      "metadata": {
        "id": "wV9bCatjdoGD"
      },
      "source": [
        "### I. Library"
      ]
    },
    {
      "cell_type": "code",
      "metadata": {
        "id": "niJr0XzdeFQD"
      },
      "source": [
        "from sklearn.ensemble import RandomForestClassifier\r\n",
        "import numpy as np\r\n",
        "import pandas as pd\r\n",
        "import matplotlib.pyplot as plt"
      ],
      "execution_count": null,
      "outputs": []
    },
    {
      "cell_type": "markdown",
      "metadata": {
        "id": "hXlK3mujeUES"
      },
      "source": [
        "### II. Data Preparation"
      ]
    },
    {
      "cell_type": "code",
      "metadata": {
        "colab": {
          "base_uri": "https://localhost:8080/"
        },
        "id": "JMH_FjeAeZB0",
        "outputId": "4cd8b757-e4dc-430a-91ad-95e633d3091b"
      },
      "source": [
        "from sklearn.datasets import load_breast_cancer\r\n",
        "\r\n",
        "cancer = load_breast_cancer()\r\n",
        "\r\n",
        "df = pd.DataFrame(data = cancer.data, columns = cancer.feature_names)\r\n",
        "df[\"target\"] = cancer.target\r\n",
        "\r\n",
        "print(\"shape : \", df.shape, \"\\n\", \"data : \", df.head())"
      ],
      "execution_count": null,
      "outputs": [
        {
          "output_type": "stream",
          "text": [
            "shape :  (569, 31) \n",
            " data :     mean radius  mean texture  ...  worst fractal dimension  target\n",
            "0        17.99         10.38  ...                  0.11890       0\n",
            "1        20.57         17.77  ...                  0.08902       0\n",
            "2        19.69         21.25  ...                  0.08758       0\n",
            "3        11.42         20.38  ...                  0.17300       0\n",
            "4        20.29         14.34  ...                  0.07678       0\n",
            "\n",
            "[5 rows x 31 columns]\n"
          ],
          "name": "stdout"
        }
      ]
    },
    {
      "cell_type": "markdown",
      "metadata": {
        "id": "723T4W-qeg4M"
      },
      "source": [
        "### III. Train data and Test data"
      ]
    },
    {
      "cell_type": "code",
      "metadata": {
        "colab": {
          "base_uri": "https://localhost:8080/"
        },
        "id": "sTm3kv9YelhW",
        "outputId": "8e3846b3-811d-4795-93bb-bd027467e299"
      },
      "source": [
        "from sklearn.model_selection import train_test_split\r\n",
        "\r\n",
        "x_train, x_test, y_train, y_test = train_test_split(cancer.data, cancer.target,\r\n",
        "                                                    test_size = 0.3,\r\n",
        "                                                    stratify = cancer.target,   # train set과 test set의 class비율 동일\r\n",
        "                                                    shuffle = True,\r\n",
        "                                                    random_state = 1)\r\n",
        "\r\n",
        "x_train.shape, x_test.shape, y_train.shape, y_test.shape"
      ],
      "execution_count": null,
      "outputs": [
        {
          "output_type": "execute_result",
          "data": {
            "text/plain": [
              "((398, 30), (171, 30), (398,), (171,))"
            ]
          },
          "metadata": {
            "tags": []
          },
          "execution_count": 3
        }
      ]
    },
    {
      "cell_type": "markdown",
      "metadata": {
        "id": "xgBITKG-fLht"
      },
      "source": [
        "### IV. Model training"
      ]
    },
    {
      "cell_type": "code",
      "metadata": {
        "colab": {
          "base_uri": "https://localhost:8080/"
        },
        "id": "UGV5Cm9zfPC9",
        "outputId": "13a81b90-e805-408f-a395-b82bc4a886e3"
      },
      "source": [
        "RF = RandomForestClassifier(random_state = 1)\r\n",
        "\r\n",
        "RF.fit(x_train, y_train)"
      ],
      "execution_count": null,
      "outputs": [
        {
          "output_type": "execute_result",
          "data": {
            "text/plain": [
              "RandomForestClassifier(bootstrap=True, ccp_alpha=0.0, class_weight=None,\n",
              "                       criterion='gini', max_depth=None, max_features='auto',\n",
              "                       max_leaf_nodes=None, max_samples=None,\n",
              "                       min_impurity_decrease=0.0, min_impurity_split=None,\n",
              "                       min_samples_leaf=1, min_samples_split=2,\n",
              "                       min_weight_fraction_leaf=0.0, n_estimators=100,\n",
              "                       n_jobs=None, oob_score=False, random_state=1, verbose=0,\n",
              "                       warm_start=False)"
            ]
          },
          "metadata": {
            "tags": []
          },
          "execution_count": 6
        }
      ]
    },
    {
      "cell_type": "markdown",
      "metadata": {
        "id": "rB_uKDtzfawC"
      },
      "source": [
        "### V. Prediction"
      ]
    },
    {
      "cell_type": "code",
      "metadata": {
        "colab": {
          "base_uri": "https://localhost:8080/"
        },
        "id": "6Ebev0Aafdsa",
        "outputId": "abd2fd3c-13ef-4546-8354-590d6ab69507"
      },
      "source": [
        "pred = RF.predict(x_test)\r\n",
        "\r\n",
        "pred"
      ],
      "execution_count": null,
      "outputs": [
        {
          "output_type": "execute_result",
          "data": {
            "text/plain": [
              "array([0, 1, 1, 0, 0, 0, 1, 0, 1, 0, 0, 0, 1, 1, 1, 1, 1, 1, 0, 0, 1, 1,\n",
              "       1, 1, 0, 1, 0, 1, 1, 1, 0, 0, 0, 0, 1, 1, 1, 1, 0, 1, 0, 1, 1, 1,\n",
              "       1, 1, 0, 1, 0, 1, 1, 1, 0, 1, 1, 1, 1, 0, 1, 1, 1, 1, 1, 1, 0, 0,\n",
              "       0, 1, 1, 1, 1, 0, 0, 1, 1, 1, 1, 1, 1, 1, 1, 0, 1, 0, 0, 1, 0, 1,\n",
              "       1, 0, 1, 1, 0, 1, 0, 1, 1, 1, 1, 1, 0, 1, 1, 1, 1, 0, 1, 0, 0, 1,\n",
              "       1, 1, 1, 0, 0, 0, 1, 0, 0, 1, 0, 1, 1, 1, 1, 1, 1, 1, 1, 0, 0, 1,\n",
              "       1, 1, 1, 0, 1, 1, 0, 0, 0, 0, 1, 1, 0, 1, 1, 1, 1, 1, 1, 0, 1, 1,\n",
              "       0, 1, 1, 0, 1, 1, 1, 0, 0, 1, 0, 0, 1, 0, 1, 0, 0])"
            ]
          },
          "metadata": {
            "tags": []
          },
          "execution_count": 7
        }
      ]
    },
    {
      "cell_type": "markdown",
      "metadata": {
        "id": "PHAoAAvNfoiO"
      },
      "source": [
        "### VI. Socre (Accuracy)"
      ]
    },
    {
      "cell_type": "code",
      "metadata": {
        "colab": {
          "base_uri": "https://localhost:8080/"
        },
        "id": "URBItEltf0G7",
        "outputId": "a2d0fabc-7318-4559-e407-0662f7ec1bad"
      },
      "source": [
        "from sklearn.metrics import accuracy_score\r\n",
        "\r\n",
        "print(\"RF score : \", np.round(RF.score(x_test, y_test), 3))\r\n",
        "\r\n",
        "print(\"Accuracy : \", np.round(accuracy_score(y_test, pred), 3))"
      ],
      "execution_count": null,
      "outputs": [
        {
          "output_type": "stream",
          "text": [
            "RF score :  0.953\n",
            "Accuracy :  0.953\n"
          ],
          "name": "stdout"
        }
      ]
    },
    {
      "cell_type": "markdown",
      "metadata": {
        "id": "M47zutBDvOLN"
      },
      "source": [
        "### VII. Features Importance"
      ]
    },
    {
      "cell_type": "code",
      "metadata": {
        "colab": {
          "base_uri": "https://localhost:8080/",
          "height": 403
        },
        "id": "nEyVEVhLvUr9",
        "outputId": "6da5d01c-35d8-4965-d41b-54b40a9d8e61"
      },
      "source": [
        "print(\"특성 중요도 : \\n\", RF.feature_importances_)\r\n",
        "\r\n",
        "\r\n",
        "\r\n",
        "plt.barh(range(cancer.data.shape[1]), RF.feature_importances_)\r\n",
        "plt.yticks(range(cancer.data.shape[1]), cancer.feature_names)   # yticks() : 눈금 표시.\r\n",
        "plt.title(\"Features Importance\")\r\n",
        "plt.ylabel(\"Features\")\r\n",
        "plt.xlabel(\"Importance\")\r\n",
        "plt.show()"
      ],
      "execution_count": null,
      "outputs": [
        {
          "output_type": "stream",
          "text": [
            "특성 중요도 : \n",
            " [0.07203729 0.01872365 0.06158579 0.03827855 0.00496785 0.00799047\n",
            " 0.07201638 0.08682551 0.00431283 0.00569043 0.01366961 0.00484166\n",
            " 0.0090134  0.03031816 0.00438121 0.00402359 0.00454619 0.00213269\n",
            " 0.00203622 0.00488665 0.11008682 0.01456702 0.10220591 0.11948045\n",
            " 0.00723039 0.0182622  0.03214933 0.12798068 0.01019065 0.00556841]\n"
          ],
          "name": "stdout"
        },
        {
          "output_type": "display_data",
          "data": {
            "image/png": "[encoded data removed]",
            "text/plain": [
              "<Figure size 432x288 with 1 Axes>"
            ]
          },
          "metadata": {
            "tags": [],
            "needs_background": "light"
          }
        }
      ]
    }
  ]
}