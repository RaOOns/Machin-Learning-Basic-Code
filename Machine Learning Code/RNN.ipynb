{
  "nbformat": 4,
  "nbformat_minor": 0,
  "metadata": {
    "colab": {
      "name": "RNN.ipynb",
      "provenance": [],
      "collapsed_sections": [
        "UEd4B3jdJl3z"
      ],
      "toc_visible": true,
      "mount_file_id": "1XiUefcc1GKW1qATLss3gM5RpaWHomXT-",
      "authorship_tag": "ABX9TyMt9z9jxnUqWaMzcl6sSiVk",
      "include_colab_link": true
    },
    "kernelspec": {
      "name": "python3",
      "display_name": "Python 3"
    }
  },
  "cells": [
    {
      "cell_type": "markdown",
      "metadata": {
        "id": "view-in-github",
        "colab_type": "text"
      },
      "source": [
        "<a href=\"https://colab.research.google.com/github/dhguslee/leedo/blob/main/Machine%20Learning%20Code/RNN.ipynb\" target=\"_parent\"><img src=\"https://colab.research.google.com/assets/colab-badge.svg\" alt=\"Open In Colab\"/></a>"
      ]
    },
    {
      "cell_type": "markdown",
      "metadata": {
        "id": "5gNqdw1vAZUt"
      },
      "source": [
        "# **RNN (Recurrent Neural Network)**\r\n",
        "\r\n",
        "---"
      ]
    },
    {
      "cell_type": "markdown",
      "metadata": {
        "id": "dDa7Ps5-J59o"
      },
      "source": [
        "## **첫 번째 프로젝트 : 다층 RNN으로 IMDb 영화 리뷰의 감성 분석 수행**"
      ]
    },
    {
      "cell_type": "markdown",
      "metadata": {
        "id": "UEd4B3jdJl3z"
      },
      "source": [
        "#### 데이터 압축 해제 및 읽기"
      ]
    },
    {
      "cell_type": "code",
      "metadata": {
        "id": "tXfU5rBEHiLN"
      },
      "source": [
        "# ### 저장하고 압축 해제한 파일 읽기\r\n",
        "\r\n",
        "# import os\r\n",
        "# import tarfile\r\n",
        "\r\n",
        "# if not os.path.isdir('/content/drive/MyDrive/data'):\r\n",
        "\r\n",
        "#     with tarfile.open('aclImdb_v1.tar.gz', 'r:gz') as tar:\r\n",
        "#         tar.extractall()\r\n",
        "\r\n",
        "\r\n",
        "# ### 위 개개의 텍스트 문서를 하나의 CSV파일로 만들기\r\n",
        "# ! pip install pyprind\r\n",
        "# import pyprind      # pip install pyprind : 진행과정 확인과 예상 시간 추측에 사용\r\n",
        "# import pandas as pd\r\n",
        "# import os\r\n",
        "\r\n",
        "# # `basepath`를 압축 해제된 영화 리뷰 데이터셋이 있는 디렉토리로 바꾸세요\r\n",
        "\r\n",
        "# basepath = '/content/drive/MyDrive/data'\r\n",
        "\r\n",
        "# labels = {'pos': 1, 'neg': 0}\r\n",
        "# pbar = pyprind.ProgBar(50000)\r\n",
        "# df = pd.DataFrame()\r\n",
        "# for s in ('test', 'train'):\r\n",
        "#     for l in ('pos', 'neg'):\r\n",
        "#         path = os.path.join(basepath, s, l)\r\n",
        "#         for file in sorted(os.listdir(path)):\r\n",
        "#             with open(os.path.join(path, file), \r\n",
        "#                       'r', encoding='utf-8') as infile:\r\n",
        "#                 txt = infile.read()\r\n",
        "#             df = df.append([[txt, labels[l]]], \r\n",
        "#                            ignore_index=True)\r\n",
        "#             pbar.update()\r\n",
        "# df.columns = ['review', 'sentiment']\r\n",
        "\r\n",
        "\r\n",
        "# ### 데이터를 섞어 CSV로 저장.\r\n",
        "# import numpy as np\r\n",
        "\r\n",
        "# np.random.seed(0)\r\n",
        "# df = df.reindex(np.random.permutation(df.index))\r\n",
        "# df.to_csv('movie_data.csv', index=False, encoding='utf-8')"
      ],
      "execution_count": null,
      "outputs": []
    },
    {
      "cell_type": "markdown",
      "metadata": {
        "id": "cJc_UoOZAp7C"
      },
      "source": [
        "### **1. Data Preparation**"
      ]
    },
    {
      "cell_type": "markdown",
      "metadata": {
        "id": "z5LldyhdKxZf"
      },
      "source": [
        "#### **1) Data 불러오기**"
      ]
    },
    {
      "cell_type": "code",
      "metadata": {
        "id": "7o9OCeBJHPOY"
      },
      "source": [
        "# from google.colab import drive\n",
        "# drive.mount('/content/drive')\n",
        "\n",
        "# 4/1AY0e-g4lq-s1-1g2SqaSIMLHVh1mb2FXUnXVLsi7WgDstUsrn1ES08FaCvY"
      ],
      "execution_count": null,
      "outputs": []
    },
    {
      "cell_type": "code",
      "metadata": {
        "id": "CNFELmOkAwq8"
      },
      "source": [
        "# ! pip install pyprind\r\n",
        "import numpy as np\r\n",
        "import pandas as pd\r\n",
        "from string import punctuation\r\n",
        "import re\r\n",
        "import pyprind\r\n",
        "\r\n",
        "df = pd.read_csv(\"/content/drive/MyDrive/data/movie_data.csv\", encoding = \"utf-8\")\r\n",
        "\r\n",
        "# Columns : \"review\", \"sentiment\"\r\n",
        "             # review : 영화 리뷰 텍스트 (= 단어의 시퀀스)\r\n",
        "             # sentiment : 0 or 1\r\n",
        "df.head(), df[\"review\"][0], df.shape"
      ],
      "execution_count": null,
      "outputs": []
    },
    {
      "cell_type": "markdown",
      "metadata": {
        "id": "Csz3uAAKK2Ln"
      },
      "source": [
        "#### **2) 텍스트를 정수 값으로 인코딩**"
      ]
    },
    {
      "cell_type": "code",
      "metadata": {
        "id": "w6FF9xYjL5DN"
      },
      "source": [
        "# ### Counter 클래스\r\n",
        "# from collections import Counter\r\n",
        "\r\n",
        "# c1 = Counter()\r\n",
        "# c2 = Counter()\r\n",
        "# c3 = Counter()\r\n",
        "\r\n",
        "# c1.update(\"abc\")\r\n",
        "# c2.update([\"a\", \"b\"])\r\n",
        "# c3.update({\"a\" : 2, \"b\" : 2, \"c\" : 4})\r\n",
        "\r\n",
        "\r\n",
        "# print(\"c1 : \", c1, \"c2 : \", c2, \"c3 : \", c3)\r\n",
        "\r\n",
        "# print(\"c1에서 'a'개수 : \", c1[\"a\"], \"\\n\"\r\n",
        "#       \"c3에서 가장 높은 카운트값 2개 :\", c3.most_common(2))"
      ],
      "execution_count": null,
      "outputs": []
    },
    {
      "cell_type": "code",
      "metadata": {
        "id": "K-wGiWfeK8f4",
        "colab": {
          "base_uri": "https://localhost:8080/"
        },
        "outputId": "c4219f7e-7ff5-4b44-bab5-d39dbcabf937"
      },
      "source": [
        "### 단어를 나누고 등장 횟수를 카운트\r\n",
        "\r\n",
        "from collections import Counter\r\n",
        "\r\n",
        "# 소요시간 표현\r\n",
        "\r\n",
        "pbar = pyprind.ProgBar(len(df[\"review\"]), \r\n",
        "                       title = \"단어의 등자 횟수를 카운트합니다.\")\r\n",
        "\r\n",
        "counts = Counter()\r\n",
        "\r\n",
        "for i, review in enumerate(df[\"review\"]) :\r\n",
        "  \r\n",
        "\r\n",
        "  text = \"\".join([c if c not in punctuation else \" \"+c+\" \" for c in review]).lower()      # 한 문장을 한 글자씩 떼어가며 적용\r\n",
        "                                           # 각 글자가 구두점이면 양쪽에 공백 추가\r\n",
        "                                                                    # 구두점이 아니면 그대로(공백도 그대로 생존)\r\n",
        "                                                                    # 각 글자를 공백없이 결합하여 다시 문장으로 복귀\r\n",
        "  df.loc[i, \"review\"] = text      # review를 text에서 만든 문장으로 수정 \r\n",
        "  pbar.update()\r\n",
        "  counts.update(text.split())     # 공백을 기준으로 문자를 나누어 각 개수 세기\r\n",
        "                                  # 즉, 각 단어와 구두점 개수 출력\r\n",
        "\r\n",
        "\r\n",
        "### 고유한 각 단어를 점수로 매핑하는 딕셔너리 생성\r\n",
        "\r\n",
        "word_counts = sorted(counts, key = counts.get, reverse = True)  # counts 중 가장 많이 나온 순서대로 단어를 정렬\r\n",
        "print(word_counts[:5])\r\n",
        "\r\n",
        "word_to_int = {word : ii for ii, word in enumerate(word_counts, 1)}   # 각 단어별로 인덱스 부여하며 Dictionary 형태로 저장\r\n",
        "                                                                        # (가장 많이 나온 단어= 1)\r\n",
        "\r\n",
        "mapped_reviews = []\r\n",
        "\r\n",
        "pbar = pyprind.ProgBar(len(df[\"review\"]), \r\n",
        "                       title = \"리뷰를 정수로 매핑합니다.\")\r\n",
        "\r\n",
        "for review in df[\"review\"] :\r\n",
        "  mapped_reviews.append([word_to_int[word] for word in review.split()])  # 각 review별 (공백기준) 각 단어에 대응하는 부여된 인덱스 번호를 하나씩 리스트 형식으로 리스트에 저장\r\n",
        "                                                                         # ex) [[3,12,124], [1,3,5,345,23,41],[], ...] \r\n",
        "  pbar.update()\r\n"
      ],
      "execution_count": null,
      "outputs": [
        {
          "output_type": "stream",
          "text": [
            "단어의 등자 횟수를 카운트합니다.\n",
            "0% [##############################] 100% | ETA: 00:00:00\n",
            "Total time elapsed: 00:02:19\n",
            "리뷰를 정수로 매핑합니다.\n"
          ],
          "name": "stderr"
        },
        {
          "output_type": "stream",
          "text": [
            "['the', '.', ',', 'and', 'a']\n"
          ],
          "name": "stdout"
        },
        {
          "output_type": "stream",
          "text": [
            "0% [##############################] 100% | ETA: 00:00:00\n",
            "Total time elapsed: 00:00:03\n"
          ],
          "name": "stderr"
        }
      ]
    },
    {
      "cell_type": "markdown",
      "metadata": {
        "id": "tI2mt2LGP9bl"
      },
      "source": [
        "#### **3) 동일한 길이의 시퀀스 생성**"
      ]
    },
    {
      "cell_type": "code",
      "metadata": {
        "id": "C8VHYnn8QDmF"
      },
      "source": [
        "### 동일 길이의 시퀀스 생성\r\n",
        "  # 시퀀스 길이가 200보다 작으면 왼쪽에 0 패딩, 크면 마지막 200개 원소만 사용.\r\n",
        "\r\n",
        "sequence_length = 200   # RNN 공식에 있는 T값\r\n",
        "sequences = np.zeros((len(mapped_reviews), sequence_length), dtype = int)  # 행 = reviews의 개수, 열 = 200 인 영벡터\r\n",
        "sequences.shape   # 50000 x 200\r\n",
        "\r\n",
        "for i, row in enumerate(mapped_reviews) :\r\n",
        "  review_arr = np.array(row)    \r\n",
        "  sequences[i, -len(row) : ] = review_arr[-sequence_length : ]    # 각 문장을 영벡터의 우측에 삽입  = 문장 왼쪽에 0 삽입"
      ],
      "execution_count": null,
      "outputs": []
    },
    {
      "cell_type": "markdown",
      "metadata": {
        "id": "iAfFMTNTQF6n"
      },
      "source": [
        "#### **4) Train data와 Test data 구분**"
      ]
    },
    {
      "cell_type": "code",
      "metadata": {
        "id": "O2fvBe-0QLwX",
        "colab": {
          "base_uri": "https://localhost:8080/"
        },
        "outputId": "f4f0921c-4447-4b60-a7ae-c98f3a207cd7"
      },
      "source": [
        "X_train = sequences[ : 37500, : ]\r\n",
        "y_train = df.loc[ : 37499, \"sentiment\"].values\r\n",
        "\r\n",
        "X_test = sequences[37500 : , : ]\r\n",
        "y_test = df.loc[37500 : , \"sentiment\"].values\r\n",
        "\r\n",
        "print(X_train.shape, y_train.shape, X_test.shape, y_test.shape)\r\n",
        "\r\n",
        "n_words = len(word_to_int) + 1\r\n",
        "print(n_words)      # 총 단어의 종류 수"
      ],
      "execution_count": null,
      "outputs": [
        {
          "output_type": "stream",
          "text": [
            "(37500, 200) (37500,) (12500, 200) (12500,)\n",
            "102967\n"
          ],
          "name": "stdout"
        }
      ]
    },
    {
      "cell_type": "markdown",
      "metadata": {
        "id": "Ym3LHGrRQvp6"
      },
      "source": [
        "### **2. 임베딩 (Embedding)**\r\n",
        "\r\n",
        "\\\r\n",
        "$\\ \\ $**특징**\r\n",
        "- [-1, +1]사이의 값으로 표현\r\n",
        "- 희소(sparse)한 문제를 해결하기 위해 나온 Dense한 방식\r\n",
        "\r\n",
        "\\\r\n",
        "\r\n",
        "$\\ \\ $**장점**\r\n",
        "\r\n",
        "- 특성 공간의 차원이 축소되므로 차원의 저주로 인한 영향을 감소시킨다.\r\n",
        "- 신경망에서 임베딩 층이 훈련되기 때문에 중요한 특성이 추출됩니다."
      ]
    },
    {
      "cell_type": "markdown",
      "metadata": {
        "id": "ROa7IHlCMT4Z"
      },
      "source": [
        "![Eembedding.png](data:image/png;base64,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)"
      ]
    },
    {
      "cell_type": "code",
      "metadata": {
        "colab": {
          "base_uri": "https://localhost:8080/"
        },
        "id": "z4aX37xcMYI_",
        "outputId": "c2905517-68cc-463c-8c81-1d1ddef2df37"
      },
      "source": [
        "from tensorflow.keras import models, layers\r\n",
        "\r\n",
        "model = models.Sequential()\r\n",
        "model.add(layers.Embedding(n_words,   # 어휘 사전의 크기 : 102,967\r\n",
        "                           200,       # 출력차원 / 200차원의 벡터로 단어를 임베딩 / 102,967 x 200\r\n",
        "                           embeddings_regularizer = \"l2\"))\r\n",
        "\r\n",
        "model.summary()     # (None, None, 200)  # 배치 차원, 타임 스테, 임베딩 차원\r\n",
        "                    # 전체 모델 파라키터의 개수 : 102,967 x 200 = 20,593,400개"
      ],
      "execution_count": null,
      "outputs": [
        {
          "output_type": "stream",
          "text": [
            "Model: \"sequential_3\"\n",
            "_________________________________________________________________\n",
            "Layer (type)                 Output Shape              Param #   \n",
            "=================================================================\n",
            "embedding (Embedding)        (None, None, 200)         20593400  \n",
            "=================================================================\n",
            "Total params: 20,593,400\n",
            "Trainable params: 20,593,400\n",
            "Non-trainable params: 0\n",
            "_________________________________________________________________\n"
          ],
          "name": "stdout"
        }
      ]
    },
    {
      "cell_type": "markdown",
      "metadata": {
        "id": "CjTI-iHdR3-2"
      },
      "source": [
        "### **3. RNN Model 만들기 with LSTM**"
      ]
    },
    {
      "cell_type": "code",
      "metadata": {
        "colab": {
          "base_uri": "https://localhost:8080/"
        },
        "id": "hPtC4SZFSHNQ",
        "outputId": "67f69b4e-dea3-43a6-ca08-cdb146d6c4d3"
      },
      "source": [
        "model.add(layers.LSTM(16))    # hidden output acivation default = \"tanh\"\r\n",
        "                              # hidden recurrent_activation default = \"hard_sigmoid\"\r\n",
        "\r\n",
        "model.add(layers.Flatten())                    \r\n",
        "model.add(layers.Dense(1, activation = \"sigmoid\"))\r\n",
        "\r\n",
        "model.summary()"
      ],
      "execution_count": null,
      "outputs": [
        {
          "output_type": "stream",
          "text": [
            "Model: \"sequential_3\"\n",
            "_________________________________________________________________\n",
            "Layer (type)                 Output Shape              Param #   \n",
            "=================================================================\n",
            "embedding (Embedding)        (None, None, 200)         20593400  \n",
            "_________________________________________________________________\n",
            "lstm (LSTM)                  (None, 16)                13888     \n",
            "_________________________________________________________________\n",
            "flatten (Flatten)            (None, 16)                0         \n",
            "_________________________________________________________________\n",
            "dense (Dense)                (None, 1)                 17        \n",
            "=================================================================\n",
            "Total params: 20,607,305\n",
            "Trainable params: 20,607,305\n",
            "Non-trainable params: 0\n",
            "_________________________________________________________________\n"
          ],
          "name": "stdout"
        }
      ]
    },
    {
      "cell_type": "markdown",
      "metadata": {
        "id": "xxEKsjlPTHDK"
      },
      "source": [
        "### **4. 감성 분석 RNN Model Training**"
      ]
    },
    {
      "cell_type": "markdown",
      "metadata": {
        "id": "PSWviFJMTb13"
      },
      "source": [
        "#### **1) Model compile**"
      ]
    },
    {
      "cell_type": "code",
      "metadata": {
        "id": "AlaOzz6HTNEi"
      },
      "source": [
        "model.compile(loss = \"binary_crossentropy\",\r\n",
        "              optimizer = \"adam\", metrics = [\"acc\"])"
      ],
      "execution_count": null,
      "outputs": []
    },
    {
      "cell_type": "markdown",
      "metadata": {
        "id": "KN7tkL16Tglg"
      },
      "source": [
        "#### **2) Model parameter save by checkpoint**"
      ]
    },
    {
      "cell_type": "code",
      "metadata": {
        "id": "_b543C81TpUi"
      },
      "source": [
        "import time\r\n",
        "from tensorflow.keras.callbacks import  ModelCheckpoint, TensorBoard\r\n",
        "\r\n",
        "callback_list = [ModelCheckpoint(filepath = \"sentiment_run_checkpoint.h5\",\r\n",
        "                                 monitor = \"val_loss\",\r\n",
        "                                 save_best_only = True),\r\n",
        "                 TensorBoard(log_dir = \"sentiment_run_logs/{}\".format(time.asctime()))]"
      ],
      "execution_count": null,
      "outputs": []
    },
    {
      "cell_type": "markdown",
      "metadata": {
        "id": "Z7f6oeUcUGui"
      },
      "source": [
        "#### **3) Model Training**"
      ]
    },
    {
      "cell_type": "code",
      "metadata": {
        "colab": {
          "base_uri": "https://localhost:8080/"
        },
        "id": "OumL1NSzUL6x",
        "outputId": "7c5ae1df-85c3-4e90-83fb-46044f953718"
      },
      "source": [
        "history = model.fit(X_train, y_train,\r\n",
        "                    batch_size = 64, epochs = 10,\r\n",
        "                    validation_split = 0.3, \r\n",
        "                    callbacks = callback_list)"
      ],
      "execution_count": null,
      "outputs": [
        {
          "output_type": "stream",
          "text": [
            "Epoch 1/10\n",
            "411/411 [==============================] - 125s 298ms/step - loss: 24.1903 - acc: 0.6340 - val_loss: 0.7469 - val_acc: 0.7899\n",
            "Epoch 2/10\n",
            "411/411 [==============================] - 121s 294ms/step - loss: 0.6310 - acc: 0.8175 - val_loss: 0.5756 - val_acc: 0.8499\n",
            "Epoch 3/10\n",
            "411/411 [==============================] - 119s 289ms/step - loss: 0.5586 - acc: 0.8562 - val_loss: 0.5469 - val_acc: 0.8604\n",
            "Epoch 4/10\n",
            "411/411 [==============================] - 117s 285ms/step - loss: 0.5137 - acc: 0.8708 - val_loss: 0.5301 - val_acc: 0.8590\n",
            "Epoch 5/10\n",
            "411/411 [==============================] - 115s 280ms/step - loss: 0.4724 - acc: 0.8807 - val_loss: 0.4714 - val_acc: 0.8706\n",
            "Epoch 6/10\n",
            "411/411 [==============================] - 114s 278ms/step - loss: 0.4552 - acc: 0.8887 - val_loss: 0.4961 - val_acc: 0.8727\n",
            "Epoch 7/10\n",
            "411/411 [==============================] - 114s 278ms/step - loss: 0.4397 - acc: 0.8933 - val_loss: 0.4880 - val_acc: 0.8689\n",
            "Epoch 8/10\n",
            "411/411 [==============================] - 114s 279ms/step - loss: 0.4273 - acc: 0.8962 - val_loss: 0.4766 - val_acc: 0.8660\n",
            "Epoch 9/10\n",
            "411/411 [==============================] - 115s 281ms/step - loss: 0.4146 - acc: 0.9062 - val_loss: 0.4802 - val_acc: 0.8757\n",
            "Epoch 10/10\n",
            "411/411 [==============================] - 114s 276ms/step - loss: 0.4213 - acc: 0.9032 - val_loss: 0.4744 - val_acc: 0.8760\n"
          ],
          "name": "stdout"
        }
      ]
    },
    {
      "cell_type": "markdown",
      "metadata": {
        "id": "O-4OHAvMUZPO"
      },
      "source": [
        "#### **4) Loss and Accuracy graph**"
      ]
    },
    {
      "cell_type": "code",
      "metadata": {
        "colab": {
          "base_uri": "https://localhost:8080/",
          "height": 352
        },
        "id": "B3bK0I01UqIw",
        "outputId": "01275d15-fc81-4267-da92-156812cb5815"
      },
      "source": [
        "### Loss\r\n",
        "import matplotlib.pyplot as plt\r\n",
        "plt.figure(figsize = (15, 5))\r\n",
        "\r\n",
        "plt.subplot(1, 2, 1)\r\n",
        "epochs = np.arange(1, 11)\r\n",
        "plt.plot(epochs, history.history[\"loss\"], label = \"Train\")\r\n",
        "plt.plot(epochs, history.history[\"val_loss\"], label = \"Valiation\")\r\n",
        "plt.xlabel(\"epochs\")\r\n",
        "plt.ylabel(\"Loss\")\r\n",
        "plt.legend()\r\n",
        "plt.show\r\n",
        "\r\n",
        "### Accuracy\r\n",
        "plt.subplot(1, 2, 2)\r\n",
        "epochs = np.arange(1, 11)\r\n",
        "plt.plot(epochs, history.history[\"acc\"], label = \"Train\")\r\n",
        "plt.plot(epochs, history.history[\"val_acc\"], label = \"Valiation\")\r\n",
        "plt.xlabel(\"epochs\")\r\n",
        "plt.ylabel(\"acc\")\r\n",
        "plt.legend()\r\n",
        "plt.show"
      ],
      "execution_count": null,
      "outputs": [
        {
          "output_type": "execute_result",
          "data": {
            "text/plain": [
              "<function matplotlib.pyplot.show>"
            ]
          },
          "metadata": {
            "tags": []
          },
          "execution_count": 28
        },
        {
          "output_type": "display_data",
          "data": {
            "image/png": "[encoded data removed]",
            "text/plain": [
              "<Figure size 1080x360 with 2 Axes>"
            ]
          },
          "metadata": {
            "tags": [],
            "needs_background": "light"
          }
        }
      ]
    },
    {
      "cell_type": "markdown",
      "metadata": {
        "id": "M9HXKx03Wo9s"
      },
      "source": [
        "### **5. 감성 분석 RNN Model Evaluation**"
      ]
    },
    {
      "cell_type": "markdown",
      "metadata": {
        "id": "rEbE5tT6Wv5R"
      },
      "source": [
        "#### **1) chekcpoint 복원**"
      ]
    },
    {
      "cell_type": "code",
      "metadata": {
        "id": "GFsX2y5DW4Z7"
      },
      "source": [
        "model.load_weights(\"sentiment_run_checkpoint.h5\")"
      ],
      "execution_count": null,
      "outputs": []
    },
    {
      "cell_type": "markdown",
      "metadata": {
        "id": "vtZpJ9AyXHuC"
      },
      "source": [
        "#### **2) Model Evalutaion**"
      ]
    },
    {
      "cell_type": "code",
      "metadata": {
        "colab": {
          "base_uri": "https://localhost:8080/"
        },
        "id": "7DtjlGp4XM_a",
        "outputId": "877f1ae8-0ecf-4996-e09d-30be65f01701"
      },
      "source": [
        "model.evaluate(X_test, y_test)"
      ],
      "execution_count": null,
      "outputs": [
        {
          "output_type": "stream",
          "text": [
            "391/391 [==============================] - 18s 46ms/step - loss: 0.4765 - acc: 0.8714\n"
          ],
          "name": "stdout"
        },
        {
          "output_type": "execute_result",
          "data": {
            "text/plain": [
              "[0.4764980375766754, 0.8714399933815002]"
            ]
          },
          "metadata": {
            "tags": []
          },
          "execution_count": 35
        }
      ]
    },
    {
      "cell_type": "markdown",
      "metadata": {
        "id": "w3hNWalnXNg6"
      },
      "source": [
        "#### **3) Prediction**"
      ]
    },
    {
      "cell_type": "code",
      "metadata": {
        "colab": {
          "base_uri": "https://localhost:8080/"
        },
        "id": "Iir6rKoVXRFe",
        "outputId": "9ee5ab7c-c031-4f28-d7ef-0add3d6c14ba"
      },
      "source": [
        "# 10개 샘플, 확률로 출력\r\n",
        "\r\n",
        "print(model.predict_proba(X_test[:10]))\r\n",
        "\r\n",
        "# 10개 샘플, 클래스로 출력\r\n",
        "print(model.predict_classes(X_test[:10]))"
      ],
      "execution_count": null,
      "outputs": [
        {
          "output_type": "stream",
          "text": [
            "[[0.01018283]\n",
            " [0.01159874]\n",
            " [0.00332832]\n",
            " [0.9654529 ]\n",
            " [0.922603  ]\n",
            " [0.8697282 ]\n",
            " [0.01430205]\n",
            " [0.89075565]\n",
            " [0.00986159]\n",
            " [0.90414846]]\n",
            "[[0]\n",
            " [0]\n",
            " [0]\n",
            " [1]\n",
            " [1]\n",
            " [1]\n",
            " [0]\n",
            " [1]\n",
            " [0]\n",
            " [1]]\n"
          ],
          "name": "stdout"
        },
        {
          "output_type": "stream",
          "text": [
            "/usr/local/lib/python3.7/dist-packages/tensorflow/python/keras/engine/sequential.py:425: UserWarning: `model.predict_proba()` is deprecated and will be removed after 2021-01-01. Please use `model.predict()` instead.\n",
            "  warnings.warn('`model.predict_proba()` is deprecated and '\n",
            "/usr/local/lib/python3.7/dist-packages/tensorflow/python/keras/engine/sequential.py:450: UserWarning: `model.predict_classes()` is deprecated and will be removed after 2021-01-01. Please use instead:* `np.argmax(model.predict(x), axis=-1)`,   if your model does multi-class classification   (e.g. if it uses a `softmax` last-layer activation).* `(model.predict(x) > 0.5).astype(\"int32\")`,   if your model does binary classification   (e.g. if it uses a `sigmoid` last-layer activation).\n",
            "  warnings.warn('`model.predict_classes()` is deprecated and '\n"
          ],
          "name": "stderr"
        }
      ]
    },
    {
      "cell_type": "markdown",
      "metadata": {
        "id": "l4WKAi1SZvIf"
      },
      "source": [
        "## **두 번째 프로젝트 : 텐서플로로 글자 단위 언어 모델 구현**"
      ]
    },
    {
      "cell_type": "markdown",
      "metadata": {
        "id": "cMf1OCgGOOZM"
      },
      "source": [
        "### **1. Data Preparation**"
      ]
    },
    {
      "cell_type": "markdown",
      "metadata": {
        "id": "4m2xp-JNOWDE"
      },
      "source": [
        "#### **1) Data 읽어오기**\r\n",
        "The Tragedy if Hamlet  - William Shakespeare\r\n"
      ]
    },
    {
      "cell_type": "code",
      "metadata": {
        "id": "oB5r0iDwRIhN"
      },
      "source": [
        "# !wget https://github.com/rickiepark/python-machine-learning-book-2nd-edition/raw/master/code/ch16/pg2265.txt"
      ],
      "execution_count": null,
      "outputs": []
    },
    {
      "cell_type": "code",
      "metadata": {
        "colab": {
          "base_uri": "https://localhost:8080/"
        },
        "id": "aThDfPH5Rcps",
        "outputId": "e1eac14f-296f-4dc4-dea8-97ab31d94d46"
      },
      "source": [
        "import numpy as np\r\n",
        "\r\n",
        "### 텍스트를 읽고 처리합니다.\r\n",
        "\r\n",
        "with open(\"/content/drive/MyDrive/data/pg2265.txt\", \"r\", encoding = \"utf-8\") as f :\r\n",
        "  text = f.read()\r\n",
        "\r\n",
        "text = text[15858 :]\r\n",
        "print(\"Text data : \", text[:100])"
      ],
      "execution_count": null,
      "outputs": [
        {
          "output_type": "stream",
          "text": [
            "Text data :  The Tragedie of Hamlet\n",
            "\n",
            "Actus Primus. Scoena Prima.\n",
            "\n",
            "Enter Barnardo and Francisco two Centinels.\n",
            "\n",
            "  \n"
          ],
          "name": "stdout"
        }
      ]
    },
    {
      "cell_type": "markdown",
      "metadata": {
        "id": "0c-xS1vkOjNK"
      },
      "source": [
        "#### **2) 텍스트를 정수 값으로 인코딩**"
      ]
    },
    {
      "cell_type": "code",
      "metadata": {
        "colab": {
          "base_uri": "https://localhost:8080/"
        },
        "id": "eo-ZDuOPOj9i",
        "outputId": "426d3c23-5091-4daa-ef55-497f4ea9a8af"
      },
      "source": [
        "chars = set(text)\r\n",
        "print(\"모든 철자, 기호:\", chars)\r\n",
        "\r\n",
        "char2int = {ch : i for i, ch in enumerate(chars)}     # 글자를 정수로 매핑\r\n",
        "print(\"각 철자, 기호에 번호 부여 : \", char2int)\r\n",
        "\r\n",
        "int2char = dict(enumerate(chars))                     # 정수를 글자로 매핑\r\n",
        "print(\"dictionary type {번호 : 글자} : \", int2char)\r\n",
        "\r\n",
        "text_ints = np.array([char2int[ch] for ch in text], dtype = np.int32)\r\n",
        "print(\"Text의 글을 단어로 표현 : \", text_ints)\r\n",
        "\r\n",
        "len(text) , len(chars)"
      ],
      "execution_count": null,
      "outputs": [
        {
          "output_type": "stream",
          "text": [
            "모든 철자, 기호: {'(', 'n', '&', 'o', 'Y', 'L', 'x', ' ', ';', 'j', 'c', 'D', '\\n', ',', 'G', 'N', 'I', 'z', '.', 'Z', 'E', 'H', 'T', 'K', 't', 'Q', 'S', 'C', 'u', \"'\", '-', 'k', '[', ']', 'W', 'V', 'i', '?', 'l', 'r', 'p', 'g', 'm', 'f', 'a', 'B', 'A', 'v', 'q', '!', 'b', 'R', '1', ':', 'e', 'F', 'P', 'O', 's', 'w', 'd', 'h', ')', 'y', 'M'}\n",
            "각 철자, 기호에 번호 부여 :  {'(': 0, 'n': 1, '&': 2, 'o': 3, 'Y': 4, 'L': 5, 'x': 6, ' ': 7, ';': 8, 'j': 9, 'c': 10, 'D': 11, '\\n': 12, ',': 13, 'G': 14, 'N': 15, 'I': 16, 'z': 17, '.': 18, 'Z': 19, 'E': 20, 'H': 21, 'T': 22, 'K': 23, 't': 24, 'Q': 25, 'S': 26, 'C': 27, 'u': 28, \"'\": 29, '-': 30, 'k': 31, '[': 32, ']': 33, 'W': 34, 'V': 35, 'i': 36, '?': 37, 'l': 38, 'r': 39, 'p': 40, 'g': 41, 'm': 42, 'f': 43, 'a': 44, 'B': 45, 'A': 46, 'v': 47, 'q': 48, '!': 49, 'b': 50, 'R': 51, '1': 52, ':': 53, 'e': 54, 'F': 55, 'P': 56, 'O': 57, 's': 58, 'w': 59, 'd': 60, 'h': 61, ')': 62, 'y': 63, 'M': 64}\n",
            "dictionary type {번호 : 글자} :  {0: '(', 1: 'n', 2: '&', 3: 'o', 4: 'Y', 5: 'L', 6: 'x', 7: ' ', 8: ';', 9: 'j', 10: 'c', 11: 'D', 12: '\\n', 13: ',', 14: 'G', 15: 'N', 16: 'I', 17: 'z', 18: '.', 19: 'Z', 20: 'E', 21: 'H', 22: 'T', 23: 'K', 24: 't', 25: 'Q', 26: 'S', 27: 'C', 28: 'u', 29: \"'\", 30: '-', 31: 'k', 32: '[', 33: ']', 34: 'W', 35: 'V', 36: 'i', 37: '?', 38: 'l', 39: 'r', 40: 'p', 41: 'g', 42: 'm', 43: 'f', 44: 'a', 45: 'B', 46: 'A', 47: 'v', 48: 'q', 49: '!', 50: 'b', 51: 'R', 52: '1', 53: ':', 54: 'e', 55: 'F', 56: 'P', 57: 'O', 58: 's', 59: 'w', 60: 'd', 61: 'h', 62: ')', 63: 'y', 64: 'M'}\n",
            "Text의 글을 단어로 표현 :  [22 61 54 ... 31 54 18]\n"
          ],
          "name": "stdout"
        },
        {
          "output_type": "execute_result",
          "data": {
            "text/plain": [
              "(162849, 65)"
            ]
          },
          "metadata": {
            "tags": []
          },
          "execution_count": 2
        }
      ]
    },
    {
      "cell_type": "markdown",
      "metadata": {
        "id": "rkS8ypnxPENy"
      },
      "source": [
        "#### **3) Data를 Sequence data x와 y 생성**"
      ]
    },
    {
      "cell_type": "code",
      "metadata": {
        "colab": {
          "base_uri": "https://localhost:8080/"
        },
        "id": "dDg3FHW0PNBx",
        "outputId": "05865a09-ada9-422f-9258-fd3f0f614228"
      },
      "source": [
        "def reshape_data(sequence, batch_size, num_steps) :\r\n",
        "\r\n",
        "  mini_batch_length = batch_size * num_steps              # 배치 하나의 길이 (배치 크기 x 시퀀스 길이)\r\n",
        "  num_batchs = int(len(sequence) / mini_batch_length)     # 생성될 배치의 개수\r\n",
        "  \r\n",
        "  if num_batchs * mini_batch_length + 1 > len(sequence) : # 전체 배치의 글자수가 data의 글자수보다 많으면, 배치 하나를 줄여라.\r\n",
        "  \r\n",
        "    num_batchs = num_batchs - 1\r\n",
        "\r\n",
        "  # print(len(sequence), mini_batch_length, num_batchs, (mini_batch_length*num_batchs))\r\n",
        "\r\n",
        "  # 전체 배치에 포함되지 않는 시퀀스 끝부분은 삭제합니다.   - 배치로 생성되는 데이터만 남기기.\r\n",
        "  x = sequence[0 : num_batchs * mini_batch_length]            \r\n",
        "  y = sequence[1 : num_batchs * mini_batch_length + 1]      # x를 이용해 y를 예측하기에 y가 한 단어 뒤의 값을 갖는다.\r\n",
        "  # print(x,len(x), y, len(y))\r\n",
        "\r\n",
        "  # x와 y를 시퀀스 배치의 리스트로 나눕니다.\r\n",
        "  x_bacth_splits = np.split(x, batch_size)        # x와 y를 배치 크기로 등분을 한다. \r\n",
        "  y_bacth_splits = np.split(y, batch_size)        # ex) 1280개의 단어를 64(배치크기)로 나눈다.                    \r\n",
        "                                                  # 한 묶음에 20개씩 \r\n",
        "  # print(len(y_bacth_splits), len(y_bacth_splits[1]), len(y_bacth_splits[-1]))\r\n",
        "\r\n",
        "  # 합쳐진 배치 크기는 bacth_size x mini_batch_length가 됩니다.\r\n",
        "  x = np.stack(x_bacth_splits)      \r\n",
        "  y = np.stack(y_bacth_splits)\r\n",
        "\r\n",
        "  return x, y\r\n",
        "\r\n",
        "\r\n",
        "### 테스트 - 시퀀스 길이를 10으로 가정, 배치크기 64\r\n",
        "\r\n",
        "train_x, train_y = reshape_data(text_ints, 64, 10)\r\n",
        "print(\"Train_x Size : \", train_x.shape) \r\n",
        "print(\"Train_x 10개 : \", train_x[0, : 10])\r\n",
        "print(\"Train_y 10개 : \", train_y[0, : 10])\r\n",
        "print(\"Train_x 10개 문자화: \", \"\".join(int2char[i] for i in train_x[0, : 10]))\r\n",
        "print(\"Train_y 10개 문자화: \", \"\".join(int2char[i] for i in train_y[0, : 10]))\r\n"
      ],
      "execution_count": null,
      "outputs": [
        {
          "output_type": "stream",
          "text": [
            "Train_x Size :  (64, 2540)\n",
            "Train_x 10개 :  [22 61 54  7 22 39 44 41 54 60]\n",
            "Train_y 10개 :  [61 54  7 22 39 44 41 54 60 36]\n",
            "Train_x 10개 문자화:  The Traged\n",
            "Train_y 10개 문자화:  he Tragedi\n"
          ],
          "name": "stdout"
        }
      ]
    },
    {
      "cell_type": "markdown",
      "metadata": {
        "id": "tcKlgBGiWZyJ"
      },
      "source": [
        "#### **4) Mini batch 생성**"
      ]
    },
    {
      "cell_type": "code",
      "metadata": {
        "colab": {
          "base_uri": "https://localhost:8080/"
        },
        "id": "YaIYlq85Wg_C",
        "outputId": "b14ffd78-4d3f-4a04-a94b-d16c3bcc299c"
      },
      "source": [
        "def create_batch_generator(data_x, data_y, num_steps) :                         # Generator : 대용량 반복 수행 시, 메모리를 더욱 효율적으로 사용하기 위한 도구\r\n",
        "\r\n",
        "  batch_size, tot_batch_length = data_x.shape[0:2] \r\n",
        "\r\n",
        "  num_batches = int(tot_batch_length / num_steps)   # 전체 미니 배치 개수\r\n",
        "\r\n",
        "  for b in range(num_batches) :   # 미니 배치 순서대로\r\n",
        "\r\n",
        "    yield (data_x[ : , b*num_steps : (b+1)*num_steps],                           # yield : 원하는 값을 리턴하며, 실행 흐름을 일시 정지하여 함수를 재활용할 수 있는 상태로 만든다.\r\n",
        "           data_y[ : , b*num_steps : (b+1)*num_steps])\r\n",
        "   \r\n",
        "bgen = create_batch_generator(train_x[:, :100], train_y[:, :100], 15)\r\n",
        "\r\n",
        "for x, y in bgen :\r\n",
        "  print(x.shape, y.shape, end = \"\")\r\n",
        "  print(\"\".join(int2char[i] for i in x[0, : ]).replace(\"\\n\", \"*\"), '    ',\r\n",
        "        \"\".join(int2char[i] for i in y[0, : ]).replace(\"\\n\", \"*\"))\r\n"
      ],
      "execution_count": null,
      "outputs": [
        {
          "output_type": "stream",
          "text": [
            "(64, 15) (64, 15)The Tragedie of      he Tragedie of \n",
            "(64, 15) (64, 15) Hamlet**Actus       Hamlet**Actus P\n",
            "(64, 15) (64, 15)Primus. Scoena       rimus. Scoena P\n",
            "(64, 15) (64, 15)Prima.**Enter B      rima.**Enter Ba\n",
            "(64, 15) (64, 15)arnardo and Fra      rnardo and Fran\n",
            "(64, 15) (64, 15)ncisco two Cent      cisco two Centi\n"
          ],
          "name": "stdout"
        }
      ]
    },
    {
      "cell_type": "code",
      "metadata": {
        "colab": {
          "base_uri": "https://localhost:8080/"
        },
        "id": "iTVHBFb4c7TD",
        "outputId": "d75c11ab-4cdc-46df-b380-b113584508d0"
      },
      "source": [
        "batch_size = 64\r\n",
        "num_steps = 100\r\n",
        "\r\n",
        "train_x, train_y = reshape_data(text_ints, batch_size, num_steps)\r\n",
        "\r\n",
        "print(train_x.shape, train_y.shape)"
      ],
      "execution_count": null,
      "outputs": [
        {
          "output_type": "stream",
          "text": [
            "(64, 2500) (64, 2500)\n"
          ],
          "name": "stdout"
        }
      ]
    },
    {
      "cell_type": "markdown",
      "metadata": {
        "id": "7GQsQOWKsHxY"
      },
      "source": [
        "#### **5) One-hot encoding**\r\n",
        "\r\n",
        "글자 단위 RNN model은 처리하는 글자마다 그래디언트를 모두 계산하여 사용.\r\n",
        "\r\n",
        "이러기 위해서 타깃 데이터도 전체 타임 스텝에 걸쳐 원-핫 인코딩을 해야한다.\r\n",
        "\r\n",
        "(위 방법엣는 일련의 시퀀스(리뷰 텍스트)를 처리한 후 손실함수로부터 그래디언트를 계산)"
      ]
    },
    {
      "cell_type": "code",
      "metadata": {
        "colab": {
          "base_uri": "https://localhost:8080/"
        },
        "id": "5bIDqdWHrty4",
        "outputId": "f2128a54-d6d0-4d98-9f7c-decb4feebd37"
      },
      "source": [
        "from tensorflow.keras.utils import to_categorical\r\n",
        "\r\n",
        "train_encoded_x = to_categorical(train_x)\r\n",
        "train_encoded_y = to_categorical(train_y)\r\n",
        "\r\n",
        "print(train_encoded_x.shape, train_encoded_y.shape)\r\n",
        "\r\n",
        "print(np.max(train_x), np.max(train_y))   # 원-핫인코딩 길이 = max + 1"
      ],
      "execution_count": null,
      "outputs": [
        {
          "output_type": "stream",
          "text": [
            "(64, 2500, 65) (64, 2500, 65)\n",
            "64 64\n"
          ],
          "name": "stdout"
        }
      ]
    },
    {
      "cell_type": "markdown",
      "metadata": {
        "id": "9qgsd453svpY"
      },
      "source": [
        "### **2. 글자 단위 RNN Model 만들기**"
      ]
    },
    {
      "cell_type": "markdown",
      "metadata": {
        "id": "AM3Fo-4rLduE"
      },
      "source": [
        "#### **1) 먼저, Sequential class 객체 생성**"
      ]
    },
    {
      "cell_type": "code",
      "metadata": {
        "id": "AC8PbI0gLleC"
      },
      "source": [
        "from tensorflow.keras import models, layers\r\n",
        "\r\n",
        "char_model = models.Sequential()"
      ],
      "execution_count": null,
      "outputs": []
    },
    {
      "cell_type": "markdown",
      "metadata": {
        "id": "CMgPin5iLo1z"
      },
      "source": [
        "#### **2) LSTM 바로 추가 instead of Embedding due to One-hot encoding**\r\n",
        "\r\n",
        "\\\r\n",
        "- 고려사항\r\n",
        "\r\n",
        "\\\r\n",
        "1. 모델 훈련 시 길이가 100인 시퀀스 주입 (즉, 타임 스텝 길이 = 100)\r\n",
        "  \r\n",
        "  - 하지만 새로운 글자를 생성 시, 이전 글자를 주입하여 한 글자씩 생성 (즉, 샘플링 시 배치크기 = 1)\r\n",
        "  - 훈련과 샘플링 모드에서 사용하는 시퀀스 길이가 다르다.\r\n",
        "  \r\n",
        "    -  = \"시간에 따라 동적으로 펼친다\"\r\n",
        "\r\n",
        "    - 텐서플로의 Keras API를 사용하면 가변 길이 시퀀스를 다루는 작업도 간단히 처리 가능\r\n",
        "\r\n",
        "    - LSTM층에서 가변 길이 시퀀스를 처리하려면 타입 스텝 길이에 해당하는 input_shape의 첫 번째 차원을 None으로 지정.\r\n",
        "\r\n",
        "    - 두 번째 차원은 원-핫 인코딩 벡터의 크기가 된다.\r\n",
        "\r\n",
        "\\\r\n",
        "2. 모든 타입 스텝에 대해 그래디언트를 계싼하여 모델을 업데이트 한다.\r\n",
        "  \r\n",
        "  - 따라서 LSTM층이 시퀀스의 마지막 타임 스텝의 출력만 반환하지 않고 전체 시퀀스에 대해 출력을 만들어야한다.\r\n",
        "  \r\n",
        "  - 이렇게 하려면 LSTM층의 return_sequences = True로 지정\r\n",
        "  \r\n"
      ]
    },
    {
      "cell_type": "code",
      "metadata": {
        "id": "GR5LKfGStI_O"
      },
      "source": [
        "### 128개의 순환 유닛을 가진 LSTM 층을 모델에 추가.\r\n",
        "\r\n",
        "num_classes = len(chars)  # 텍스트에 있는 모든 글자 수\r\n",
        "\r\n",
        "char_model.add(layers.LSTM(128, input_shape = (None, num_classes),\r\n",
        "                          return_sequences = True))\r\n",
        "\r\n",
        "\r\n",
        "\r\n"
      ],
      "execution_count": null,
      "outputs": []
    },
    {
      "cell_type": "markdown",
      "metadata": {
        "id": "wqj6TA_4OO-5"
      },
      "source": [
        "#### **3) Dense 층 without Flatten**\r\n",
        "\r\n",
        "\r\n",
        "\\\r\n",
        "- 기존에는 Dense층 이전에 Flatten층을 생성\r\n",
        "\r\n",
        "- 이 예제는 모든 타임 스텝에 대한 손실을 계산해야 하므로 LSTM층에서 출력되는 3차원 텐서를 그대로 두어야 한다.\r\n",
        "\r\n",
        "- LSTM층에서 출력되는 텐서 크기 (배치 개수, 타임 스텝 개수, 순환 유닛 개수)\r\n",
        "\r\n",
        "  - Dense 층 통과 시 이 텐서의 첫 번째와 두 번째 차원이 유지되야 한다.\r\n",
        "\r\n",
        "  - 이 작업을 위해 Flatten층을 추가하지 않고 LSTM 층의 출력을 타임 스텝 순으로 Dense층에 주입하고, \r\n",
        "  \\\r\n",
        "  결과를 받아 다시 타임 스텝 순서대로 쌓아야한다."
      ]
    },
    {
      "cell_type": "code",
      "metadata": {
        "id": "_aQYsJZRPPph"
      },
      "source": [
        "char_model.add(layers.TimeDistributed(layers.Dense(num_classes,\r\n",
        "                                                  activation = \"softmax\")))"
      ],
      "execution_count": null,
      "outputs": []
    },
    {
      "cell_type": "markdown",
      "metadata": {
        "id": "bpUD8J-SPYe2"
      },
      "source": [
        "#### **4) Model Summary**\r\n",
        "\r\n",
        "\\\r\n",
        "Model Parmater\r\n",
        "\r\n",
        "\\\r\n",
        "- LSTM 층\r\n",
        "\r\n",
        " $ W_{xf} $ = (128, 65) dimension\r\n",
        "\r\n",
        " $ W_{hf} $ = (128, 128) dimension  and 절편 = 128개\r\n",
        " \r\n",
        " 따라서, 삭제 게이트에 필요한 Model Parameter 개수 : (128x65)+(128+128+128) = 24,832개\r\n",
        "\r\n",
        " LSTM에는 이런 가중치가 네벌 더 있으므로 Total Mpdel Parameter = 99,328개\r\n",
        "\r\n",
        "\\\r\n",
        "- TimeDistributed 층\r\n",
        "  \r\n",
        "  Model Parameter를 갖지 않는다.\r\n",
        "\r\n",
        "  summary에서 출력한 값은 Dense층의 Model Parameter 개수\r\n",
        "\r\n",
        "  Dense층의 입력 차원 = 128,  65개의 유닛이 있으므로 절편을 고려한\r\n",
        "\r\n",
        "  Total Model Parameter : 65 x 128 + 65 = 8,386개"
      ]
    },
    {
      "cell_type": "code",
      "metadata": {
        "id": "cXJDXPE2PWAU",
        "colab": {
          "base_uri": "https://localhost:8080/"
        },
        "outputId": "1da50bf1-b3fa-40e9-988a-2d1dd2111fcf"
      },
      "source": [
        "char_model.summary()"
      ],
      "execution_count": null,
      "outputs": [
        {
          "output_type": "stream",
          "text": [
            "Model: \"sequential_1\"\n",
            "_________________________________________________________________\n",
            "Layer (type)                 Output Shape              Param #   \n",
            "=================================================================\n",
            "lstm (LSTM)                  (None, None, 128)         99328     \n",
            "_________________________________________________________________\n",
            "time_distributed (TimeDistri (None, None, 65)          8385      \n",
            "=================================================================\n",
            "Total params: 107,713\n",
            "Trainable params: 107,713\n",
            "Non-trainable params: 0\n",
            "_________________________________________________________________\n"
          ],
          "name": "stdout"
        }
      ]
    },
    {
      "cell_type": "markdown",
      "metadata": {
        "id": "G23KIHfHhvLm"
      },
      "source": [
        "### **3. 글자 단위 RNN Model Training**"
      ]
    },
    {
      "cell_type": "markdown",
      "metadata": {
        "id": "FBzES4fakfpD"
      },
      "source": [
        "#### **1) Gradient clipping 사용**\r\n",
        "\r\n",
        "- Gradient Exploding을 피하기 위한 대표적인 방법\r\n",
        "\r\n",
        "\\\r\n",
        "1. clipnorm \r\n",
        " - L2 노름의 임계값 지정\r\n",
        "\r\n",
        " - L2 노름 > clipnorm인 경우, 클리핑된 그래디언트 = 그래디언트 * clipnorm / Gradient의 L2 노름 \r\n",
        "\r\n",
        "\\\r\n",
        "2. clipvalue\r\n",
        "  - 절대값으로 임계값을 지정\r\n",
        "  - -clipvalue 보다 작은 gradient = - clipvalue\r\n",
        "    \r\n",
        "     +clipvalue 보다 큰 gradient = + clipvalue\r\n",
        "\r\n",
        "\\\r\n",
        "　　　$\\rightarrow$ 　두 방식을 동시에 사용 가능"
      ]
    },
    {
      "cell_type": "code",
      "metadata": {
        "id": "PZ2ywlUNh1pB"
      },
      "source": [
        "from tensorflow.keras.optimizers import Adam\r\n",
        "\r\n",
        "adam = Adam(clipnorm = 5.0)   "
      ],
      "execution_count": null,
      "outputs": []
    },
    {
      "cell_type": "markdown",
      "metadata": {
        "id": "KTzy2HsIkmVq"
      },
      "source": [
        "#### **2) categorical_crossentropy**\r\n",
        "\r\n",
        "- 65개의 글자에 대한 확률을 출력하는 다중 클래스 모델이다."
      ]
    },
    {
      "cell_type": "code",
      "metadata": {
        "id": "IngDqmUQj_AI"
      },
      "source": [
        "char_model.compile(loss = \"categorical_crossentropy\", optimizer = adam)"
      ],
      "execution_count": null,
      "outputs": []
    },
    {
      "cell_type": "markdown",
      "metadata": {
        "id": "SfdagJp7k_Zx"
      },
      "source": [
        "#### **3) Checkpoint callback 준비**"
      ]
    },
    {
      "cell_type": "code",
      "metadata": {
        "id": "DRYlqnF1lEt6"
      },
      "source": [
        "from tensorflow.keras.callbacks import  ModelCheckpoint\r\n",
        "\r\n",
        "callback_list = [ModelCheckpoint(filepath = \"char_rnn_checkpoint.h5\")]"
      ],
      "execution_count": null,
      "outputs": []
    },
    {
      "cell_type": "markdown",
      "metadata": {
        "id": "1DojhgwxlR3x"
      },
      "source": [
        "#### **4) 500번 Epochs동안 모델 훈련**"
      ]
    },
    {
      "cell_type": "code",
      "metadata": {
        "colab": {
          "base_uri": "https://localhost:8080/"
        },
        "id": "UcENsYIolbdC",
        "outputId": "d889b834-3662-4eb7-d257-54d6fc88ec08"
      },
      "source": [
        "for i in range(500) :\r\n",
        "  bgen = create_batch_generator(train_encoded_x,\r\n",
        "                                train_encoded_y,\r\n",
        "                                num_steps)\r\n",
        "  \r\n",
        "  char_model.fit_generator(bgen, steps_per_epoch = 25, epochs = 1,\r\n",
        "                           callbacks = callback_list, verbose = 0)    # verbose = 0 : 훈련과정을 출력하지 않는다."
      ],
      "execution_count": null,
      "outputs": [
        {
          "output_type": "stream",
          "text": [
            "/usr/local/lib/python3.7/dist-packages/tensorflow/python/keras/engine/training.py:1844: UserWarning: `Model.fit_generator` is deprecated and will be removed in a future version. Please use `Model.fit`, which supports generators.\n",
            "  warnings.warn('`Model.fit_generator` is deprecated and '\n"
          ],
          "name": "stderr"
        }
      ]
    },
    {
      "cell_type": "markdown",
      "metadata": {
        "id": "z-1q6YnzBgJw"
      },
      "source": [
        "### **4. 글자 단위 RNN Model로 텍스트 생성**\r\n",
        "\r\n",
        "텍스트를 만들기 위해 앞서 설명한 것처럼 배치크기 1, 타임 스텝 길이 1을 만들어 모델에 주입한다."
      ]
    },
    {
      "cell_type": "markdown",
      "metadata": {
        "id": "Rc7d1BKoHCso"
      },
      "source": [
        "#### **1) get_top_char 함수 정의**\r\n",
        "\r\n",
        "　　: 모델에서 출력된 65개의 확률 값에서 하나를 랜덤하게 선택할 함"
      ]
    },
    {
      "cell_type": "code",
      "metadata": {
        "id": "6-hTeSKwI7ER"
      },
      "source": [
        "np.random.seed(42)\r\n",
        "\r\n",
        "def get_top_char(probas, char_size, top_n = 5) :\r\n",
        "  p = np.squeeze(probas)\r\n",
        "  p[np.argsort(p)[ : -top_n]] = 0.0\r\n",
        "  p = p / np.sum(p)\r\n",
        "  ch_id = np.random.choice(char_size, 1, p = p)[0]\r\n",
        "  return ch_id"
      ],
      "execution_count": null,
      "outputs": []
    },
    {
      "cell_type": "markdown",
      "metadata": {
        "id": "Bat3XarGHb30"
      },
      "source": [
        "#### **2) \"The\"란 초기 문자열로 이어지는 텍스트 생성**"
      ]
    },
    {
      "cell_type": "code",
      "metadata": {
        "id": "BQruOwCrBqsN"
      },
      "source": [
        "seed_text = \"The\"\r\n",
        "\r\n",
        "for ch in seed_text:\r\n",
        "  num = [char2int[ch]]\r\n",
        "  onehot = to_categorical(num, num_classes = 65)\r\n",
        "  onehot = np.expand_dims(onehot, axis = 0)\r\n",
        "  probas = char_model.predict(onehot)\r\n",
        "\r\n",
        "num = get_top_char(probas, len(chars))\r\n",
        "seed_text += int2char[num]"
      ],
      "execution_count": null,
      "outputs": []
    },
    {
      "cell_type": "markdown",
      "metadata": {
        "id": "MPszdK6xHoe-"
      },
      "source": [
        "#### **3) 500번 반복**\r\n",
        "\\\r\n",
        "- 예측한 문자열을 비슷한 과정으로 인코딩하여 다시 모델에 주입 \r\n",
        "\r\n",
        "- 반환된 클래스 확률값을 사용하여 다시 다음 글자를 선택\r\n",
        "\r\n",
        "\\\r\n",
        "　\r\n",
        "  $\\rightarrow$ 이런 과정을 for반복문을 사용하여 500번 되풀이하여 긴 텍스트 생성"
      ]
    },
    {
      "cell_type": "code",
      "metadata": {
        "colab": {
          "base_uri": "https://localhost:8080/"
        },
        "id": "i2OyC-HsIeFL",
        "outputId": "5c0d3e57-0ea4-4a95-94f1-28a2ead85f24"
      },
      "source": [
        "for i in range(500) :\r\n",
        "  onehot = to_categorical([num], num_classes = 65)\r\n",
        "  onehot = np.expand_dims(onehot, axis = 0)\r\n",
        "  probas = char_model.predict(onehot)\r\n",
        "  num = get_top_char(probas, len(chars))\r\n",
        "  seed_text += int2char[num]\r\n",
        "\r\n",
        "print(seed_text)"
      ],
      "execution_count": null,
      "outputs": [
        {
          "output_type": "stream",
          "text": [
            "The we, toriende t illie it ane, m. wer thingowie mandess w to ind il ande therengorino ierd the,\n",
            "\n",
            "\n",
            " tone me is t therer wiss t iss mino wile we mucour th tes ar a mator touene m.\n",
            " w indyoue, tord, iessue thenou tsth angereringr wis athind th wes thishe is tshe, me merert ares mererd inenge m. a ter m. mares is inowert t mer we, ings tonde te t ier ie wanou me, mathish tonou is anourere thes is we ar wis windo we,\n",
            "\n",
            " ierer m. is t atondore thithesur at w m. toneris is wndorthous me mas iss mucke, wer\n"
          ],
          "name": "stdout"
        }
      ]
    },
    {
      "cell_type": "code",
      "metadata": {
        "id": "8n1ciLpOI9f8"
      },
      "source": [
        ""
      ],
      "execution_count": null,
      "outputs": []
    }
  ]
}