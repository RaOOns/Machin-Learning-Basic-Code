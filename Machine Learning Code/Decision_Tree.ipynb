{
  "nbformat": 4,
  "nbformat_minor": 0,
  "metadata": {
    "colab": {
      "name": "Decision Tree.ipynb",
      "provenance": [],
      "collapsed_sections": [],
      "toc_visible": true,
      "authorship_tag": "ABX9TyPwQLPsYCvTylAfdUx+KZzN",
      "include_colab_link": true
    },
    "kernelspec": {
      "name": "python3",
      "display_name": "Python 3"
    }
  },
  "cells": [
    {
      "cell_type": "markdown",
      "metadata": {
        "id": "view-in-github",
        "colab_type": "text"
      },
      "source": [
        "<a href=\"https://colab.research.google.com/github/dhguslee/leedo/blob/main/Machine%20Learning%20Code/Decision_Tree.ipynb\" target=\"_parent\"><img src=\"https://colab.research.google.com/assets/colab-badge.svg\" alt=\"Open In Colab\"/></a>"
      ]
    },
    {
      "cell_type": "markdown",
      "metadata": {
        "id": "b2Kwb7CpyTFQ"
      },
      "source": [
        "# Decision Tree\r\n",
        "---"
      ]
    },
    {
      "cell_type": "markdown",
      "metadata": {
        "id": "yvByfyIbycZZ"
      },
      "source": [
        "### I. Library"
      ]
    },
    {
      "cell_type": "code",
      "metadata": {
        "id": "pt2AT38Uyf0k"
      },
      "source": [
        "from sklearn.tree import DecisionTreeClassifier, export_graphviz\r\n",
        "import pandas as pd\r\n",
        "import numpy as np\r\n",
        "import matplotlib.pyplot as plt"
      ],
      "execution_count": null,
      "outputs": []
    },
    {
      "cell_type": "markdown",
      "metadata": {
        "id": "4TjG0-RUyulr"
      },
      "source": [
        "### II. Dataset Preparation"
      ]
    },
    {
      "cell_type": "code",
      "metadata": {
        "colab": {
          "base_uri": "https://localhost:8080/"
        },
        "id": "vf5wb5h9y0cZ",
        "outputId": "9394455b-9622-4db0-f8ee-75febabc60a5"
      },
      "source": [
        "from sklearn.datasets import load_breast_cancer\r\n",
        "\r\n",
        "cancer = load_breast_cancer()\r\n",
        "\r\n",
        "df = pd.DataFrame(data = cancer.data, columns = cancer.feature_names)\r\n",
        "df[\"target\"] = cancer.target\r\n",
        "\r\n",
        "print(\"shape : \", df.shape, \"\\n\", \"data : \", df.head())\r\n",
        "\r\n",
        "# x = df.loc[ : , df.columns != \"target\"]\r\n",
        "# y = df[\"target\"]\r\n",
        "# print(\"x : \", x.shape, \"y : \", y.shape)"
      ],
      "execution_count": null,
      "outputs": [
        {
          "output_type": "stream",
          "text": [
            "shape :  (569, 31) \n",
            " data :     mean radius  mean texture  ...  worst fractal dimension  target\n",
            "0        17.99         10.38  ...                  0.11890       0\n",
            "1        20.57         17.77  ...                  0.08902       0\n",
            "2        19.69         21.25  ...                  0.08758       0\n",
            "3        11.42         20.38  ...                  0.17300       0\n",
            "4        20.29         14.34  ...                  0.07678       0\n",
            "\n",
            "[5 rows x 31 columns]\n"
          ],
          "name": "stdout"
        }
      ]
    },
    {
      "cell_type": "markdown",
      "metadata": {
        "id": "S2m1U9qA0EJ5"
      },
      "source": [
        "### III. Train dataset and Test dataset"
      ]
    },
    {
      "cell_type": "code",
      "metadata": {
        "colab": {
          "base_uri": "https://localhost:8080/"
        },
        "id": "QXHnRRG2WUuC",
        "outputId": "649e87b7-4c89-4632-8dcb-1d651abd0a07"
      },
      "source": [
        "from sklearn.model_selection import train_test_split\r\n",
        "\r\n",
        "x_train, x_test, y_train, y_test = train_test_split(cancer.data, cancer.target,\r\n",
        "                                                    test_size = 0.3,\r\n",
        "                                                    stratify = cancer.target,   # train set과 test set의 class비율 동일\r\n",
        "                                                    shuffle = True,\r\n",
        "                                                    random_state = 1)\r\n",
        "\r\n",
        "x_train.shape, x_test.shape, y_train.shape, y_test.shape"
      ],
      "execution_count": null,
      "outputs": [
        {
          "output_type": "execute_result",
          "data": {
            "text/plain": [
              "((398, 30), (171, 30), (398,), (171,))"
            ]
          },
          "metadata": {
            "tags": []
          },
          "execution_count": 4
        }
      ]
    },
    {
      "cell_type": "markdown",
      "metadata": {
        "id": "dFQqE6Gb0ivk"
      },
      "source": [
        "### IV. Model training"
      ]
    },
    {
      "cell_type": "code",
      "metadata": {
        "colab": {
          "base_uri": "https://localhost:8080/"
        },
        "id": "yzF1yHXnWRAb",
        "outputId": "a0e92d9d-2419-4eb7-a4cb-cbc9d21b15c0"
      },
      "source": [
        "### 모든 리프 노드 사용\r\n",
        "DT = DecisionTreeClassifier(random_state = 11)\r\n",
        "\r\n",
        "DT.fit(x_train, y_train)\r\n",
        "\r\n",
        "\r\n",
        "### 트리 깊이 제한\r\n",
        "DTL = DecisionTreeClassifier(max_depth = 4, random_state = 22)\r\n",
        "\r\n",
        "DTL.fit(x_train, y_train)"
      ],
      "execution_count": null,
      "outputs": [
        {
          "output_type": "execute_result",
          "data": {
            "text/plain": [
              "DecisionTreeClassifier(ccp_alpha=0.0, class_weight=None, criterion='gini',\n",
              "                       max_depth=4, max_features=None, max_leaf_nodes=None,\n",
              "                       min_impurity_decrease=0.0, min_impurity_split=None,\n",
              "                       min_samples_leaf=1, min_samples_split=2,\n",
              "                       min_weight_fraction_leaf=0.0, presort='deprecated',\n",
              "                       random_state=22, splitter='best')"
            ]
          },
          "metadata": {
            "tags": []
          },
          "execution_count": 5
        }
      ]
    },
    {
      "cell_type": "markdown",
      "metadata": {
        "id": "zIehWNEXXZ2h"
      },
      "source": [
        "### V. Prediction"
      ]
    },
    {
      "cell_type": "code",
      "metadata": {
        "colab": {
          "base_uri": "https://localhost:8080/"
        },
        "id": "3b3Pi8dXXdK2",
        "outputId": "9b929250-a87c-4fc6-85e0-f5dc87cc6a00"
      },
      "source": [
        "DT.predict(x_test)\r\n",
        "\r\n",
        "DTL.predict(x_test)"
      ],
      "execution_count": null,
      "outputs": [
        {
          "output_type": "execute_result",
          "data": {
            "text/plain": [
              "array([0, 1, 1, 0, 0, 0, 1, 0, 1, 0, 0, 0, 1, 1, 1, 1, 0, 1, 0, 0, 1, 1,\n",
              "       1, 1, 0, 1, 0, 1, 1, 1, 0, 0, 0, 0, 1, 1, 1, 1, 0, 1, 0, 1, 1, 1,\n",
              "       1, 1, 0, 1, 0, 1, 1, 1, 0, 1, 1, 1, 1, 0, 1, 1, 1, 1, 1, 1, 0, 0,\n",
              "       0, 1, 1, 1, 1, 0, 0, 1, 1, 1, 1, 1, 1, 1, 1, 0, 1, 0, 0, 1, 0, 1,\n",
              "       0, 0, 1, 1, 0, 1, 0, 1, 1, 1, 1, 1, 0, 1, 1, 1, 1, 0, 1, 0, 0, 1,\n",
              "       1, 1, 1, 0, 0, 0, 1, 0, 0, 1, 0, 1, 1, 1, 1, 1, 1, 1, 1, 0, 0, 1,\n",
              "       0, 1, 1, 0, 1, 1, 0, 0, 0, 0, 1, 1, 0, 1, 1, 1, 1, 1, 1, 0, 1, 1,\n",
              "       0, 1, 1, 0, 1, 1, 1, 0, 0, 1, 0, 0, 1, 0, 1, 0, 0])"
            ]
          },
          "metadata": {
            "tags": []
          },
          "execution_count": 6
        }
      ]
    },
    {
      "cell_type": "markdown",
      "metadata": {
        "id": "oEeJ7QlEX8UT"
      },
      "source": [
        "### VI. Score (Accuracy)"
      ]
    },
    {
      "cell_type": "code",
      "metadata": {
        "colab": {
          "base_uri": "https://localhost:8080/"
        },
        "id": "Qilqz380X_oA",
        "outputId": "e94a98d7-0049-4065-a696-6c0947317964"
      },
      "source": [
        "DT_train_socre = DT.score(x_train, y_train)\r\n",
        "DT_test_socre = DT.score(x_test, y_test)\r\n",
        "\r\n",
        "DTL_train_socre = DTL.score(x_train, y_train)\r\n",
        "DTL_test_socre = DTL.score(x_test, y_test)\r\n",
        "\r\n",
        "\r\n",
        "print(\"DT\", \"\\n\", \"Train Score : \", np.round(DT_train_socre, 3), \r\n",
        "      \"\\n\", \"Test Score\", np.round(DT_test_socre, 3))\r\n",
        "print(\"DTL\", \"\\n\", \"Train Score : \", np.round(DTL_train_socre, 3), \r\n",
        "      \"\\n\", \"Test Score\", np.round(DTL_test_socre, 3))"
      ],
      "execution_count": null,
      "outputs": [
        {
          "output_type": "stream",
          "text": [
            "DT \n",
            " Train Score :  1.0 \n",
            " Test Score 0.947\n",
            "DTL \n",
            " Train Score :  0.985 \n",
            " Test Score 0.942\n"
          ],
          "name": "stdout"
        }
      ]
    },
    {
      "cell_type": "markdown",
      "metadata": {
        "id": "kDjkdvFYdQdt"
      },
      "source": [
        "### VII-1. Visualization DT (by export_graphviz)"
      ]
    },
    {
      "cell_type": "code",
      "metadata": {
        "colab": {
          "base_uri": "https://localhost:8080/",
          "height": 953
        },
        "id": "RlJDtKX0dSpL",
        "outputId": "cd6ac436-9b00-4d7f-948a-398496ce44c6"
      },
      "source": [
        "# export_graphviz() = 그래프 저장용 텍스트 파일 포맷인 .dot 파일 포맷 생성\r\n",
        "\r\n",
        "export_graphviz(DT,      # Decision Tree model\r\n",
        "                out_file = \"decisionTree1.dot\",         # 파일 저장 유무\r\n",
        "                class_names = [\"maligant\", \"benign\"],   # class 변수의 값 이름 설정 / 이진분류에서 2개뿐\r\n",
        "                feature_names = cancer.feature_names,   # columns 이름 지정\r\n",
        "                impurity = False,       # \r\n",
        "                filled = True)          # True이면 노드의 클래스가 구분되도록 색 지정\r\n",
        "\r\n",
        "\r\n",
        "import graphviz\r\n",
        "\r\n",
        "with open(\"decisionTree1.dot\") as f :\r\n",
        "  dot_graph = f.read()\r\n",
        "graphviz.Source(dot_graph)"
      ],
      "execution_count": null,
      "outputs": [
        {
          "output_type": "execute_result",
          "data": {
            "text/plain": [
              "<graphviz.files.Source at 0x7f7a64804ba8>"
            ],
            "image/svg+xml": "<?xml version=\"1.0\" encoding=\"UTF-8\" standalone=\"no\"?>\n<!DOCTYPE svg PUBLIC \"-//W3C//DTD SVG 1.1//EN\"\n \"http://www.w3.org/Graphics/SVG/1.1/DTD/svg11.dtd\">\n<!-- Generated by graphviz version 2.40.1 (20161225.0304)\n -->\n<!-- Title: Tree Pages: 1 -->\n<svg width=\"1163pt\" height=\"685pt\"\n viewBox=\"0.00 0.00 1163.00 685.00\" xmlns=\"http://www.w3.org/2000/svg\" xmlns:xlink=\"http://www.w3.org/1999/xlink\">\n<g id=\"graph0\" class=\"graph\" transform=\"scale(1 1) rotate(0) translate(4 681)\">\n<title>Tree</title>\n<polygon fill=\"#ffffff\" stroke=\"transparent\" points=\"-4,4 -4,-681 1159,-681 1159,4 -4,4\"/>\n<!-- 0 -->\n<g id=\"node1\" class=\"node\">\n<title>0</title>\n<polygon fill=\"#aed7f4\" stroke=\"#000000\" points=\"720,-677 525,-677 525,-609 720,-609 720,-677\"/>\n<text text-anchor=\"middle\" x=\"622.5\" y=\"-661.8\" font-family=\"Times,serif\" font-size=\"14.00\" fill=\"#000000\">worst concave points &lt;= 0.146</text>\n<text text-anchor=\"middle\" x=\"622.5\" y=\"-646.8\" font-family=\"Times,serif\" font-size=\"14.00\" fill=\"#000000\">samples = 398</text>\n<text text-anchor=\"middle\" x=\"622.5\" y=\"-631.8\" font-family=\"Times,serif\" font-size=\"14.00\" fill=\"#000000\">value = [148, 250]</text>\n<text text-anchor=\"middle\" x=\"622.5\" y=\"-616.8\" font-family=\"Times,serif\" font-size=\"14.00\" fill=\"#000000\">class = benign</text>\n</g>\n<!-- 1 -->\n<g id=\"node2\" class=\"node\">\n<title>1</title>\n<polygon fill=\"#4da7e8\" stroke=\"#000000\" points=\"611.5,-573 479.5,-573 479.5,-505 611.5,-505 611.5,-573\"/>\n<text text-anchor=\"middle\" x=\"545.5\" y=\"-557.8\" font-family=\"Times,serif\" font-size=\"14.00\" fill=\"#000000\">worst area &lt;= 929.8</text>\n<text text-anchor=\"middle\" x=\"545.5\" y=\"-542.8\" font-family=\"Times,serif\" font-size=\"14.00\" fill=\"#000000\">samples = 269</text>\n<text text-anchor=\"middle\" x=\"545.5\" y=\"-527.8\" font-family=\"Times,serif\" font-size=\"14.00\" fill=\"#000000\">value = [25, 244]</text>\n<text text-anchor=\"middle\" x=\"545.5\" y=\"-512.8\" font-family=\"Times,serif\" font-size=\"14.00\" fill=\"#000000\">class = benign</text>\n</g>\n<!-- 0&#45;&gt;1 -->\n<g id=\"edge1\" class=\"edge\">\n<title>0&#45;&gt;1</title>\n<path fill=\"none\" stroke=\"#000000\" d=\"M597.2873,-608.9465C590.7727,-600.1475 583.6795,-590.5672 576.8918,-581.3993\"/>\n<polygon fill=\"#000000\" stroke=\"#000000\" points=\"579.5327,-579.0843 570.7693,-573.13 573.9069,-583.2496 579.5327,-579.0843\"/>\n<text text-anchor=\"middle\" x=\"567.0809\" y=\"-594.1564\" font-family=\"Times,serif\" font-size=\"14.00\" fill=\"#000000\">True</text>\n</g>\n<!-- 20 -->\n<g id=\"node21\" class=\"node\">\n<title>20</title>\n<polygon fill=\"#e68743\" stroke=\"#000000\" points=\"769.5,-573 629.5,-573 629.5,-505 769.5,-505 769.5,-573\"/>\n<text text-anchor=\"middle\" x=\"699.5\" y=\"-557.8\" font-family=\"Times,serif\" font-size=\"14.00\" fill=\"#000000\">worst area &lt;= 492.25</text>\n<text text-anchor=\"middle\" x=\"699.5\" y=\"-542.8\" font-family=\"Times,serif\" font-size=\"14.00\" fill=\"#000000\">samples = 129</text>\n<text text-anchor=\"middle\" x=\"699.5\" y=\"-527.8\" font-family=\"Times,serif\" font-size=\"14.00\" fill=\"#000000\">value = [123, 6]</text>\n<text text-anchor=\"middle\" x=\"699.5\" y=\"-512.8\" font-family=\"Times,serif\" font-size=\"14.00\" fill=\"#000000\">class = maligant</text>\n</g>\n<!-- 0&#45;&gt;20 -->\n<g id=\"edge20\" class=\"edge\">\n<title>0&#45;&gt;20</title>\n<path fill=\"none\" stroke=\"#000000\" d=\"M647.7127,-608.9465C654.2273,-600.1475 661.3205,-590.5672 668.1082,-581.3993\"/>\n<polygon fill=\"#000000\" stroke=\"#000000\" points=\"671.0931,-583.2496 674.2307,-573.13 665.4673,-579.0843 671.0931,-583.2496\"/>\n<text text-anchor=\"middle\" x=\"677.9191\" y=\"-594.1564\" font-family=\"Times,serif\" font-size=\"14.00\" fill=\"#000000\">False</text>\n</g>\n<!-- 2 -->\n<g id=\"node3\" class=\"node\">\n<title>2</title>\n<polygon fill=\"#41a1e6\" stroke=\"#000000\" points=\"457.5,-469 263.5,-469 263.5,-401 457.5,-401 457.5,-469\"/>\n<text text-anchor=\"middle\" x=\"360.5\" y=\"-453.8\" font-family=\"Times,serif\" font-size=\"14.00\" fill=\"#000000\">worst concave points &lt;= 0.111</text>\n<text text-anchor=\"middle\" x=\"360.5\" y=\"-438.8\" font-family=\"Times,serif\" font-size=\"14.00\" fill=\"#000000\">samples = 252</text>\n<text text-anchor=\"middle\" x=\"360.5\" y=\"-423.8\" font-family=\"Times,serif\" font-size=\"14.00\" fill=\"#000000\">value = [10, 242]</text>\n<text text-anchor=\"middle\" x=\"360.5\" y=\"-408.8\" font-family=\"Times,serif\" font-size=\"14.00\" fill=\"#000000\">class = benign</text>\n</g>\n<!-- 1&#45;&gt;2 -->\n<g id=\"edge2\" class=\"edge\">\n<title>1&#45;&gt;2</title>\n<path fill=\"none\" stroke=\"#000000\" d=\"M484.9241,-504.9465C467.3555,-495.0701 448.0357,-484.2093 429.9679,-474.0522\"/>\n<polygon fill=\"#000000\" stroke=\"#000000\" points=\"431.6442,-470.9795 421.212,-469.13 428.2139,-477.0814 431.6442,-470.9795\"/>\n</g>\n<!-- 17 -->\n<g id=\"node18\" class=\"node\">\n<title>17</title>\n<polygon fill=\"#e89253\" stroke=\"#000000\" points=\"624,-469 475,-469 475,-401 624,-401 624,-469\"/>\n<text text-anchor=\"middle\" x=\"549.5\" y=\"-453.8\" font-family=\"Times,serif\" font-size=\"14.00\" fill=\"#000000\">worst texture &lt;= 19.91</text>\n<text text-anchor=\"middle\" x=\"549.5\" y=\"-438.8\" font-family=\"Times,serif\" font-size=\"14.00\" fill=\"#000000\">samples = 17</text>\n<text text-anchor=\"middle\" x=\"549.5\" y=\"-423.8\" font-family=\"Times,serif\" font-size=\"14.00\" fill=\"#000000\">value = [15, 2]</text>\n<text text-anchor=\"middle\" x=\"549.5\" y=\"-408.8\" font-family=\"Times,serif\" font-size=\"14.00\" fill=\"#000000\">class = maligant</text>\n</g>\n<!-- 1&#45;&gt;17 -->\n<g id=\"edge17\" class=\"edge\">\n<title>1&#45;&gt;17</title>\n<path fill=\"none\" stroke=\"#000000\" d=\"M546.8097,-504.9465C547.124,-496.776 547.4642,-487.9318 547.7935,-479.3697\"/>\n<polygon fill=\"#000000\" stroke=\"#000000\" points=\"551.3003,-479.2572 548.1873,-469.13 544.3055,-478.9881 551.3003,-479.2572\"/>\n</g>\n<!-- 3 -->\n<g id=\"node4\" class=\"node\">\n<title>3</title>\n<polygon fill=\"#3b9ee5\" stroke=\"#000000\" points=\"281,-365 150,-365 150,-297 281,-297 281,-365\"/>\n<text text-anchor=\"middle\" x=\"215.5\" y=\"-349.8\" font-family=\"Times,serif\" font-size=\"14.00\" fill=\"#000000\">mean area &lt;= 694.5</text>\n<text text-anchor=\"middle\" x=\"215.5\" y=\"-334.8\" font-family=\"Times,serif\" font-size=\"14.00\" fill=\"#000000\">samples = 215</text>\n<text text-anchor=\"middle\" x=\"215.5\" y=\"-319.8\" font-family=\"Times,serif\" font-size=\"14.00\" fill=\"#000000\">value = [2, 213]</text>\n<text text-anchor=\"middle\" x=\"215.5\" y=\"-304.8\" font-family=\"Times,serif\" font-size=\"14.00\" fill=\"#000000\">class = benign</text>\n</g>\n<!-- 2&#45;&gt;3 -->\n<g id=\"edge3\" class=\"edge\">\n<title>2&#45;&gt;3</title>\n<path fill=\"none\" stroke=\"#000000\" d=\"M313.0216,-400.9465C299.7523,-391.4293 285.2085,-380.9978 271.4965,-371.163\"/>\n<polygon fill=\"#000000\" stroke=\"#000000\" points=\"273.251,-368.1142 263.0851,-365.13 269.1712,-373.8024 273.251,-368.1142\"/>\n</g>\n<!-- 10 -->\n<g id=\"node11\" class=\"node\">\n<title>10</title>\n<polygon fill=\"#70b8ec\" stroke=\"#000000\" points=\"446,-365 299,-365 299,-297 446,-297 446,-365\"/>\n<text text-anchor=\"middle\" x=\"372.5\" y=\"-349.8\" font-family=\"Times,serif\" font-size=\"14.00\" fill=\"#000000\">mean texture &lt;= 21.11</text>\n<text text-anchor=\"middle\" x=\"372.5\" y=\"-334.8\" font-family=\"Times,serif\" font-size=\"14.00\" fill=\"#000000\">samples = 37</text>\n<text text-anchor=\"middle\" x=\"372.5\" y=\"-319.8\" font-family=\"Times,serif\" font-size=\"14.00\" fill=\"#000000\">value = [8, 29]</text>\n<text text-anchor=\"middle\" x=\"372.5\" y=\"-304.8\" font-family=\"Times,serif\" font-size=\"14.00\" fill=\"#000000\">class = benign</text>\n</g>\n<!-- 2&#45;&gt;10 -->\n<g id=\"edge10\" class=\"edge\">\n<title>2&#45;&gt;10</title>\n<path fill=\"none\" stroke=\"#000000\" d=\"M364.4292,-400.9465C365.3824,-392.6863 366.4149,-383.7374 367.413,-375.0875\"/>\n<polygon fill=\"#000000\" stroke=\"#000000\" points=\"370.8925,-375.4653 368.5619,-365.13 363.9387,-374.6629 370.8925,-375.4653\"/>\n</g>\n<!-- 4 -->\n<g id=\"node5\" class=\"node\">\n<title>4</title>\n<polygon fill=\"#3a9de5\" stroke=\"#000000\" points=\"152,-261 17,-261 17,-193 152,-193 152,-261\"/>\n<text text-anchor=\"middle\" x=\"84.5\" y=\"-245.8\" font-family=\"Times,serif\" font-size=\"14.00\" fill=\"#000000\">area error &lt;= 48.975</text>\n<text text-anchor=\"middle\" x=\"84.5\" y=\"-230.8\" font-family=\"Times,serif\" font-size=\"14.00\" fill=\"#000000\">samples = 214</text>\n<text text-anchor=\"middle\" x=\"84.5\" y=\"-215.8\" font-family=\"Times,serif\" font-size=\"14.00\" fill=\"#000000\">value = [1, 213]</text>\n<text text-anchor=\"middle\" x=\"84.5\" y=\"-200.8\" font-family=\"Times,serif\" font-size=\"14.00\" fill=\"#000000\">class = benign</text>\n</g>\n<!-- 3&#45;&gt;4 -->\n<g id=\"edge4\" class=\"edge\">\n<title>3&#45;&gt;4</title>\n<path fill=\"none\" stroke=\"#000000\" d=\"M172.6057,-296.9465C160.7307,-287.519 147.7259,-277.1946 135.4407,-267.4415\"/>\n<polygon fill=\"#000000\" stroke=\"#000000\" points=\"137.4989,-264.6066 127.4907,-261.13 133.1464,-270.089 137.4989,-264.6066\"/>\n</g>\n<!-- 9 -->\n<g id=\"node10\" class=\"node\">\n<title>9</title>\n<polygon fill=\"#e58139\" stroke=\"#000000\" points=\"278.5,-253.5 170.5,-253.5 170.5,-200.5 278.5,-200.5 278.5,-253.5\"/>\n<text text-anchor=\"middle\" x=\"224.5\" y=\"-238.3\" font-family=\"Times,serif\" font-size=\"14.00\" fill=\"#000000\">samples = 1</text>\n<text text-anchor=\"middle\" x=\"224.5\" y=\"-223.3\" font-family=\"Times,serif\" font-size=\"14.00\" fill=\"#000000\">value = [1, 0]</text>\n<text text-anchor=\"middle\" x=\"224.5\" y=\"-208.3\" font-family=\"Times,serif\" font-size=\"14.00\" fill=\"#000000\">class = maligant</text>\n</g>\n<!-- 3&#45;&gt;9 -->\n<g id=\"edge9\" class=\"edge\">\n<title>3&#45;&gt;9</title>\n<path fill=\"none\" stroke=\"#000000\" d=\"M218.4469,-296.9465C219.3716,-286.2621 220.3959,-274.4254 221.3349,-263.5742\"/>\n<polygon fill=\"#000000\" stroke=\"#000000\" points=\"224.8278,-263.8067 222.2031,-253.5422 217.8539,-263.2031 224.8278,-263.8067\"/>\n</g>\n<!-- 5 -->\n<g id=\"node6\" class=\"node\">\n<title>5</title>\n<polygon fill=\"#399de5\" stroke=\"#000000\" points=\"109,-149.5 0,-149.5 0,-96.5 109,-96.5 109,-149.5\"/>\n<text text-anchor=\"middle\" x=\"54.5\" y=\"-134.3\" font-family=\"Times,serif\" font-size=\"14.00\" fill=\"#000000\">samples = 211</text>\n<text text-anchor=\"middle\" x=\"54.5\" y=\"-119.3\" font-family=\"Times,serif\" font-size=\"14.00\" fill=\"#000000\">value = [0, 211]</text>\n<text text-anchor=\"middle\" x=\"54.5\" y=\"-104.3\" font-family=\"Times,serif\" font-size=\"14.00\" fill=\"#000000\">class = benign</text>\n</g>\n<!-- 4&#45;&gt;5 -->\n<g id=\"edge5\" class=\"edge\">\n<title>4&#45;&gt;5</title>\n<path fill=\"none\" stroke=\"#000000\" d=\"M74.6769,-192.9465C71.563,-182.1519 68.11,-170.1813 64.9535,-159.2389\"/>\n<polygon fill=\"#000000\" stroke=\"#000000\" points=\"68.291,-158.1803 62.1564,-149.5422 61.5652,-160.1205 68.291,-158.1803\"/>\n</g>\n<!-- 6 -->\n<g id=\"node7\" class=\"node\">\n<title>6</title>\n<polygon fill=\"#9ccef2\" stroke=\"#000000\" points=\"279.5,-157 127.5,-157 127.5,-89 279.5,-89 279.5,-157\"/>\n<text text-anchor=\"middle\" x=\"203.5\" y=\"-141.8\" font-family=\"Times,serif\" font-size=\"14.00\" fill=\"#000000\">worst radius &lt;= 13.555</text>\n<text text-anchor=\"middle\" x=\"203.5\" y=\"-126.8\" font-family=\"Times,serif\" font-size=\"14.00\" fill=\"#000000\">samples = 3</text>\n<text text-anchor=\"middle\" x=\"203.5\" y=\"-111.8\" font-family=\"Times,serif\" font-size=\"14.00\" fill=\"#000000\">value = [1, 2]</text>\n<text text-anchor=\"middle\" x=\"203.5\" y=\"-96.8\" font-family=\"Times,serif\" font-size=\"14.00\" fill=\"#000000\">class = benign</text>\n</g>\n<!-- 4&#45;&gt;6 -->\n<g id=\"edge6\" class=\"edge\">\n<title>4&#45;&gt;6</title>\n<path fill=\"none\" stroke=\"#000000\" d=\"M123.4651,-192.9465C134.1495,-183.6088 145.8409,-173.3911 156.9066,-163.7203\"/>\n<polygon fill=\"#000000\" stroke=\"#000000\" points=\"159.2209,-166.346 164.4474,-157.13 154.6145,-161.0752 159.2209,-166.346\"/>\n</g>\n<!-- 7 -->\n<g id=\"node8\" class=\"node\">\n<title>7</title>\n<polygon fill=\"#e58139\" stroke=\"#000000\" points=\"235.5,-53 127.5,-53 127.5,0 235.5,0 235.5,-53\"/>\n<text text-anchor=\"middle\" x=\"181.5\" y=\"-37.8\" font-family=\"Times,serif\" font-size=\"14.00\" fill=\"#000000\">samples = 1</text>\n<text text-anchor=\"middle\" x=\"181.5\" y=\"-22.8\" font-family=\"Times,serif\" font-size=\"14.00\" fill=\"#000000\">value = [1, 0]</text>\n<text text-anchor=\"middle\" x=\"181.5\" y=\"-7.8\" font-family=\"Times,serif\" font-size=\"14.00\" fill=\"#000000\">class = maligant</text>\n</g>\n<!-- 6&#45;&gt;7 -->\n<g id=\"edge7\" class=\"edge\">\n<title>6&#45;&gt;7</title>\n<path fill=\"none\" stroke=\"#000000\" d=\"M195.7436,-88.9777C193.8439,-80.6449 191.8024,-71.6903 189.8751,-63.2364\"/>\n<polygon fill=\"#000000\" stroke=\"#000000\" points=\"193.2334,-62.2203 187.5981,-53.2485 186.4085,-63.7763 193.2334,-62.2203\"/>\n</g>\n<!-- 8 -->\n<g id=\"node9\" class=\"node\">\n<title>8</title>\n<polygon fill=\"#399de5\" stroke=\"#000000\" points=\"351.5,-53 253.5,-53 253.5,0 351.5,0 351.5,-53\"/>\n<text text-anchor=\"middle\" x=\"302.5\" y=\"-37.8\" font-family=\"Times,serif\" font-size=\"14.00\" fill=\"#000000\">samples = 2</text>\n<text text-anchor=\"middle\" x=\"302.5\" y=\"-22.8\" font-family=\"Times,serif\" font-size=\"14.00\" fill=\"#000000\">value = [0, 2]</text>\n<text text-anchor=\"middle\" x=\"302.5\" y=\"-7.8\" font-family=\"Times,serif\" font-size=\"14.00\" fill=\"#000000\">class = benign</text>\n</g>\n<!-- 6&#45;&gt;8 -->\n<g id=\"edge8\" class=\"edge\">\n<title>6&#45;&gt;8</title>\n<path fill=\"none\" stroke=\"#000000\" d=\"M238.4037,-88.9777C247.8918,-79.7292 258.1657,-69.7147 267.6509,-60.4691\"/>\n<polygon fill=\"#000000\" stroke=\"#000000\" points=\"270.3407,-62.7349 275.0586,-53.2485 265.4546,-57.7223 270.3407,-62.7349\"/>\n</g>\n<!-- 11 -->\n<g id=\"node12\" class=\"node\">\n<title>11</title>\n<polygon fill=\"#399de5\" stroke=\"#000000\" points=\"415.5,-253.5 313.5,-253.5 313.5,-200.5 415.5,-200.5 415.5,-253.5\"/>\n<text text-anchor=\"middle\" x=\"364.5\" y=\"-238.3\" font-family=\"Times,serif\" font-size=\"14.00\" fill=\"#000000\">samples = 23</text>\n<text text-anchor=\"middle\" x=\"364.5\" y=\"-223.3\" font-family=\"Times,serif\" font-size=\"14.00\" fill=\"#000000\">value = [0, 23]</text>\n<text text-anchor=\"middle\" x=\"364.5\" y=\"-208.3\" font-family=\"Times,serif\" font-size=\"14.00\" fill=\"#000000\">class = benign</text>\n</g>\n<!-- 10&#45;&gt;11 -->\n<g id=\"edge11\" class=\"edge\">\n<title>10&#45;&gt;11</title>\n<path fill=\"none\" stroke=\"#000000\" d=\"M369.8805,-296.9465C369.0586,-286.2621 368.1481,-274.4254 367.3134,-263.5742\"/>\n<polygon fill=\"#000000\" stroke=\"#000000\" points=\"370.7985,-263.2442 366.5417,-253.5422 363.8191,-263.7812 370.7985,-263.2442\"/>\n</g>\n<!-- 12 -->\n<g id=\"node13\" class=\"node\">\n<title>12</title>\n<polygon fill=\"#f8e0ce\" stroke=\"#000000\" points=\"573.5,-261 433.5,-261 433.5,-193 573.5,-193 573.5,-261\"/>\n<text text-anchor=\"middle\" x=\"503.5\" y=\"-245.8\" font-family=\"Times,serif\" font-size=\"14.00\" fill=\"#000000\">worst area &lt;= 713.55</text>\n<text text-anchor=\"middle\" x=\"503.5\" y=\"-230.8\" font-family=\"Times,serif\" font-size=\"14.00\" fill=\"#000000\">samples = 14</text>\n<text text-anchor=\"middle\" x=\"503.5\" y=\"-215.8\" font-family=\"Times,serif\" font-size=\"14.00\" fill=\"#000000\">value = [8, 6]</text>\n<text text-anchor=\"middle\" x=\"503.5\" y=\"-200.8\" font-family=\"Times,serif\" font-size=\"14.00\" fill=\"#000000\">class = maligant</text>\n</g>\n<!-- 10&#45;&gt;12 -->\n<g id=\"edge12\" class=\"edge\">\n<title>10&#45;&gt;12</title>\n<path fill=\"none\" stroke=\"#000000\" d=\"M415.3943,-296.9465C427.2693,-287.519 440.2741,-277.1946 452.5593,-267.4415\"/>\n<polygon fill=\"#000000\" stroke=\"#000000\" points=\"454.8536,-270.089 460.5093,-261.13 450.5011,-264.6066 454.8536,-270.089\"/>\n</g>\n<!-- 13 -->\n<g id=\"node14\" class=\"node\">\n<title>13</title>\n<polygon fill=\"#399de5\" stroke=\"#000000\" points=\"437.5,-149.5 339.5,-149.5 339.5,-96.5 437.5,-96.5 437.5,-149.5\"/>\n<text text-anchor=\"middle\" x=\"388.5\" y=\"-134.3\" font-family=\"Times,serif\" font-size=\"14.00\" fill=\"#000000\">samples = 5</text>\n<text text-anchor=\"middle\" x=\"388.5\" y=\"-119.3\" font-family=\"Times,serif\" font-size=\"14.00\" fill=\"#000000\">value = [0, 5]</text>\n<text text-anchor=\"middle\" x=\"388.5\" y=\"-104.3\" font-family=\"Times,serif\" font-size=\"14.00\" fill=\"#000000\">class = benign</text>\n</g>\n<!-- 12&#45;&gt;13 -->\n<g id=\"edge13\" class=\"edge\">\n<title>12&#45;&gt;13</title>\n<path fill=\"none\" stroke=\"#000000\" d=\"M465.8447,-192.9465C452.8122,-181.1606 438.2294,-167.9726 425.2689,-156.2519\"/>\n<polygon fill=\"#000000\" stroke=\"#000000\" points=\"427.614,-153.6537 417.8495,-149.5422 422.9188,-158.8456 427.614,-153.6537\"/>\n</g>\n<!-- 14 -->\n<g id=\"node15\" class=\"node\">\n<title>14</title>\n<polygon fill=\"#e89152\" stroke=\"#000000\" points=\"663,-157 456,-157 456,-89 663,-89 663,-157\"/>\n<text text-anchor=\"middle\" x=\"559.5\" y=\"-141.8\" font-family=\"Times,serif\" font-size=\"14.00\" fill=\"#000000\">mean fractal dimension &lt;= 0.062</text>\n<text text-anchor=\"middle\" x=\"559.5\" y=\"-126.8\" font-family=\"Times,serif\" font-size=\"14.00\" fill=\"#000000\">samples = 9</text>\n<text text-anchor=\"middle\" x=\"559.5\" y=\"-111.8\" font-family=\"Times,serif\" font-size=\"14.00\" fill=\"#000000\">value = [8, 1]</text>\n<text text-anchor=\"middle\" x=\"559.5\" y=\"-96.8\" font-family=\"Times,serif\" font-size=\"14.00\" fill=\"#000000\">class = maligant</text>\n</g>\n<!-- 12&#45;&gt;14 -->\n<g id=\"edge14\" class=\"edge\">\n<title>12&#45;&gt;14</title>\n<path fill=\"none\" stroke=\"#000000\" d=\"M521.8365,-192.9465C526.4777,-184.3271 531.5227,-174.9579 536.3671,-165.9611\"/>\n<polygon fill=\"#000000\" stroke=\"#000000\" points=\"539.4629,-167.5941 541.1223,-157.13 533.2996,-164.2754 539.4629,-167.5941\"/>\n</g>\n<!-- 15 -->\n<g id=\"node16\" class=\"node\">\n<title>15</title>\n<polygon fill=\"#e58139\" stroke=\"#000000\" points=\"513.5,-53 405.5,-53 405.5,0 513.5,0 513.5,-53\"/>\n<text text-anchor=\"middle\" x=\"459.5\" y=\"-37.8\" font-family=\"Times,serif\" font-size=\"14.00\" fill=\"#000000\">samples = 8</text>\n<text text-anchor=\"middle\" x=\"459.5\" y=\"-22.8\" font-family=\"Times,serif\" font-size=\"14.00\" fill=\"#000000\">value = [8, 0]</text>\n<text text-anchor=\"middle\" x=\"459.5\" y=\"-7.8\" font-family=\"Times,serif\" font-size=\"14.00\" fill=\"#000000\">class = maligant</text>\n</g>\n<!-- 14&#45;&gt;15 -->\n<g id=\"edge15\" class=\"edge\">\n<title>14&#45;&gt;15</title>\n<path fill=\"none\" stroke=\"#000000\" d=\"M524.2437,-88.9777C514.5649,-79.6376 504.0765,-69.5163 494.4168,-60.1947\"/>\n<polygon fill=\"#000000\" stroke=\"#000000\" points=\"496.8449,-57.674 487.2186,-53.2485 491.9841,-62.7111 496.8449,-57.674\"/>\n</g>\n<!-- 16 -->\n<g id=\"node17\" class=\"node\">\n<title>16</title>\n<polygon fill=\"#399de5\" stroke=\"#000000\" points=\"629.5,-53 531.5,-53 531.5,0 629.5,0 629.5,-53\"/>\n<text text-anchor=\"middle\" x=\"580.5\" y=\"-37.8\" font-family=\"Times,serif\" font-size=\"14.00\" fill=\"#000000\">samples = 1</text>\n<text text-anchor=\"middle\" x=\"580.5\" y=\"-22.8\" font-family=\"Times,serif\" font-size=\"14.00\" fill=\"#000000\">value = [0, 1]</text>\n<text text-anchor=\"middle\" x=\"580.5\" y=\"-7.8\" font-family=\"Times,serif\" font-size=\"14.00\" fill=\"#000000\">class = benign</text>\n</g>\n<!-- 14&#45;&gt;16 -->\n<g id=\"edge16\" class=\"edge\">\n<title>14&#45;&gt;16</title>\n<path fill=\"none\" stroke=\"#000000\" d=\"M566.9038,-88.9777C568.7172,-80.6449 570.6659,-71.6903 572.5055,-63.2364\"/>\n<polygon fill=\"#000000\" stroke=\"#000000\" points=\"575.9726,-63.7641 574.6791,-53.2485 569.1327,-62.2755 575.9726,-63.7641\"/>\n</g>\n<!-- 18 -->\n<g id=\"node19\" class=\"node\">\n<title>18</title>\n<polygon fill=\"#399de5\" stroke=\"#000000\" points=\"586.5,-357.5 488.5,-357.5 488.5,-304.5 586.5,-304.5 586.5,-357.5\"/>\n<text text-anchor=\"middle\" x=\"537.5\" y=\"-342.3\" font-family=\"Times,serif\" font-size=\"14.00\" fill=\"#000000\">samples = 2</text>\n<text text-anchor=\"middle\" x=\"537.5\" y=\"-327.3\" font-family=\"Times,serif\" font-size=\"14.00\" fill=\"#000000\">value = [0, 2]</text>\n<text text-anchor=\"middle\" x=\"537.5\" y=\"-312.3\" font-family=\"Times,serif\" font-size=\"14.00\" fill=\"#000000\">class = benign</text>\n</g>\n<!-- 17&#45;&gt;18 -->\n<g id=\"edge18\" class=\"edge\">\n<title>17&#45;&gt;18</title>\n<path fill=\"none\" stroke=\"#000000\" d=\"M545.5708,-400.9465C544.3379,-390.2621 542.9722,-378.4254 541.7201,-367.5742\"/>\n<polygon fill=\"#000000\" stroke=\"#000000\" points=\"545.1858,-367.075 540.5626,-357.5422 538.232,-367.8775 545.1858,-367.075\"/>\n</g>\n<!-- 19 -->\n<g id=\"node20\" class=\"node\">\n<title>19</title>\n<polygon fill=\"#e58139\" stroke=\"#000000\" points=\"712.5,-357.5 604.5,-357.5 604.5,-304.5 712.5,-304.5 712.5,-357.5\"/>\n<text text-anchor=\"middle\" x=\"658.5\" y=\"-342.3\" font-family=\"Times,serif\" font-size=\"14.00\" fill=\"#000000\">samples = 15</text>\n<text text-anchor=\"middle\" x=\"658.5\" y=\"-327.3\" font-family=\"Times,serif\" font-size=\"14.00\" fill=\"#000000\">value = [15, 0]</text>\n<text text-anchor=\"middle\" x=\"658.5\" y=\"-312.3\" font-family=\"Times,serif\" font-size=\"14.00\" fill=\"#000000\">class = maligant</text>\n</g>\n<!-- 17&#45;&gt;19 -->\n<g id=\"edge19\" class=\"edge\">\n<title>17&#45;&gt;19</title>\n<path fill=\"none\" stroke=\"#000000\" d=\"M585.1907,-400.9465C597.4278,-389.2707 611.107,-376.219 623.3046,-364.5809\"/>\n<polygon fill=\"#000000\" stroke=\"#000000\" points=\"625.8628,-366.9777 630.6818,-357.5422 621.0306,-361.9131 625.8628,-366.9777\"/>\n</g>\n<!-- 21 -->\n<g id=\"node22\" class=\"node\">\n<title>21</title>\n<polygon fill=\"#399de5\" stroke=\"#000000\" points=\"745.5,-461.5 647.5,-461.5 647.5,-408.5 745.5,-408.5 745.5,-461.5\"/>\n<text text-anchor=\"middle\" x=\"696.5\" y=\"-446.3\" font-family=\"Times,serif\" font-size=\"14.00\" fill=\"#000000\">samples = 3</text>\n<text text-anchor=\"middle\" x=\"696.5\" y=\"-431.3\" font-family=\"Times,serif\" font-size=\"14.00\" fill=\"#000000\">value = [0, 3]</text>\n<text text-anchor=\"middle\" x=\"696.5\" y=\"-416.3\" font-family=\"Times,serif\" font-size=\"14.00\" fill=\"#000000\">class = benign</text>\n</g>\n<!-- 20&#45;&gt;21 -->\n<g id=\"edge21\" class=\"edge\">\n<title>20&#45;&gt;21</title>\n<path fill=\"none\" stroke=\"#000000\" d=\"M698.5177,-504.9465C698.2095,-494.2621 697.868,-482.4254 697.555,-471.5742\"/>\n<polygon fill=\"#000000\" stroke=\"#000000\" points=\"701.0526,-471.4371 697.2656,-461.5422 694.0555,-471.639 701.0526,-471.4371\"/>\n</g>\n<!-- 22 -->\n<g id=\"node23\" class=\"node\">\n<title>22</title>\n<polygon fill=\"#e6843e\" stroke=\"#000000\" points=\"929,-469 764,-469 764,-401 929,-401 929,-469\"/>\n<text text-anchor=\"middle\" x=\"846.5\" y=\"-453.8\" font-family=\"Times,serif\" font-size=\"14.00\" fill=\"#000000\">worst concavity &lt;= 0.203</text>\n<text text-anchor=\"middle\" x=\"846.5\" y=\"-438.8\" font-family=\"Times,serif\" font-size=\"14.00\" fill=\"#000000\">samples = 126</text>\n<text text-anchor=\"middle\" x=\"846.5\" y=\"-423.8\" font-family=\"Times,serif\" font-size=\"14.00\" fill=\"#000000\">value = [123, 3]</text>\n<text text-anchor=\"middle\" x=\"846.5\" y=\"-408.8\" font-family=\"Times,serif\" font-size=\"14.00\" fill=\"#000000\">class = maligant</text>\n</g>\n<!-- 20&#45;&gt;22 -->\n<g id=\"edge22\" class=\"edge\">\n<title>20&#45;&gt;22</title>\n<path fill=\"none\" stroke=\"#000000\" d=\"M747.6333,-504.9465C761.0856,-495.4293 775.83,-484.9978 789.7312,-475.163\"/>\n<polygon fill=\"#000000\" stroke=\"#000000\" points=\"792.1165,-477.7628 798.2586,-469.13 788.0736,-472.0483 792.1165,-477.7628\"/>\n</g>\n<!-- 23 -->\n<g id=\"node24\" class=\"node\">\n<title>23</title>\n<polygon fill=\"#399de5\" stroke=\"#000000\" points=\"862.5,-357.5 764.5,-357.5 764.5,-304.5 862.5,-304.5 862.5,-357.5\"/>\n<text text-anchor=\"middle\" x=\"813.5\" y=\"-342.3\" font-family=\"Times,serif\" font-size=\"14.00\" fill=\"#000000\">samples = 1</text>\n<text text-anchor=\"middle\" x=\"813.5\" y=\"-327.3\" font-family=\"Times,serif\" font-size=\"14.00\" fill=\"#000000\">value = [0, 1]</text>\n<text text-anchor=\"middle\" x=\"813.5\" y=\"-312.3\" font-family=\"Times,serif\" font-size=\"14.00\" fill=\"#000000\">class = benign</text>\n</g>\n<!-- 22&#45;&gt;23 -->\n<g id=\"edge23\" class=\"edge\">\n<title>22&#45;&gt;23</title>\n<path fill=\"none\" stroke=\"#000000\" d=\"M835.6946,-400.9465C832.2694,-390.1519 828.471,-378.1813 824.9989,-367.2389\"/>\n<polygon fill=\"#000000\" stroke=\"#000000\" points=\"828.2827,-366.0152 821.922,-357.5422 821.6105,-368.1324 828.2827,-366.0152\"/>\n</g>\n<!-- 24 -->\n<g id=\"node25\" class=\"node\">\n<title>24</title>\n<polygon fill=\"#e5833c\" stroke=\"#000000\" points=\"1016,-365 881,-365 881,-297 1016,-297 1016,-365\"/>\n<text text-anchor=\"middle\" x=\"948.5\" y=\"-349.8\" font-family=\"Times,serif\" font-size=\"14.00\" fill=\"#000000\">area error &lt;= 13.475</text>\n<text text-anchor=\"middle\" x=\"948.5\" y=\"-334.8\" font-family=\"Times,serif\" font-size=\"14.00\" fill=\"#000000\">samples = 125</text>\n<text text-anchor=\"middle\" x=\"948.5\" y=\"-319.8\" font-family=\"Times,serif\" font-size=\"14.00\" fill=\"#000000\">value = [123, 2]</text>\n<text text-anchor=\"middle\" x=\"948.5\" y=\"-304.8\" font-family=\"Times,serif\" font-size=\"14.00\" fill=\"#000000\">class = maligant</text>\n</g>\n<!-- 22&#45;&gt;24 -->\n<g id=\"edge24\" class=\"edge\">\n<title>22&#45;&gt;24</title>\n<path fill=\"none\" stroke=\"#000000\" d=\"M879.8986,-400.9465C888.8806,-391.7884 898.6928,-381.7838 908.015,-372.2788\"/>\n<polygon fill=\"#000000\" stroke=\"#000000\" points=\"910.523,-374.7201 915.0263,-365.13 905.5254,-369.8187 910.523,-374.7201\"/>\n</g>\n<!-- 25 -->\n<g id=\"node26\" class=\"node\">\n<title>25</title>\n<polygon fill=\"#399de5\" stroke=\"#000000\" points=\"928.5,-253.5 830.5,-253.5 830.5,-200.5 928.5,-200.5 928.5,-253.5\"/>\n<text text-anchor=\"middle\" x=\"879.5\" y=\"-238.3\" font-family=\"Times,serif\" font-size=\"14.00\" fill=\"#000000\">samples = 1</text>\n<text text-anchor=\"middle\" x=\"879.5\" y=\"-223.3\" font-family=\"Times,serif\" font-size=\"14.00\" fill=\"#000000\">value = [0, 1]</text>\n<text text-anchor=\"middle\" x=\"879.5\" y=\"-208.3\" font-family=\"Times,serif\" font-size=\"14.00\" fill=\"#000000\">class = benign</text>\n</g>\n<!-- 24&#45;&gt;25 -->\n<g id=\"edge25\" class=\"edge\">\n<title>24&#45;&gt;25</title>\n<path fill=\"none\" stroke=\"#000000\" d=\"M925.9068,-296.9465C918.4527,-285.7113 910.1533,-273.2021 902.6577,-261.9043\"/>\n<polygon fill=\"#000000\" stroke=\"#000000\" points=\"905.5547,-259.94 897.1097,-253.5422 899.7218,-263.81 905.5547,-259.94\"/>\n</g>\n<!-- 26 -->\n<g id=\"node27\" class=\"node\">\n<title>26</title>\n<polygon fill=\"#e5823b\" stroke=\"#000000\" points=\"1086.5,-261 946.5,-261 946.5,-193 1086.5,-193 1086.5,-261\"/>\n<text text-anchor=\"middle\" x=\"1016.5\" y=\"-245.8\" font-family=\"Times,serif\" font-size=\"14.00\" fill=\"#000000\">radius error &lt;= 0.241</text>\n<text text-anchor=\"middle\" x=\"1016.5\" y=\"-230.8\" font-family=\"Times,serif\" font-size=\"14.00\" fill=\"#000000\">samples = 124</text>\n<text text-anchor=\"middle\" x=\"1016.5\" y=\"-215.8\" font-family=\"Times,serif\" font-size=\"14.00\" fill=\"#000000\">value = [123, 1]</text>\n<text text-anchor=\"middle\" x=\"1016.5\" y=\"-200.8\" font-family=\"Times,serif\" font-size=\"14.00\" fill=\"#000000\">class = maligant</text>\n</g>\n<!-- 24&#45;&gt;26 -->\n<g id=\"edge26\" class=\"edge\">\n<title>24&#45;&gt;26</title>\n<path fill=\"none\" stroke=\"#000000\" d=\"M970.7657,-296.9465C976.4602,-288.2373 982.6552,-278.7626 988.5938,-269.6801\"/>\n<polygon fill=\"#000000\" stroke=\"#000000\" points=\"991.6411,-271.4151 994.1842,-261.13 985.7823,-267.5843 991.6411,-271.4151\"/>\n</g>\n<!-- 27 -->\n<g id=\"node28\" class=\"node\">\n<title>27</title>\n<polygon fill=\"#ea9a61\" stroke=\"#000000\" points=\"1027.5,-157 839.5,-157 839.5,-89 1027.5,-89 1027.5,-157\"/>\n<text text-anchor=\"middle\" x=\"933.5\" y=\"-141.8\" font-family=\"Times,serif\" font-size=\"14.00\" fill=\"#000000\">worst concave points &lt;= 0.16</text>\n<text text-anchor=\"middle\" x=\"933.5\" y=\"-126.8\" font-family=\"Times,serif\" font-size=\"14.00\" fill=\"#000000\">samples = 6</text>\n<text text-anchor=\"middle\" x=\"933.5\" y=\"-111.8\" font-family=\"Times,serif\" font-size=\"14.00\" fill=\"#000000\">value = [5, 1]</text>\n<text text-anchor=\"middle\" x=\"933.5\" y=\"-96.8\" font-family=\"Times,serif\" font-size=\"14.00\" fill=\"#000000\">class = maligant</text>\n</g>\n<!-- 26&#45;&gt;27 -->\n<g id=\"edge27\" class=\"edge\">\n<title>26&#45;&gt;27</title>\n<path fill=\"none\" stroke=\"#000000\" d=\"M989.3227,-192.9465C982.2288,-184.0578 974.4985,-174.3716 967.114,-165.1188\"/>\n<polygon fill=\"#000000\" stroke=\"#000000\" points=\"969.7118,-162.7628 960.7384,-157.13 964.2406,-167.1293 969.7118,-162.7628\"/>\n</g>\n<!-- 30 -->\n<g id=\"node31\" class=\"node\">\n<title>30</title>\n<polygon fill=\"#e58139\" stroke=\"#000000\" points=\"1155,-149.5 1046,-149.5 1046,-96.5 1155,-96.5 1155,-149.5\"/>\n<text text-anchor=\"middle\" x=\"1100.5\" y=\"-134.3\" font-family=\"Times,serif\" font-size=\"14.00\" fill=\"#000000\">samples = 118</text>\n<text text-anchor=\"middle\" x=\"1100.5\" y=\"-119.3\" font-family=\"Times,serif\" font-size=\"14.00\" fill=\"#000000\">value = [118, 0]</text>\n<text text-anchor=\"middle\" x=\"1100.5\" y=\"-104.3\" font-family=\"Times,serif\" font-size=\"14.00\" fill=\"#000000\">class = maligant</text>\n</g>\n<!-- 26&#45;&gt;30 -->\n<g id=\"edge30\" class=\"edge\">\n<title>26&#45;&gt;30</title>\n<path fill=\"none\" stroke=\"#000000\" d=\"M1044.0047,-192.9465C1053.1683,-181.6012 1063.3811,-168.9567 1072.5761,-157.5724\"/>\n<polygon fill=\"#000000\" stroke=\"#000000\" points=\"1075.5015,-159.5208 1079.0621,-149.5422 1070.0559,-155.1224 1075.5015,-159.5208\"/>\n</g>\n<!-- 28 -->\n<g id=\"node29\" class=\"node\">\n<title>28</title>\n<polygon fill=\"#399de5\" stroke=\"#000000\" points=\"921.5,-53 823.5,-53 823.5,0 921.5,0 921.5,-53\"/>\n<text text-anchor=\"middle\" x=\"872.5\" y=\"-37.8\" font-family=\"Times,serif\" font-size=\"14.00\" fill=\"#000000\">samples = 1</text>\n<text text-anchor=\"middle\" x=\"872.5\" y=\"-22.8\" font-family=\"Times,serif\" font-size=\"14.00\" fill=\"#000000\">value = [0, 1]</text>\n<text text-anchor=\"middle\" x=\"872.5\" y=\"-7.8\" font-family=\"Times,serif\" font-size=\"14.00\" fill=\"#000000\">class = benign</text>\n</g>\n<!-- 27&#45;&gt;28 -->\n<g id=\"edge28\" class=\"edge\">\n<title>27&#45;&gt;28</title>\n<path fill=\"none\" stroke=\"#000000\" d=\"M911.9937,-88.9777C906.4369,-80.187 900.4427,-70.7044 894.8441,-61.8477\"/>\n<polygon fill=\"#000000\" stroke=\"#000000\" points=\"897.7101,-59.8312 889.4084,-53.2485 891.7931,-63.5714 897.7101,-59.8312\"/>\n</g>\n<!-- 29 -->\n<g id=\"node30\" class=\"node\">\n<title>29</title>\n<polygon fill=\"#e58139\" stroke=\"#000000\" points=\"1047.5,-53 939.5,-53 939.5,0 1047.5,0 1047.5,-53\"/>\n<text text-anchor=\"middle\" x=\"993.5\" y=\"-37.8\" font-family=\"Times,serif\" font-size=\"14.00\" fill=\"#000000\">samples = 5</text>\n<text text-anchor=\"middle\" x=\"993.5\" y=\"-22.8\" font-family=\"Times,serif\" font-size=\"14.00\" fill=\"#000000\">value = [5, 0]</text>\n<text text-anchor=\"middle\" x=\"993.5\" y=\"-7.8\" font-family=\"Times,serif\" font-size=\"14.00\" fill=\"#000000\">class = maligant</text>\n</g>\n<!-- 27&#45;&gt;29 -->\n<g id=\"edge29\" class=\"edge\">\n<title>27&#45;&gt;29</title>\n<path fill=\"none\" stroke=\"#000000\" d=\"M954.6538,-88.9777C960.1195,-80.187 966.0154,-70.7044 971.5222,-61.8477\"/>\n<polygon fill=\"#000000\" stroke=\"#000000\" points=\"974.5609,-63.5889 976.8688,-53.2485 968.6163,-59.8927 974.5609,-63.5889\"/>\n</g>\n</g>\n</svg>\n"
          },
          "metadata": {
            "tags": []
          },
          "execution_count": 14
        }
      ]
    },
    {
      "cell_type": "markdown",
      "metadata": {
        "id": "fvfJJM1rZFK7"
      },
      "source": [
        "### VII-2. Visualization DTL (by export_graphviz)"
      ]
    },
    {
      "cell_type": "code",
      "metadata": {
        "colab": {
          "base_uri": "https://localhost:8080/",
          "height": 675
        },
        "id": "kCtNuQhMZKDS",
        "outputId": "f677f0b1-a070-4a4e-f772-27e3734753df"
      },
      "source": [
        "# export_graphviz() = 그래프 저장용 텍스트 파일 포맷인 .dot 파일 포맷 생성\r\n",
        "\r\n",
        "export_graphviz(DTL,      # Decision Tree model\r\n",
        "                out_file = \"decisionTree1.dot\",         # 파일 저장 유무\r\n",
        "                class_names = [\"maligant\", \"benign\"],   # class 변수의 값 이름 설정 / 이진분류에서 2개뿐\r\n",
        "                feature_names = cancer.feature_names,   # columns 이름 지정\r\n",
        "                impurity = False,       # \r\n",
        "                filled = True)          # True이면 노드의 클래스가 구분되도록 색 지정\r\n",
        "\r\n",
        "\r\n",
        "import graphviz\r\n",
        "\r\n",
        "with open(\"decisionTree1.dot\") as f :\r\n",
        "  dot_graph = f.read()\r\n",
        "graphviz.Source(dot_graph)"
      ],
      "execution_count": null,
      "outputs": [
        {
          "output_type": "execute_result",
          "data": {
            "text/plain": [
              "<graphviz.files.Source at 0x7f7a64804550>"
            ],
            "image/svg+xml": "<?xml version=\"1.0\" encoding=\"UTF-8\" standalone=\"no\"?>\n<!DOCTYPE svg PUBLIC \"-//W3C//DTD SVG 1.1//EN\"\n \"http://www.w3.org/Graphics/SVG/1.1/DTD/svg11.dtd\">\n<!-- Generated by graphviz version 2.40.1 (20161225.0304)\n -->\n<!-- Title: Tree Pages: 1 -->\n<svg width=\"1026pt\" height=\"477pt\"\n viewBox=\"0.00 0.00 1026.00 477.00\" xmlns=\"http://www.w3.org/2000/svg\" xmlns:xlink=\"http://www.w3.org/1999/xlink\">\n<g id=\"graph0\" class=\"graph\" transform=\"scale(1 1) rotate(0) translate(4 473)\">\n<title>Tree</title>\n<polygon fill=\"#ffffff\" stroke=\"transparent\" points=\"-4,4 -4,-473 1022,-473 1022,4 -4,4\"/>\n<!-- 0 -->\n<g id=\"node1\" class=\"node\">\n<title>0</title>\n<polygon fill=\"#aed7f4\" stroke=\"#000000\" points=\"671.5,-469 476.5,-469 476.5,-401 671.5,-401 671.5,-469\"/>\n<text text-anchor=\"middle\" x=\"574\" y=\"-453.8\" font-family=\"Times,serif\" font-size=\"14.00\" fill=\"#000000\">worst concave points &lt;= 0.146</text>\n<text text-anchor=\"middle\" x=\"574\" y=\"-438.8\" font-family=\"Times,serif\" font-size=\"14.00\" fill=\"#000000\">samples = 398</text>\n<text text-anchor=\"middle\" x=\"574\" y=\"-423.8\" font-family=\"Times,serif\" font-size=\"14.00\" fill=\"#000000\">value = [148, 250]</text>\n<text text-anchor=\"middle\" x=\"574\" y=\"-408.8\" font-family=\"Times,serif\" font-size=\"14.00\" fill=\"#000000\">class = benign</text>\n</g>\n<!-- 1 -->\n<g id=\"node2\" class=\"node\">\n<title>1</title>\n<polygon fill=\"#4da7e8\" stroke=\"#000000\" points=\"561,-365 429,-365 429,-297 561,-297 561,-365\"/>\n<text text-anchor=\"middle\" x=\"495\" y=\"-349.8\" font-family=\"Times,serif\" font-size=\"14.00\" fill=\"#000000\">worst area &lt;= 929.8</text>\n<text text-anchor=\"middle\" x=\"495\" y=\"-334.8\" font-family=\"Times,serif\" font-size=\"14.00\" fill=\"#000000\">samples = 269</text>\n<text text-anchor=\"middle\" x=\"495\" y=\"-319.8\" font-family=\"Times,serif\" font-size=\"14.00\" fill=\"#000000\">value = [25, 244]</text>\n<text text-anchor=\"middle\" x=\"495\" y=\"-304.8\" font-family=\"Times,serif\" font-size=\"14.00\" fill=\"#000000\">class = benign</text>\n</g>\n<!-- 0&#45;&gt;1 -->\n<g id=\"edge1\" class=\"edge\">\n<title>0&#45;&gt;1</title>\n<path fill=\"none\" stroke=\"#000000\" d=\"M548.1324,-400.9465C541.3804,-392.0578 534.0226,-382.3716 526.9941,-373.1188\"/>\n<polygon fill=\"#000000\" stroke=\"#000000\" points=\"529.7617,-370.976 520.9257,-365.13 524.1875,-375.2102 529.7617,-370.976\"/>\n<text text-anchor=\"middle\" x=\"517.5418\" y=\"-386.1999\" font-family=\"Times,serif\" font-size=\"14.00\" fill=\"#000000\">True</text>\n</g>\n<!-- 12 -->\n<g id=\"node13\" class=\"node\">\n<title>12</title>\n<polygon fill=\"#e68743\" stroke=\"#000000\" points=\"729,-365 579,-365 579,-297 729,-297 729,-365\"/>\n<text text-anchor=\"middle\" x=\"654\" y=\"-349.8\" font-family=\"Times,serif\" font-size=\"14.00\" fill=\"#000000\">mean radius &lt;= 11.025</text>\n<text text-anchor=\"middle\" x=\"654\" y=\"-334.8\" font-family=\"Times,serif\" font-size=\"14.00\" fill=\"#000000\">samples = 129</text>\n<text text-anchor=\"middle\" x=\"654\" y=\"-319.8\" font-family=\"Times,serif\" font-size=\"14.00\" fill=\"#000000\">value = [123, 6]</text>\n<text text-anchor=\"middle\" x=\"654\" y=\"-304.8\" font-family=\"Times,serif\" font-size=\"14.00\" fill=\"#000000\">class = maligant</text>\n</g>\n<!-- 0&#45;&gt;12 -->\n<g id=\"edge12\" class=\"edge\">\n<title>0&#45;&gt;12</title>\n<path fill=\"none\" stroke=\"#000000\" d=\"M600.195,-400.9465C607.0325,-392.0578 614.4834,-382.3716 621.601,-373.1188\"/>\n<polygon fill=\"#000000\" stroke=\"#000000\" points=\"624.4232,-375.1903 627.7462,-365.13 618.8748,-370.9223 624.4232,-375.1903\"/>\n<text text-anchor=\"middle\" x=\"630.9796\" y=\"-386.22\" font-family=\"Times,serif\" font-size=\"14.00\" fill=\"#000000\">False</text>\n</g>\n<!-- 2 -->\n<g id=\"node3\" class=\"node\">\n<title>2</title>\n<polygon fill=\"#41a1e6\" stroke=\"#000000\" points=\"408,-261 238,-261 238,-193 408,-193 408,-261\"/>\n<text text-anchor=\"middle\" x=\"323\" y=\"-245.8\" font-family=\"Times,serif\" font-size=\"14.00\" fill=\"#000000\">worst perimeter &lt;= 102.05</text>\n<text text-anchor=\"middle\" x=\"323\" y=\"-230.8\" font-family=\"Times,serif\" font-size=\"14.00\" fill=\"#000000\">samples = 252</text>\n<text text-anchor=\"middle\" x=\"323\" y=\"-215.8\" font-family=\"Times,serif\" font-size=\"14.00\" fill=\"#000000\">value = [10, 242]</text>\n<text text-anchor=\"middle\" x=\"323\" y=\"-200.8\" font-family=\"Times,serif\" font-size=\"14.00\" fill=\"#000000\">class = benign</text>\n</g>\n<!-- 1&#45;&gt;2 -->\n<g id=\"edge2\" class=\"edge\">\n<title>1&#45;&gt;2</title>\n<path fill=\"none\" stroke=\"#000000\" d=\"M438.6808,-296.9465C422.4952,-287.1599 404.711,-276.4066 388.0448,-266.3294\"/>\n<polygon fill=\"#000000\" stroke=\"#000000\" points=\"389.8141,-263.3092 379.4458,-261.13 386.1921,-269.2993 389.8141,-263.3092\"/>\n</g>\n<!-- 9 -->\n<g id=\"node10\" class=\"node\">\n<title>9</title>\n<polygon fill=\"#e89253\" stroke=\"#000000\" points=\"574,-261 426,-261 426,-193 574,-193 574,-261\"/>\n<text text-anchor=\"middle\" x=\"500\" y=\"-245.8\" font-family=\"Times,serif\" font-size=\"14.00\" fill=\"#000000\">mean texture &lt;= 15.77</text>\n<text text-anchor=\"middle\" x=\"500\" y=\"-230.8\" font-family=\"Times,serif\" font-size=\"14.00\" fill=\"#000000\">samples = 17</text>\n<text text-anchor=\"middle\" x=\"500\" y=\"-215.8\" font-family=\"Times,serif\" font-size=\"14.00\" fill=\"#000000\">value = [15, 2]</text>\n<text text-anchor=\"middle\" x=\"500\" y=\"-200.8\" font-family=\"Times,serif\" font-size=\"14.00\" fill=\"#000000\">class = maligant</text>\n</g>\n<!-- 1&#45;&gt;9 -->\n<g id=\"edge9\" class=\"edge\">\n<title>1&#45;&gt;9</title>\n<path fill=\"none\" stroke=\"#000000\" d=\"M496.6372,-296.9465C497.03,-288.776 497.4552,-279.9318 497.8668,-271.3697\"/>\n<polygon fill=\"#000000\" stroke=\"#000000\" points=\"501.3748,-271.2866 498.3591,-261.13 494.3829,-270.9504 501.3748,-271.2866\"/>\n</g>\n<!-- 3 -->\n<g id=\"node4\" class=\"node\">\n<title>3</title>\n<polygon fill=\"#3b9ee5\" stroke=\"#000000\" points=\"239.5,-157 104.5,-157 104.5,-89 239.5,-89 239.5,-157\"/>\n<text text-anchor=\"middle\" x=\"172\" y=\"-141.8\" font-family=\"Times,serif\" font-size=\"14.00\" fill=\"#000000\">area error &lt;= 48.975</text>\n<text text-anchor=\"middle\" x=\"172\" y=\"-126.8\" font-family=\"Times,serif\" font-size=\"14.00\" fill=\"#000000\">samples = 215</text>\n<text text-anchor=\"middle\" x=\"172\" y=\"-111.8\" font-family=\"Times,serif\" font-size=\"14.00\" fill=\"#000000\">value = [2, 213]</text>\n<text text-anchor=\"middle\" x=\"172\" y=\"-96.8\" font-family=\"Times,serif\" font-size=\"14.00\" fill=\"#000000\">class = benign</text>\n</g>\n<!-- 2&#45;&gt;3 -->\n<g id=\"edge3\" class=\"edge\">\n<title>2&#45;&gt;3</title>\n<path fill=\"none\" stroke=\"#000000\" d=\"M273.557,-192.9465C259.6083,-183.3395 244.3071,-172.8009 229.9097,-162.8848\"/>\n<polygon fill=\"#000000\" stroke=\"#000000\" points=\"231.7751,-159.9198 221.5541,-157.13 227.8045,-165.6848 231.7751,-159.9198\"/>\n</g>\n<!-- 6 -->\n<g id=\"node7\" class=\"node\">\n<title>6</title>\n<polygon fill=\"#70b8ec\" stroke=\"#000000\" points=\"406.5,-157 257.5,-157 257.5,-89 406.5,-89 406.5,-157\"/>\n<text text-anchor=\"middle\" x=\"332\" y=\"-141.8\" font-family=\"Times,serif\" font-size=\"14.00\" fill=\"#000000\">worst texture &lt;= 29.18</text>\n<text text-anchor=\"middle\" x=\"332\" y=\"-126.8\" font-family=\"Times,serif\" font-size=\"14.00\" fill=\"#000000\">samples = 37</text>\n<text text-anchor=\"middle\" x=\"332\" y=\"-111.8\" font-family=\"Times,serif\" font-size=\"14.00\" fill=\"#000000\">value = [8, 29]</text>\n<text text-anchor=\"middle\" x=\"332\" y=\"-96.8\" font-family=\"Times,serif\" font-size=\"14.00\" fill=\"#000000\">class = benign</text>\n</g>\n<!-- 2&#45;&gt;6 -->\n<g id=\"edge6\" class=\"edge\">\n<title>2&#45;&gt;6</title>\n<path fill=\"none\" stroke=\"#000000\" d=\"M325.9469,-192.9465C326.654,-184.776 327.4194,-175.9318 328.1603,-167.3697\"/>\n<polygon fill=\"#000000\" stroke=\"#000000\" points=\"331.6712,-167.3945 329.0464,-157.13 324.6972,-166.791 331.6712,-167.3945\"/>\n</g>\n<!-- 4 -->\n<g id=\"node5\" class=\"node\">\n<title>4</title>\n<polygon fill=\"#399de5\" stroke=\"#000000\" points=\"110,-53 0,-53 0,0 110,0 110,-53\"/>\n<text text-anchor=\"middle\" x=\"55\" y=\"-37.8\" font-family=\"Times,serif\" font-size=\"14.00\" fill=\"#000000\">samples = 212</text>\n<text text-anchor=\"middle\" x=\"55\" y=\"-22.8\" font-family=\"Times,serif\" font-size=\"14.00\" fill=\"#000000\">value = [0, 212]</text>\n<text text-anchor=\"middle\" x=\"55\" y=\"-7.8\" font-family=\"Times,serif\" font-size=\"14.00\" fill=\"#000000\">class = benign</text>\n</g>\n<!-- 3&#45;&gt;4 -->\n<g id=\"edge4\" class=\"edge\">\n<title>3&#45;&gt;4</title>\n<path fill=\"none\" stroke=\"#000000\" d=\"M130.7502,-88.9777C119.2039,-79.4545 106.6729,-69.1191 95.189,-59.6473\"/>\n<polygon fill=\"#000000\" stroke=\"#000000\" points=\"97.3724,-56.9113 87.4308,-53.2485 92.9184,-62.3115 97.3724,-56.9113\"/>\n</g>\n<!-- 5 -->\n<g id=\"node6\" class=\"node\">\n<title>5</title>\n<polygon fill=\"#f2c09c\" stroke=\"#000000\" points=\"236,-53 128,-53 128,0 236,0 236,-53\"/>\n<text text-anchor=\"middle\" x=\"182\" y=\"-37.8\" font-family=\"Times,serif\" font-size=\"14.00\" fill=\"#000000\">samples = 3</text>\n<text text-anchor=\"middle\" x=\"182\" y=\"-22.8\" font-family=\"Times,serif\" font-size=\"14.00\" fill=\"#000000\">value = [2, 1]</text>\n<text text-anchor=\"middle\" x=\"182\" y=\"-7.8\" font-family=\"Times,serif\" font-size=\"14.00\" fill=\"#000000\">class = maligant</text>\n</g>\n<!-- 3&#45;&gt;5 -->\n<g id=\"edge5\" class=\"edge\">\n<title>3&#45;&gt;5</title>\n<path fill=\"none\" stroke=\"#000000\" d=\"M175.5256,-88.9777C176.3891,-80.6449 177.3171,-71.6903 178.1931,-63.2364\"/>\n<polygon fill=\"#000000\" stroke=\"#000000\" points=\"181.6787,-63.556 179.2281,-53.2485 174.7159,-62.8344 181.6787,-63.556\"/>\n</g>\n<!-- 7 -->\n<g id=\"node8\" class=\"node\">\n<title>7</title>\n<polygon fill=\"#41a1e6\" stroke=\"#000000\" points=\"374,-53 272,-53 272,0 374,0 374,-53\"/>\n<text text-anchor=\"middle\" x=\"323\" y=\"-37.8\" font-family=\"Times,serif\" font-size=\"14.00\" fill=\"#000000\">samples = 27</text>\n<text text-anchor=\"middle\" x=\"323\" y=\"-22.8\" font-family=\"Times,serif\" font-size=\"14.00\" fill=\"#000000\">value = [1, 26]</text>\n<text text-anchor=\"middle\" x=\"323\" y=\"-7.8\" font-family=\"Times,serif\" font-size=\"14.00\" fill=\"#000000\">class = benign</text>\n</g>\n<!-- 6&#45;&gt;7 -->\n<g id=\"edge7\" class=\"edge\">\n<title>6&#45;&gt;7</title>\n<path fill=\"none\" stroke=\"#000000\" d=\"M328.8269,-88.9777C328.0498,-80.6449 327.2146,-71.6903 326.4262,-63.2364\"/>\n<polygon fill=\"#000000\" stroke=\"#000000\" points=\"329.9083,-62.8802 325.4947,-53.2485 322.9385,-63.5303 329.9083,-62.8802\"/>\n</g>\n<!-- 8 -->\n<g id=\"node9\" class=\"node\">\n<title>8</title>\n<polygon fill=\"#f0b78e\" stroke=\"#000000\" points=\"500,-53 392,-53 392,0 500,0 500,-53\"/>\n<text text-anchor=\"middle\" x=\"446\" y=\"-37.8\" font-family=\"Times,serif\" font-size=\"14.00\" fill=\"#000000\">samples = 10</text>\n<text text-anchor=\"middle\" x=\"446\" y=\"-22.8\" font-family=\"Times,serif\" font-size=\"14.00\" fill=\"#000000\">value = [7, 3]</text>\n<text text-anchor=\"middle\" x=\"446\" y=\"-7.8\" font-family=\"Times,serif\" font-size=\"14.00\" fill=\"#000000\">class = maligant</text>\n</g>\n<!-- 6&#45;&gt;8 -->\n<g id=\"edge8\" class=\"edge\">\n<title>6&#45;&gt;8</title>\n<path fill=\"none\" stroke=\"#000000\" d=\"M372.1921,-88.9777C383.3342,-79.546 395.4173,-69.3178 406.5185,-59.9208\"/>\n<polygon fill=\"#000000\" stroke=\"#000000\" points=\"409.0295,-62.3809 414.4008,-53.2485 404.5068,-57.038 409.0295,-62.3809\"/>\n</g>\n<!-- 10 -->\n<g id=\"node11\" class=\"node\">\n<title>10</title>\n<polygon fill=\"#399de5\" stroke=\"#000000\" points=\"540,-149.5 442,-149.5 442,-96.5 540,-96.5 540,-149.5\"/>\n<text text-anchor=\"middle\" x=\"491\" y=\"-134.3\" font-family=\"Times,serif\" font-size=\"14.00\" fill=\"#000000\">samples = 2</text>\n<text text-anchor=\"middle\" x=\"491\" y=\"-119.3\" font-family=\"Times,serif\" font-size=\"14.00\" fill=\"#000000\">value = [0, 2]</text>\n<text text-anchor=\"middle\" x=\"491\" y=\"-104.3\" font-family=\"Times,serif\" font-size=\"14.00\" fill=\"#000000\">class = benign</text>\n</g>\n<!-- 9&#45;&gt;10 -->\n<g id=\"edge10\" class=\"edge\">\n<title>9&#45;&gt;10</title>\n<path fill=\"none\" stroke=\"#000000\" d=\"M497.0531,-192.9465C496.1284,-182.2621 495.1041,-170.4254 494.1651,-159.5742\"/>\n<polygon fill=\"#000000\" stroke=\"#000000\" points=\"497.6461,-159.2031 493.2969,-149.5422 490.6722,-159.8067 497.6461,-159.2031\"/>\n</g>\n<!-- 11 -->\n<g id=\"node12\" class=\"node\">\n<title>11</title>\n<polygon fill=\"#e58139\" stroke=\"#000000\" points=\"666,-149.5 558,-149.5 558,-96.5 666,-96.5 666,-149.5\"/>\n<text text-anchor=\"middle\" x=\"612\" y=\"-134.3\" font-family=\"Times,serif\" font-size=\"14.00\" fill=\"#000000\">samples = 15</text>\n<text text-anchor=\"middle\" x=\"612\" y=\"-119.3\" font-family=\"Times,serif\" font-size=\"14.00\" fill=\"#000000\">value = [15, 0]</text>\n<text text-anchor=\"middle\" x=\"612\" y=\"-104.3\" font-family=\"Times,serif\" font-size=\"14.00\" fill=\"#000000\">class = maligant</text>\n</g>\n<!-- 9&#45;&gt;11 -->\n<g id=\"edge11\" class=\"edge\">\n<title>9&#45;&gt;11</title>\n<path fill=\"none\" stroke=\"#000000\" d=\"M536.673,-192.9465C549.2469,-181.2707 563.3026,-168.219 575.8359,-156.5809\"/>\n<polygon fill=\"#000000\" stroke=\"#000000\" points=\"578.4698,-158.9115 583.4161,-149.5422 573.7066,-153.7819 578.4698,-158.9115\"/>\n</g>\n<!-- 13 -->\n<g id=\"node14\" class=\"node\">\n<title>13</title>\n<polygon fill=\"#399de5\" stroke=\"#000000\" points=\"699,-253.5 601,-253.5 601,-200.5 699,-200.5 699,-253.5\"/>\n<text text-anchor=\"middle\" x=\"650\" y=\"-238.3\" font-family=\"Times,serif\" font-size=\"14.00\" fill=\"#000000\">samples = 3</text>\n<text text-anchor=\"middle\" x=\"650\" y=\"-223.3\" font-family=\"Times,serif\" font-size=\"14.00\" fill=\"#000000\">value = [0, 3]</text>\n<text text-anchor=\"middle\" x=\"650\" y=\"-208.3\" font-family=\"Times,serif\" font-size=\"14.00\" fill=\"#000000\">class = benign</text>\n</g>\n<!-- 12&#45;&gt;13 -->\n<g id=\"edge13\" class=\"edge\">\n<title>12&#45;&gt;13</title>\n<path fill=\"none\" stroke=\"#000000\" d=\"M652.6903,-296.9465C652.2793,-286.2621 651.8241,-274.4254 651.4067,-263.5742\"/>\n<polygon fill=\"#000000\" stroke=\"#000000\" points=\"654.9027,-263.4002 651.0209,-253.5422 647.9079,-263.6693 654.9027,-263.4002\"/>\n</g>\n<!-- 14 -->\n<g id=\"node15\" class=\"node\">\n<title>14</title>\n<polygon fill=\"#e6843e\" stroke=\"#000000\" points=\"882.5,-261 717.5,-261 717.5,-193 882.5,-193 882.5,-261\"/>\n<text text-anchor=\"middle\" x=\"800\" y=\"-245.8\" font-family=\"Times,serif\" font-size=\"14.00\" fill=\"#000000\">worst concavity &lt;= 0.203</text>\n<text text-anchor=\"middle\" x=\"800\" y=\"-230.8\" font-family=\"Times,serif\" font-size=\"14.00\" fill=\"#000000\">samples = 126</text>\n<text text-anchor=\"middle\" x=\"800\" y=\"-215.8\" font-family=\"Times,serif\" font-size=\"14.00\" fill=\"#000000\">value = [123, 3]</text>\n<text text-anchor=\"middle\" x=\"800\" y=\"-200.8\" font-family=\"Times,serif\" font-size=\"14.00\" fill=\"#000000\">class = maligant</text>\n</g>\n<!-- 12&#45;&gt;14 -->\n<g id=\"edge14\" class=\"edge\">\n<title>12&#45;&gt;14</title>\n<path fill=\"none\" stroke=\"#000000\" d=\"M701.8059,-296.9465C715.1666,-287.4293 729.8107,-276.9978 743.6174,-267.163\"/>\n<polygon fill=\"#000000\" stroke=\"#000000\" points=\"745.9725,-269.7826 752.0867,-261.13 741.9112,-264.0811 745.9725,-269.7826\"/>\n</g>\n<!-- 15 -->\n<g id=\"node16\" class=\"node\">\n<title>15</title>\n<polygon fill=\"#399de5\" stroke=\"#000000\" points=\"816,-149.5 718,-149.5 718,-96.5 816,-96.5 816,-149.5\"/>\n<text text-anchor=\"middle\" x=\"767\" y=\"-134.3\" font-family=\"Times,serif\" font-size=\"14.00\" fill=\"#000000\">samples = 1</text>\n<text text-anchor=\"middle\" x=\"767\" y=\"-119.3\" font-family=\"Times,serif\" font-size=\"14.00\" fill=\"#000000\">value = [0, 1]</text>\n<text text-anchor=\"middle\" x=\"767\" y=\"-104.3\" font-family=\"Times,serif\" font-size=\"14.00\" fill=\"#000000\">class = benign</text>\n</g>\n<!-- 14&#45;&gt;15 -->\n<g id=\"edge15\" class=\"edge\">\n<title>14&#45;&gt;15</title>\n<path fill=\"none\" stroke=\"#000000\" d=\"M789.1946,-192.9465C785.7694,-182.1519 781.971,-170.1813 778.4989,-159.2389\"/>\n<polygon fill=\"#000000\" stroke=\"#000000\" points=\"781.7827,-158.0152 775.422,-149.5422 775.1105,-160.1324 781.7827,-158.0152\"/>\n</g>\n<!-- 16 -->\n<g id=\"node17\" class=\"node\">\n<title>16</title>\n<polygon fill=\"#e5833c\" stroke=\"#000000\" points=\"969.5,-157 834.5,-157 834.5,-89 969.5,-89 969.5,-157\"/>\n<text text-anchor=\"middle\" x=\"902\" y=\"-141.8\" font-family=\"Times,serif\" font-size=\"14.00\" fill=\"#000000\">area error &lt;= 13.475</text>\n<text text-anchor=\"middle\" x=\"902\" y=\"-126.8\" font-family=\"Times,serif\" font-size=\"14.00\" fill=\"#000000\">samples = 125</text>\n<text text-anchor=\"middle\" x=\"902\" y=\"-111.8\" font-family=\"Times,serif\" font-size=\"14.00\" fill=\"#000000\">value = [123, 2]</text>\n<text text-anchor=\"middle\" x=\"902\" y=\"-96.8\" font-family=\"Times,serif\" font-size=\"14.00\" fill=\"#000000\">class = maligant</text>\n</g>\n<!-- 14&#45;&gt;16 -->\n<g id=\"edge16\" class=\"edge\">\n<title>14&#45;&gt;16</title>\n<path fill=\"none\" stroke=\"#000000\" d=\"M833.3986,-192.9465C842.3806,-183.7884 852.1928,-173.7838 861.515,-164.2788\"/>\n<polygon fill=\"#000000\" stroke=\"#000000\" points=\"864.023,-166.7201 868.5263,-157.13 859.0254,-161.8187 864.023,-166.7201\"/>\n</g>\n<!-- 17 -->\n<g id=\"node18\" class=\"node\">\n<title>17</title>\n<polygon fill=\"#399de5\" stroke=\"#000000\" points=\"890,-53 792,-53 792,0 890,0 890,-53\"/>\n<text text-anchor=\"middle\" x=\"841\" y=\"-37.8\" font-family=\"Times,serif\" font-size=\"14.00\" fill=\"#000000\">samples = 1</text>\n<text text-anchor=\"middle\" x=\"841\" y=\"-22.8\" font-family=\"Times,serif\" font-size=\"14.00\" fill=\"#000000\">value = [0, 1]</text>\n<text text-anchor=\"middle\" x=\"841\" y=\"-7.8\" font-family=\"Times,serif\" font-size=\"14.00\" fill=\"#000000\">class = benign</text>\n</g>\n<!-- 16&#45;&gt;17 -->\n<g id=\"edge17\" class=\"edge\">\n<title>16&#45;&gt;17</title>\n<path fill=\"none\" stroke=\"#000000\" d=\"M880.4937,-88.9777C874.9369,-80.187 868.9427,-70.7044 863.3441,-61.8477\"/>\n<polygon fill=\"#000000\" stroke=\"#000000\" points=\"866.2101,-59.8312 857.9084,-53.2485 860.2931,-63.5714 866.2101,-59.8312\"/>\n</g>\n<!-- 18 -->\n<g id=\"node19\" class=\"node\">\n<title>18</title>\n<polygon fill=\"#e5823b\" stroke=\"#000000\" points=\"1018,-53 908,-53 908,0 1018,0 1018,-53\"/>\n<text text-anchor=\"middle\" x=\"963\" y=\"-37.8\" font-family=\"Times,serif\" font-size=\"14.00\" fill=\"#000000\">samples = 124</text>\n<text text-anchor=\"middle\" x=\"963\" y=\"-22.8\" font-family=\"Times,serif\" font-size=\"14.00\" fill=\"#000000\">value = [123, 1]</text>\n<text text-anchor=\"middle\" x=\"963\" y=\"-7.8\" font-family=\"Times,serif\" font-size=\"14.00\" fill=\"#000000\">class = maligant</text>\n</g>\n<!-- 16&#45;&gt;18 -->\n<g id=\"edge18\" class=\"edge\">\n<title>16&#45;&gt;18</title>\n<path fill=\"none\" stroke=\"#000000\" d=\"M923.5063,-88.9777C929.0631,-80.187 935.0573,-70.7044 940.6559,-61.8477\"/>\n<polygon fill=\"#000000\" stroke=\"#000000\" points=\"943.7069,-63.5714 946.0916,-53.2485 937.7899,-59.8312 943.7069,-63.5714\"/>\n</g>\n</g>\n</svg>\n"
          },
          "metadata": {
            "tags": []
          },
          "execution_count": 13
        }
      ]
    },
    {
      "cell_type": "code",
      "metadata": {
        "id": "6cgwI5o4cc9K"
      },
      "source": [
        ""
      ],
      "execution_count": null,
      "outputs": []
    }
  ]
}