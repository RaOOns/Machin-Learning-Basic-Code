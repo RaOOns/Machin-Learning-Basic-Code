{
  "nbformat": 4,
  "nbformat_minor": 0,
  "metadata": {
    "colab": {
      "name": "Linear Regression.ipynb",
      "provenance": [],
      "collapsed_sections": [],
      "toc_visible": true,
      "authorship_tag": "ABX9TyOa3CS/RKSVpfz+pA7rtLQW",
      "include_colab_link": true
    },
    "kernelspec": {
      "name": "python3",
      "display_name": "Python 3"
    }
  },
  "cells": [
    {
      "cell_type": "markdown",
      "metadata": {
        "id": "view-in-github",
        "colab_type": "text"
      },
      "source": [
        "<a href=\"https://colab.research.google.com/github/dhguslee/leedo/blob/main/Machine%20Learning%20Code/Linear_Regression.ipynb\" target=\"_parent\"><img src=\"https://colab.research.google.com/assets/colab-badge.svg\" alt=\"Open In Colab\"/></a>"
      ]
    },
    {
      "cell_type": "markdown",
      "metadata": {
        "id": "IWdtop1Ym0cu"
      },
      "source": [
        "# Simple Linear Regression\r\n",
        "---"
      ]
    },
    {
      "cell_type": "markdown",
      "metadata": {
        "id": "tIAzY0vzoWlr"
      },
      "source": [
        "### I. Library and Data  preparation"
      ]
    },
    {
      "cell_type": "code",
      "metadata": {
        "id": "zHqf6m5hnL1x"
      },
      "source": [
        "from sklearn.linear_model import LinearRegression\r\n",
        "  \r\n",
        "import numpy as np\r\n",
        "import pandas as pd\r\n",
        "import matplotlib.pyplot as plt"
      ],
      "execution_count": null,
      "outputs": []
    },
    {
      "cell_type": "code",
      "metadata": {
        "colab": {
          "base_uri": "https://localhost:8080/"
        },
        "id": "xgtlvxwloR2Q",
        "outputId": "4fcd42ad-b0ba-48b9-d495-54683dc458f0"
      },
      "source": [
        "from sklearn.datasets import load_iris\r\n",
        "\r\n",
        "iris = load_iris()\r\n",
        "\r\n",
        "df = pd.DataFrame(data = iris.data, columns = iris.feature_names)\r\n",
        "df[\"target\"] = iris.target\r\n",
        "\r\n",
        "print(df.head(), \"\\n (행, 열) :\", df.shape)\r\n",
        "\r\n",
        "x = df.iloc[ :, 2]      # df.iloc[] : row or col index로 특정 row or col 추출.\r\n",
        "y = df.iloc[: , 3]\r\n",
        "\r\n",
        "print(\"x :\", x.head(), \"\\n\", \"y :\", y.head())"
      ],
      "execution_count": null,
      "outputs": [
        {
          "output_type": "stream",
          "text": [
            "   sepal length (cm)  sepal width (cm)  ...  petal width (cm)  target\n",
            "0                5.1               3.5  ...               0.2       0\n",
            "1                4.9               3.0  ...               0.2       0\n",
            "2                4.7               3.2  ...               0.2       0\n",
            "3                4.6               3.1  ...               0.2       0\n",
            "4                5.0               3.6  ...               0.2       0\n",
            "\n",
            "[5 rows x 5 columns] \n",
            " (행, 열) : (150, 5)\n",
            "x : 0    1.4\n",
            "1    1.4\n",
            "2    1.3\n",
            "3    1.5\n",
            "4    1.4\n",
            "Name: petal length (cm), dtype: float64 \n",
            " y : 0    0.2\n",
            "1    0.2\n",
            "2    0.2\n",
            "3    0.2\n",
            "4    0.2\n",
            "Name: petal width (cm), dtype: float64\n"
          ],
          "name": "stdout"
        }
      ]
    },
    {
      "cell_type": "code",
      "metadata": {
        "colab": {
          "base_uri": "https://localhost:8080/",
          "height": 283
        },
        "id": "hHmNE52isV41",
        "outputId": "41510fd6-5792-4823-cac8-64a24acf02b9"
      },
      "source": [
        "plt.scatter(x, y)\r\n",
        "plt.xlim([min(x) - 1, max(x) + 1])\r\n",
        "plt.ylim([min(y) - 1, max(y) + 1])\r\n",
        "plt.xlabel(\"x\")\r\n",
        "plt.ylabel(\"Target\")\r\n",
        "plt.show()\r\n"
      ],
      "execution_count": null,
      "outputs": [
        {
          "output_type": "display_data",
          "data": {
            "image/png": "[encoded data removed]",
            "text/plain": [
              "<Figure size 432x288 with 1 Axes>"
            ]
          },
          "metadata": {
            "tags": [],
            "needs_background": "light"
          }
        }
      ]
    },
    {
      "cell_type": "markdown",
      "metadata": {
        "id": "2RcEwgXKNPqg"
      },
      "source": [
        "### II. Train dataset and Test dataset"
      ]
    },
    {
      "cell_type": "code",
      "metadata": {
        "colab": {
          "base_uri": "https://localhost:8080/"
        },
        "id": "oYrHdi-JNYYn",
        "outputId": "f70d6f65-066a-410b-c4eb-89adb673d04f"
      },
      "source": [
        "from sklearn.model_selection import train_test_split\r\n",
        "\r\n",
        "x_train, x_test, y_train, y_test = train_test_split(x, y, \r\n",
        "                                                    test_size = 0.3,\r\n",
        "                                                    shuffle = True,\r\n",
        "                                                    random_state = 1)\r\n",
        "\r\n",
        "x_train.shape, x_test.shape, y_train.shape, y_test.shape"
      ],
      "execution_count": null,
      "outputs": [
        {
          "output_type": "execute_result",
          "data": {
            "text/plain": [
              "((105,), (45,), (105,), (45,))"
            ]
          },
          "metadata": {
            "tags": []
          },
          "execution_count": 65
        }
      ]
    },
    {
      "cell_type": "markdown",
      "metadata": {
        "id": "-N77YMYgOPmE"
      },
      "source": [
        "### III. Model train"
      ]
    },
    {
      "cell_type": "code",
      "metadata": {
        "colab": {
          "base_uri": "https://localhost:8080/"
        },
        "id": "oA_mODJrOdTZ",
        "outputId": "f60c23fb-fde9-425c-fa19-9ffd0a53d07f"
      },
      "source": [
        "x_train_2D = x_train.values.reshape(-1,1)   # (150, 1)\r\n",
        "print(\"Original_x : \", type(x), x.shape, \"\\n\",\r\n",
        "      \"2D_x :\", type(x_2D), x_2D.shape)\r\n",
        "\r\n",
        "\r\n",
        "LR = LinearRegression()\r\n",
        "\r\n",
        "LR.fit(x_train_2D, y_train)     # x 데이터가 2차원 array형태로 입력해야한다."
      ],
      "execution_count": null,
      "outputs": [
        {
          "output_type": "stream",
          "text": [
            "Original_x :  <class 'pandas.core.series.Series'> (150,) \n",
            " 2D_x : <class 'numpy.ndarray'> (105, 1)\n"
          ],
          "name": "stdout"
        },
        {
          "output_type": "execute_result",
          "data": {
            "text/plain": [
              "LinearRegression(copy_X=True, fit_intercept=True, n_jobs=None, normalize=False)"
            ]
          },
          "metadata": {
            "tags": []
          },
          "execution_count": 66
        }
      ]
    },
    {
      "cell_type": "markdown",
      "metadata": {
        "id": "u0kLXY-HSHBz"
      },
      "source": [
        "### IV. Prediction"
      ]
    },
    {
      "cell_type": "code",
      "metadata": {
        "colab": {
          "base_uri": "https://localhost:8080/"
        },
        "id": "JwLzbbreSLUY",
        "outputId": "9d84de13-1922-4d9d-bca1-b35d3bf63d0f"
      },
      "source": [
        "x_test_2D = x_test.values.reshape(-1, 1)\r\n",
        "\r\n",
        "y_pred = LR.predict(x_test_2D)\r\n",
        "y_pred"
      ],
      "execution_count": null,
      "outputs": [
        {
          "output_type": "execute_result",
          "data": {
            "text/plain": [
              "array([0.11965142, 0.87907312, 1.46973443, 0.16184152, 2.31353631,\n",
              "       1.59630471, 1.76506509, 0.41498208, 0.2884118 , 2.01820565,\n",
              "       1.38535424, 0.33060189, 2.10258584, 1.51192453, 1.51192453,\n",
              "       0.16184152, 1.30097406, 1.51192453, 0.24622171, 0.11965142,\n",
              "       1.46973443, 1.51192453, 1.722875  , 0.16184152, 2.14477594,\n",
              "       1.34316415, 0.20403161, 0.24622171, 1.59630471, 1.722875  ,\n",
              "       1.55411462, 2.18696603, 1.25878396, 1.97601556, 1.76506509,\n",
              "       0.24622171, 1.30097406, 0.20403161, 1.55411462, 2.06039575,\n",
              "       1.93382547, 0.20403161, 1.722875  , 1.97601556, 1.55411462])"
            ]
          },
          "metadata": {
            "tags": []
          },
          "execution_count": 67
        }
      ]
    },
    {
      "cell_type": "markdown",
      "metadata": {
        "id": "NHawJBXJUnaq"
      },
      "source": [
        "### V. MSE"
      ]
    },
    {
      "cell_type": "code",
      "metadata": {
        "colab": {
          "base_uri": "https://localhost:8080/"
        },
        "id": "wR1afembU1EC",
        "outputId": "28bbd317-8f75-49cf-9f0a-0e8f70bfea99"
      },
      "source": [
        "mse = np.mean(np.square(np.sum(y_pred - y_test)))\r\n",
        "np.round(mse, 4)"
      ],
      "execution_count": null,
      "outputs": [
        {
          "output_type": "execute_result",
          "data": {
            "text/plain": [
              "0.0047"
            ]
          },
          "metadata": {
            "tags": []
          },
          "execution_count": 68
        }
      ]
    },
    {
      "cell_type": "markdown",
      "metadata": {
        "id": "5t3f3nqhSXbZ"
      },
      "source": [
        "### VI. 기울기와 절편"
      ]
    },
    {
      "cell_type": "code",
      "metadata": {
        "colab": {
          "base_uri": "https://localhost:8080/"
        },
        "id": "MiDPMH7yTAb3",
        "outputId": "01772a0c-a035-4436-d57a-e9d09f8605c3"
      },
      "source": [
        "print(\"기울기 :\", np.round(LR.coef_, 4), \"절편 : \", np.round(LR.intercept_, 4))"
      ],
      "execution_count": null,
      "outputs": [
        {
          "output_type": "stream",
          "text": [
            "기울기 : [0.4219] 절편 :  -0.3866\n"
          ],
          "name": "stdout"
        }
      ]
    },
    {
      "cell_type": "markdown",
      "metadata": {
        "id": "06pxoiy2Tgk4"
      },
      "source": [
        "### VII. Visualization"
      ]
    },
    {
      "cell_type": "code",
      "metadata": {
        "colab": {
          "base_uri": "https://localhost:8080/",
          "height": 236
        },
        "id": "Py6ZUKVkTkSX",
        "outputId": "ee9eabb6-778a-47f3-86e0-c5a5cd07141d"
      },
      "source": [
        "LR_y = LR.intercept_ + LR.coef_*x\r\n",
        "\r\n",
        "plt.figure(figsize = (15, 5))\r\n",
        "\r\n",
        "plt.subplot(121)\r\n",
        "plt.scatter(x, y)\r\n",
        "plt.plot(x, LR_y, color = \"red\")\r\n",
        "\r\n",
        "plt.subplot(122)\r\n",
        "plt.scatter(x_test, y_test, color= \"blue\", marker = \"o\",  label = \"real\")\r\n",
        "plt.scatter(x_test, y_pred, color= \"red\", marker = \"x\", label = \"predict\")\r\n",
        "plt.legend()\r\n",
        "plt.show()"
      ],
      "execution_count": null,
      "outputs": [
        {
          "output_type": "display_data",
          "data": {
            "image/png": "[encoded data removed]",
            "text/plain": [
              "<Figure size 1080x360 with 2 Axes>"
            ]
          },
          "metadata": {
            "tags": [],
            "needs_background": "light"
          }
        }
      ]
    },
    {
      "cell_type": "markdown",
      "metadata": {
        "id": "IX8AHSquUcry"
      },
      "source": [
        "# Multi Linear Regression\r\n",
        "---"
      ]
    },
    {
      "cell_type": "markdown",
      "metadata": {
        "id": "-DahUkj5fX_G"
      },
      "source": [
        "### I. Library and Data  preparation"
      ]
    },
    {
      "cell_type": "code",
      "metadata": {
        "id": "e8mCe6SnfOHX"
      },
      "source": [
        "from sklearn.linear_model import LinearRegression\r\n",
        "  \r\n",
        "import numpy as np\r\n",
        "import pandas as pd\r\n",
        "import matplotlib.pyplot as plt"
      ],
      "execution_count": null,
      "outputs": []
    },
    {
      "cell_type": "code",
      "metadata": {
        "colab": {
          "base_uri": "https://localhost:8080/"
        },
        "id": "NITHOyVffU0H",
        "outputId": "74bb14e1-c595-45a4-892e-30bf8403e626"
      },
      "source": [
        "from sklearn.datasets import load_boston\r\n",
        "\r\n",
        "boston = load_boston()\r\n",
        "\r\n",
        "df = pd.DataFrame(data = boston.data, columns = boston.feature_names)\r\n",
        "df[\"target\"] = boston.target\r\n",
        "\r\n",
        "print(df.head(), \"\\n (행, 열) :\", df.shape)\r\n",
        "\r\n",
        "x = df.loc[ : , df.columns != \"target\"]   # target을 제외한 모든 행을 x로 선택\r\n",
        "y = df[\"target\"]\r\n",
        "print(\"x :\", x.head(), \"\\n\", \"y :\", y.head())"
      ],
      "execution_count": null,
      "outputs": [
        {
          "output_type": "stream",
          "text": [
            "      CRIM    ZN  INDUS  CHAS    NOX  ...    TAX  PTRATIO       B  LSTAT  target\n",
            "0  0.00632  18.0   2.31   0.0  0.538  ...  296.0     15.3  396.90   4.98    24.0\n",
            "1  0.02731   0.0   7.07   0.0  0.469  ...  242.0     17.8  396.90   9.14    21.6\n",
            "2  0.02729   0.0   7.07   0.0  0.469  ...  242.0     17.8  392.83   4.03    34.7\n",
            "3  0.03237   0.0   2.18   0.0  0.458  ...  222.0     18.7  394.63   2.94    33.4\n",
            "4  0.06905   0.0   2.18   0.0  0.458  ...  222.0     18.7  396.90   5.33    36.2\n",
            "\n",
            "[5 rows x 14 columns] \n",
            " (행, 열) : (506, 14)\n",
            "x :       CRIM    ZN  INDUS  CHAS    NOX  ...  RAD    TAX  PTRATIO       B  LSTAT\n",
            "0  0.00632  18.0   2.31   0.0  0.538  ...  1.0  296.0     15.3  396.90   4.98\n",
            "1  0.02731   0.0   7.07   0.0  0.469  ...  2.0  242.0     17.8  396.90   9.14\n",
            "2  0.02729   0.0   7.07   0.0  0.469  ...  2.0  242.0     17.8  392.83   4.03\n",
            "3  0.03237   0.0   2.18   0.0  0.458  ...  3.0  222.0     18.7  394.63   2.94\n",
            "4  0.06905   0.0   2.18   0.0  0.458  ...  3.0  222.0     18.7  396.90   5.33\n",
            "\n",
            "[5 rows x 13 columns] \n",
            " y : 0    24.0\n",
            "1    21.6\n",
            "2    34.7\n",
            "3    33.4\n",
            "4    36.2\n",
            "Name: target, dtype: float64\n"
          ],
          "name": "stdout"
        }
      ]
    },
    {
      "cell_type": "markdown",
      "metadata": {
        "id": "yFRH2WR-fjVa"
      },
      "source": [
        "### II. Train dataset and Test dataset"
      ]
    },
    {
      "cell_type": "code",
      "metadata": {
        "colab": {
          "base_uri": "https://localhost:8080/"
        },
        "id": "WiTr1KRehDhk",
        "outputId": "22d023a6-7139-405d-ff98-2a26aec1ecbb"
      },
      "source": [
        "from sklearn.model_selection import train_test_split\r\n",
        "\r\n",
        "x_train, x_test, y_train, y_test = train_test_split(x, y,\r\n",
        "                                                    test_size = 0.3,\r\n",
        "                                                    shuffle = True,\r\n",
        "                                                    random_state = 2)\r\n",
        "\r\n",
        "x_train.shape, x_test.shape, y_train.shape, y_test.shape"
      ],
      "execution_count": null,
      "outputs": [
        {
          "output_type": "execute_result",
          "data": {
            "text/plain": [
              "((354, 13), (152, 13), (354,), (152,))"
            ]
          },
          "metadata": {
            "tags": []
          },
          "execution_count": 4
        }
      ]
    },
    {
      "cell_type": "markdown",
      "metadata": {
        "id": "Ka5T3u8phvCQ"
      },
      "source": [
        "### III. Model Train"
      ]
    },
    {
      "cell_type": "code",
      "metadata": {
        "colab": {
          "base_uri": "https://localhost:8080/"
        },
        "id": "LNy77mGx-kr4",
        "outputId": "fc489027-ba7e-4114-b127-ae6a8429ecb8"
      },
      "source": [
        "MLR = LinearRegression()\r\n",
        "\r\n",
        "print(x_train.shape, type(x_train))\r\n",
        "\r\n",
        "MLR.fit(x_train, y_train)"
      ],
      "execution_count": null,
      "outputs": [
        {
          "output_type": "stream",
          "text": [
            "(354, 13) <class 'pandas.core.frame.DataFrame'>\n"
          ],
          "name": "stdout"
        },
        {
          "output_type": "execute_result",
          "data": {
            "text/plain": [
              "LinearRegression(copy_X=True, fit_intercept=True, n_jobs=None, normalize=False)"
            ]
          },
          "metadata": {
            "tags": []
          },
          "execution_count": 9
        }
      ]
    },
    {
      "cell_type": "markdown",
      "metadata": {
        "id": "i2cFaPTP-1IA"
      },
      "source": [
        "### IV. Prediction"
      ]
    },
    {
      "cell_type": "code",
      "metadata": {
        "colab": {
          "base_uri": "https://localhost:8080/"
        },
        "id": "xZK3fQlp_Bfy",
        "outputId": "c86bf3d7-21a5-4e98-b225-84d8fef8a0b0"
      },
      "source": [
        "y_pred = MLR.predict(x_test)\r\n",
        "y_pred"
      ],
      "execution_count": null,
      "outputs": [
        {
          "output_type": "execute_result",
          "data": {
            "text/plain": [
              "array([23.60107664, 22.04294254, 32.92377058, 31.91022563,  2.99227543,\n",
              "        2.30931786, 27.24307664, 22.22378555, 15.63121244, 22.01776894,\n",
              "       30.9081731 , 26.25867172, 20.98500214, 18.08561794, 17.48148297,\n",
              "       25.66225133, 24.17903047, 13.46872099,  8.11358881, 18.98082595,\n",
              "       21.86465498, 20.25622265, 36.91155565, 20.90909029, 20.24640709,\n",
              "       15.37190713, 37.80616835, 34.6731445 , 30.31794568, 23.04231982,\n",
              "       18.92214187, 20.75992822, 31.34205264, 29.76580943, 13.8418402 ,\n",
              "       16.3196928 , 13.75124615, 24.26067475, 25.9231117 , 22.99977788,\n",
              "       28.75660688, 12.3235743 , 31.16617755,  6.53718251, 23.88496902,\n",
              "       20.92276495, 33.16629819, 19.57388844, 36.464448  ,  0.10366224,\n",
              "       32.10365338, 31.71501622,  6.71303034, 34.63579086, 20.89498886,\n",
              "       19.84248247, 19.63295005, 18.5086544 , 15.86301943, 22.63989081,\n",
              "       19.71274635, 16.11818655, 18.44773944, 32.47889806, 35.32691618,\n",
              "       24.55178159, 40.85972609, 33.06546131, 14.79984596, 27.22346248,\n",
              "        7.22231092,  5.40484743, 22.18509672, 18.79691526, 31.28821411,\n",
              "       26.18611658, 25.1000157 , 24.89566349, 24.87200931, 24.76120408,\n",
              "       33.05790269, 19.5375041 , 20.813126  , 27.57904955, 38.33486355,\n",
              "       37.68061331, 22.50290271, 29.83622696, 31.0829611 , 17.88035954,\n",
              "       20.81248081, 19.70522757, 18.68945315, 36.59671821, 40.02398714,\n",
              "        8.84158311, 34.97892792, 29.72074037, 20.93995616, 13.52252168,\n",
              "       31.01136079, 25.02509612, 25.08720792, 23.08351924, 18.99097463,\n",
              "       31.05314082, 13.22017232, 12.27000715, 20.85365888, 11.58040063,\n",
              "       13.7579278 , 23.91570449, 16.82688399, 12.01953465, 32.33641795,\n",
              "       25.85402684, 29.27702645, 19.41717256, 24.03726576, 24.37217461,\n",
              "       30.86554207, 19.28850502, 34.19813181,  3.14759617, 41.24793565,\n",
              "       24.52680192, 20.3673788 , 23.71716561, 21.48876838, 24.93686312,\n",
              "       21.98768614, 33.94057856, 25.67683427,  7.73055699, 17.25234577,\n",
              "        8.56027948, 20.22683559, 13.26526941, 18.74592625, 25.86348445,\n",
              "       13.69974372, 18.08642449, 24.3777094 , 29.25770004, 17.4502426 ,\n",
              "       23.80044582, 12.48446916, 11.04328099, 27.24120629, 19.6972045 ,\n",
              "       44.21730159, 16.93029962])"
            ]
          },
          "metadata": {
            "tags": []
          },
          "execution_count": 7
        }
      ]
    },
    {
      "cell_type": "markdown",
      "metadata": {
        "id": "kaxsCak6AE81"
      },
      "source": [
        "### V. MSE"
      ]
    },
    {
      "cell_type": "code",
      "metadata": {
        "colab": {
          "base_uri": "https://localhost:8080/"
        },
        "id": "97NHpt-wAHug",
        "outputId": "e07a75e8-8454-415c-af36-10ef0da392b4"
      },
      "source": [
        "mse = np.mean(np.square(np.sum(y_pred - y_test)))\r\n",
        "np.round(mse, 4)"
      ],
      "execution_count": null,
      "outputs": [
        {
          "output_type": "execute_result",
          "data": {
            "text/plain": [
              "1274.3478"
            ]
          },
          "metadata": {
            "tags": []
          },
          "execution_count": 13
        }
      ]
    },
    {
      "cell_type": "markdown",
      "metadata": {
        "id": "EiwzoJkf_Vag"
      },
      "source": [
        "### VI. 기울기와 절편"
      ]
    },
    {
      "cell_type": "code",
      "metadata": {
        "colab": {
          "base_uri": "https://localhost:8080/"
        },
        "id": "tEyGudCG_r9M",
        "outputId": "17e2680b-070d-4703-b8c0-8b6a95e49b8a"
      },
      "source": [
        "print(\"기울기 : \", np.round(MLR.coef_, 4), \"절편 : \", np.round(MLR.intercept_, 4))"
      ],
      "execution_count": null,
      "outputs": [
        {
          "output_type": "stream",
          "text": [
            "기울기 :  [-9.33000e-02  3.11000e-02 -1.82000e-02  3.19560e+00 -1.51043e+01\n",
            "  3.50100e+00  1.90000e-02 -1.26550e+00  3.22200e-01 -1.09000e-02\n",
            " -1.08960e+00  1.25000e-02 -6.07600e-01] 절편 :  37.1625\n"
          ],
          "name": "stdout"
        }
      ]
    },
    {
      "cell_type": "markdown",
      "metadata": {
        "id": "OdG7WliX_2jc"
      },
      "source": [
        "### VII. Visualization"
      ]
    },
    {
      "cell_type": "code",
      "metadata": {
        "colab": {
          "base_uri": "https://localhost:8080/",
          "height": 246
        },
        "id": "KpmQP7MaAtup",
        "outputId": "dbcbbb62-0c04-4c38-c558-acb0d6e4895b"
      },
      "source": [
        "plt.figure(figsize = (15,5))\r\n",
        "\r\n",
        "plt.subplot(121)\r\n",
        "rang = list(range(0,len(y_pred)))\r\n",
        "plt.scatter(rang, y_test, color = \"red\", marker = \"^\", label = \"Real\")\r\n",
        "plt.scatter(rang, y_pred, color = \"blue\", marker = \"x\", label = \"predict\")\r\n",
        "plt.legend()\r\n",
        "\r\n",
        "\r\n",
        "# 정확할 수록 직선모양에 가깝다\r\n",
        "plt.subplot(122)\r\n",
        "plt.scatter(y_test, y_pred, alpha = 0.5)\r\n",
        "plt.xlabel(\"Real\")\r\n",
        "plt.ylabel(\"Predict\")\r\n",
        "\r\n",
        "plt.show()\r\n"
      ],
      "execution_count": null,
      "outputs": [
        {
          "output_type": "display_data",
          "data": {
            "image/png": "[encoded data removed]",
            "text/plain": [
              "<Figure size 1080x360 with 2 Axes>"
            ]
          },
          "metadata": {
            "tags": [],
            "needs_background": "light"
          }
        }
      ]
    }
  ]
}